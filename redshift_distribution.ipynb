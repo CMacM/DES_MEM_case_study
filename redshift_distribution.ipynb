{
 "cells": [
  {
   "cell_type": "code",
   "execution_count": null,
   "metadata": {},
   "outputs": [],
   "source": [
    "import astropy.io.fits as fits\n",
    "import des_functions\n",
    "import treecorr\n",
    "import numpy as np\n",
    "import matplotlib.pyplot as plt\n",
    "from more_itertools import locate\n",
    "import time\n",
    "plt.rcParams['font.family'] = 'serif'\n",
    "plt.rcParams['font.serif'] = ['cmr10']\n",
    "plt.rcParams['mathtext.fontset'] ='cm'\n",
    "data_dir = '/home/b7009348/projects/WGL_Project/DES-data/'"
   ]
  },
  {
   "cell_type": "code",
   "execution_count": null,
   "metadata": {},
   "outputs": [],
   "source": [
    "# paths to required files\n",
    "data_dir = '/home/b7009348/projects/WGL_Project/DES-data/'\n",
    "lens_file = data_dir+'DES_Y1A1_Lenses_z=0.3-0.45.fits'\n",
    "source_Zs = data_dir+'y1a1-gold-mof-badregion_BPZ.fits'\n",
    "im3_file_full = data_dir+'y1_im3_shapes_matched.fits'\n",
    "mcal_file_full = data_dir+'y1_mcal_shapes_matched.fits'"
   ]
  },
  {
   "cell_type": "code",
   "execution_count": 1,
   "metadata": {},
   "outputs": [
    {
     "ename": "NameError",
     "evalue": "name 'fits' is not defined",
     "output_type": "error",
     "traceback": [
      "\u001b[0;31m---------------------------------------------------------------------------\u001b[0m",
      "\u001b[0;31mNameError\u001b[0m                                 Traceback (most recent call last)",
      "\u001b[0;32m<ipython-input-1-0e354f9559f7>\u001b[0m in \u001b[0;36m<module>\u001b[0;34m\u001b[0m\n\u001b[0;32m----> 1\u001b[0;31m \u001b[0;32mwith\u001b[0m \u001b[0mfits\u001b[0m\u001b[0;34m.\u001b[0m\u001b[0mopen\u001b[0m\u001b[0;34m(\u001b[0m\u001b[0mim3_file_full\u001b[0m\u001b[0;34m)\u001b[0m \u001b[0;32mas\u001b[0m \u001b[0mhdu\u001b[0m\u001b[0;34m:\u001b[0m\u001b[0;34m\u001b[0m\u001b[0;34m\u001b[0m\u001b[0m\n\u001b[0m\u001b[1;32m      2\u001b[0m     \u001b[0mdata\u001b[0m \u001b[0;34m=\u001b[0m \u001b[0mhdu\u001b[0m\u001b[0;34m[\u001b[0m\u001b[0;36m1\u001b[0m\u001b[0;34m]\u001b[0m\u001b[0;34m.\u001b[0m\u001b[0mdata\u001b[0m\u001b[0;34m\u001b[0m\u001b[0;34m\u001b[0m\u001b[0m\n\u001b[1;32m      3\u001b[0m     \u001b[0mim3_ID\u001b[0m \u001b[0;34m=\u001b[0m \u001b[0mdata\u001b[0m\u001b[0;34m[\u001b[0m\u001b[0;34m'coadd_objects_id'\u001b[0m\u001b[0;34m]\u001b[0m\u001b[0;34m\u001b[0m\u001b[0;34m\u001b[0m\u001b[0m\n\u001b[1;32m      4\u001b[0m     \u001b[0mim3_weight\u001b[0m \u001b[0;34m=\u001b[0m \u001b[0mdata\u001b[0m\u001b[0;34m[\u001b[0m\u001b[0;34m'weight'\u001b[0m\u001b[0;34m]\u001b[0m\u001b[0;34m\u001b[0m\u001b[0;34m\u001b[0m\u001b[0m\n\u001b[1;32m      5\u001b[0m \u001b[0;34m\u001b[0m\u001b[0m\n",
      "\u001b[0;31mNameError\u001b[0m: name 'fits' is not defined"
     ]
    }
   ],
   "source": [
    "with fits.open(im3_file_full) as hdu:\n",
    "    data = hdu[1].data\n",
    "    im3_ID = data['coadd_objects_id']\n",
    "    im3_weight = data['weight']\n",
    "    \n",
    "del data\n",
    "\n",
    "with fits.open(mcal_file_full) as hdu:\n",
    "    data = hdu[1].data\n",
    "    mcal_weight = data['R11']\n",
    "    \n",
    "del data\n",
    "\n",
    "# load in z_mc for all sources\n",
    "with fits.open(source_Zs) as hdu:\n",
    "    data = hdu[1].data\n",
    "    source_zmc = data['Z_MC']\n",
    "    zmc_ID = data['COADD_OBJECTS_ID']\n",
    "    \n",
    "del data\n",
    "\n",
    "# match z_mc values to source IDs\n",
    "matches, zmc_indices, shape_indices = np.intersect1d(zmc_ID, im3_ID, return_indices=True)\n",
    "\n",
    "# slice z_mc values to only to those in matched catalogue\n",
    "source_zmc = source_zmc[zmc_indices]\n",
    "\n",
    "# delete uneccessary arrays\n",
    "del matches, zmc_indices, shape_indices, zmc_ID, im3_ID"
   ]
  },
  {
   "cell_type": "code",
   "execution_count": null,
   "metadata": {},
   "outputs": [],
   "source": [
    "nbins = 500\n",
    "\n",
    "mcal_counts, mcal_bins = np.histogram(source_zmc, bins=nbins)#, weights=mcal_weight)\n",
    "im3_counts, im3_bins = np.histogram(source_zmc, bins=nbins)#, weights=im3_weight)\n",
    "\n",
    "plt.figure()\n",
    "plt.hist(mcal_bins[:-1], mcal_bins, weights=mcal_counts, density=True, histtype='stepfilled', color='orange', linestyle='-', linewidth=1)\n",
    "plt.hist(im3_bins[:-1], im3_bins, weights=im3_counts, density=True, histtype='step', color='navy', linestyle='--', linewidth=1)\n",
    "plt.legend(labels=('METACALIBRATION weighted n(z)', 'IM3SHAPE weighted n(z)'))\n",
    "plt.savefig('effective_n(z)_comparison.png', dpi=300)"
   ]
  }
 ],
 "metadata": {
  "kernelspec": {
   "display_name": "Python 3",
   "language": "python",
   "name": "python3"
  },
  "language_info": {
   "codemirror_mode": {
    "name": "ipython",
    "version": 3
   },
   "file_extension": ".py",
   "mimetype": "text/x-python",
   "name": "python",
   "nbconvert_exporter": "python",
   "pygments_lexer": "ipython3",
   "version": "3.8.5"
  }
 },
 "nbformat": 4,
 "nbformat_minor": 4
}
