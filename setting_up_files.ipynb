{
 "cells": [
  {
   "cell_type": "code",
   "execution_count": 24,
   "id": "140a0e24-acfa-4073-aea5-b1e079172a80",
   "metadata": {},
   "outputs": [],
   "source": [
    "import des_functions as des\n",
    "import astropy.io.fits as fits \n",
    "import numpy as np"
   ]
  },
  {
   "cell_type": "code",
   "execution_count": 17,
   "id": "4f603949-b906-4ec0-9ac2-7b1d5b507d3b",
   "metadata": {},
   "outputs": [],
   "source": [
    "data_dir = '/home/b7009348/WGL_project/DES-data/'\n",
    "im3file = 'y1_im3shape_shapes.fits'\n",
    "mcalfile = 'y1_metacalibration_shapes.fits'\n",
    "lensfile = 'DES_Y1A1_3x2pt_redMaGiC_zerr_CATALOG.fits'"
   ]
  },
  {
   "cell_type": "markdown",
   "id": "49832d93-8981-4a65-bd97-c127abce477b",
   "metadata": {},
   "source": [
    "### Create matched catalogues"
   ]
  },
  {
   "cell_type": "code",
   "execution_count": 8,
   "id": "dffa222c-12cd-452b-bf7b-86ecb641d14c",
   "metadata": {},
   "outputs": [
    {
     "name": "stdout",
     "output_type": "stream",
     "text": [
      "Opening file...\n",
      "Locating flags...\n",
      "Flags located, slicing data...\n",
      "Data sliced, writing to new file...\n",
      "Runtime: 408.955\n"
     ]
    }
   ],
   "source": [
    "des.cut_flags(im3file, method='im3')"
   ]
  },
  {
   "cell_type": "code",
   "execution_count": 9,
   "id": "b9b6a383-1019-4669-9753-2786fef56cd4",
   "metadata": {},
   "outputs": [
    {
     "name": "stdout",
     "output_type": "stream",
     "text": [
      "Opening file...\n",
      "Locating flags...\n",
      "Flags located, slicing data...\n",
      "Data sliced, writing to new file...\n",
      "Runtime: 596.622\n"
     ]
    }
   ],
   "source": [
    "des.cut_flags(mcalfile, method='mcal')"
   ]
  },
  {
   "cell_type": "code",
   "execution_count": 12,
   "id": "9f756543-a3e2-44bd-a730-0c82bb64e59e",
   "metadata": {},
   "outputs": [],
   "source": [
    "im3cut = 'y1_im3_flags=0.fits'\n",
    "mcalcut = 'y1_mcal_flags=0.fits'"
   ]
  },
  {
   "cell_type": "code",
   "execution_count": 13,
   "id": "81b21d55-b5e2-4cf4-9c53-2e7a4e05311a",
   "metadata": {},
   "outputs": [
    {
     "name": "stdout",
     "output_type": "stream",
     "text": [
      "Opening files and collecting IDs...\n",
      "Finding ID intersections between catalogues...\n",
      "Slicing im3 data...\n",
      "Saving im3 data to new file...\n",
      "Slicing mcal data...\n",
      "Saving mcal data to new file...\n",
      "Runtime: 167.514\n"
     ]
    }
   ],
   "source": [
    "des.match_catalogues(im3cut, mcalcut)"
   ]
  },
  {
   "cell_type": "markdown",
   "id": "263f5615-8170-4a97-8a87-270453fbe9df",
   "metadata": {},
   "source": [
    "### Cut lens file to redshift bins"
   ]
  },
  {
   "cell_type": "code",
   "execution_count": 16,
   "id": "4381b38c-391e-4806-9788-e5ecfe2ded11",
   "metadata": {},
   "outputs": [
    {
     "name": "stdout",
     "output_type": "stream",
     "text": [
      "Opening files...\n",
      "Locating lenses in range 0.15 - 0.3...\n",
      "Lenses in range found, slicing data...\n",
      "Data sliced, writing to new file...\n",
      "Runtime: 0.323036\n",
      "Opening files...\n",
      "Locating lenses in range 0.3 - 0.45...\n",
      "Lenses in range found, slicing data...\n",
      "Data sliced, writing to new file...\n",
      "Runtime: 0.223156\n",
      "Opening files...\n",
      "Locating lenses in range 0.45 - 0.6...\n",
      "Lenses in range found, slicing data...\n",
      "Data sliced, writing to new file...\n",
      "Runtime: 0.254078\n",
      "Opening files...\n",
      "Locating lenses in range 0.6 - 0.75...\n",
      "Lenses in range found, slicing data...\n",
      "Data sliced, writing to new file...\n",
      "Runtime: 0.17903\n",
      "Opening files...\n",
      "Locating lenses in range 0.75 - 0.9...\n",
      "Lenses in range found, slicing data...\n",
      "Data sliced, writing to new file...\n",
      "Runtime: 0.120048\n"
     ]
    }
   ],
   "source": [
    "zmins = [0.15, 0.3, 0.45, 0.6, 0.75]\n",
    "zmaxes = [0.3, 0.45, 0.6, 0.75, 0.9]\n",
    "\n",
    "for i in range(len(zmins)):\n",
    "    des.cut_lenses(lensfile, zmin=zmins[i], zmax=zmaxes[i])"
   ]
  },
  {
   "cell_type": "code",
   "execution_count": 37,
   "id": "ede4a184-fd48-4f06-b520-6df210ef6595",
   "metadata": {},
   "outputs": [
    {
     "name": "stdout",
     "output_type": "stream",
     "text": [
      "[0.60665101 0.75841734 0.5558117  0.38036769 0.55060793 0.72466638\n",
      " 0.7665155  0.39161666 0.81743216 0.56185216 0.588664   0.72556132\n",
      " 0.68375169 0.39828169 0.52727928 0.57528516 0.51934412 0.15935734\n",
      " 0.42635154 0.4345799  0.54687084 0.6004347  0.66829115 1.22923187\n",
      " 0.74147026 0.36966527 0.55676381 0.58957402 0.57640072 1.85024672\n",
      " 0.90311004 0.70949947 0.40480887 1.15256515 0.33973879 0.55827419\n",
      " 0.54995844 0.54006263 0.17221275 0.41940862 0.52035198 0.80727027\n",
      " 0.77921625 0.31700657 0.46681015 0.60523807 0.44839105 0.39352846\n",
      " 0.56669034 0.24961818 0.5682254  0.74203581 0.60262433 0.6616984\n",
      " 0.59305682 0.45370383 0.75364946 0.20108613 0.79143474 0.38851053\n",
      " 0.26374194 1.16554482 0.17600577 0.39104126 0.4792088  0.28337241\n",
      " 0.25613946 0.51806885 0.57506667 0.69267213 0.49493904 0.73855338\n",
      " 0.11795292 0.57877357 0.88281684 0.62706659 0.65176542 0.53288337\n",
      " 0.61592318 0.67389907 0.5826633  0.77788746 0.47408564 0.43281417\n",
      " 0.65729555 0.66591052 0.75069829 0.60004665 0.28698727 0.19351887\n",
      " 0.41134709 0.39919565 0.74093821 0.50712856 0.6214097  0.72821758\n",
      " 0.63758033 0.75350044 2.15185395 0.55569941]\n"
     ]
    }
   ],
   "source": [
    "with fits.open(data_dir+'y1_im3_shapes_matched.fits') as hdu:\n",
    "    data = hdu[1].data\n",
    "    im3_ID = data['coadd_objects_id']\n",
    "del data\n",
    "\n",
    "# load in z_mc for all sources\n",
    "with fits.open(data_dir+'mcal_BPZ_(binning).fits') as hdu:\n",
    "    data = hdu[1].data\n",
    "    im3_zmc = data['z_mc']\n",
    "    zmc_ID = data['coadd_objects_id']\n",
    "del data\n",
    "\n",
    "# match z_mc values to source IDs\n",
    "matches, zmc_indices, shape_indices = np.intersect1d(zmc_ID, im3_ID, return_indices=True)\n",
    "\n",
    "# slice z_mc values to only to those in matched catalogue\n",
    "im3_zmc = im3_zmc[zmc_indices]\n",
    "\n",
    "print(im3_zmc[100:200])\n",
    "\n",
    "del matches, zmc_indices, shape_indices, zmc_ID, im3_ID"
   ]
  },
  {
   "cell_type": "code",
   "execution_count": 46,
   "id": "54b2d112-8ad1-4b76-93ff-b312d06dd126",
   "metadata": {},
   "outputs": [
    {
     "name": "stdout",
     "output_type": "stream",
     "text": [
      "yikes\n"
     ]
    }
   ],
   "source": [
    "x = np.isnan(im3_zmc)\n",
    "if x.any() == True:\n",
    "    print('yikes')"
   ]
  },
  {
   "cell_type": "code",
   "execution_count": 28,
   "id": "c7f5e041-e071-45e7-8eb2-985107f2c850",
   "metadata": {},
   "outputs": [
    {
     "name": "stdout",
     "output_type": "stream",
     "text": [
      "[0.57054426 0.68682418 0.54534949 0.58047495 0.3845813  0.77290494\n",
      " 0.67648208 0.43320593 0.7910586  0.29173101 0.63485931 0.6551489\n",
      " 0.62785127 0.44386425 0.57018634 0.58110151 0.56906392 0.09365372\n",
      " 0.42350288 0.38641842 0.28892036 0.73161776 0.59433493 1.01790242\n",
      " 0.69441394 0.57030637 0.34025371 0.55797283 0.77906071 2.10822018\n",
      " 0.79504588 0.79689796 0.20804606 0.20086831 0.3613483  0.15532033\n",
      " 0.59125006 0.18985658 0.42483064 0.50202849 0.47222988 0.75362123\n",
      " 0.70048697 0.32275801 0.55538035 0.69982425 0.3222205  0.34223948\n",
      " 0.53289972 0.6282572  0.5780427  0.88159896 0.91829414 0.79065519\n",
      " 0.55122689 0.51032127 1.85619327 0.16443794 0.73669616 0.44454861\n",
      " 0.3697183  1.18908265 0.10417111 0.30441146 0.20180837 0.22436716\n",
      " 0.55639066 0.57957825 0.52521115 0.59577409 0.51491974 0.76630074\n",
      " 0.12424476 0.24281978 0.86172354 0.73480898 0.45817866 0.43311511\n",
      " 0.19900989 0.54905832 0.5350536  0.77203373 0.40875619 0.40205463\n",
      " 0.6619122  0.86279038 0.70184616 0.25846367 0.56989483 0.39491523\n",
      " 0.4281364  0.4433293  0.62553256 0.23585989 0.62131945 0.72258447\n",
      " 0.60040485 0.8470009  1.64479141 0.24107071]\n"
     ]
    }
   ],
   "source": [
    "with fits.open(data_dir+'y1_im3_shapes_matched.fits') as hdu:\n",
    "    data = hdu[1].data\n",
    "    im3_ID = data['coadd_objects_id']\n",
    "del data\n",
    "\n",
    "# load in z_mc for all sources\n",
    "with fits.open(data_dir+'mof_BPZ_(stacking).fits') as hdu:\n",
    "    data = hdu[1].data\n",
    "    im3_zmc = data['z_mc']\n",
    "    zmc_ID = data['coadd_objects_id']\n",
    "del data\n",
    "\n",
    "# match z_mc values to source IDs\n",
    "matches, zmc_indices, shape_indices = np.intersect1d(zmc_ID, im3_ID, return_indices=True)\n",
    "\n",
    "# slice z_mc values to only to those in matched catalogue\n",
    "im3_zmc = im3_zmc[zmc_indices]\n",
    "\n",
    "print(im3_zmc[100:200])\n",
    "\n",
    "del matches, zmc_indices, shape_indices, zmc_ID, im3_ID"
   ]
  }
 ],
 "metadata": {
  "kernelspec": {
   "display_name": "Python 3",
   "language": "python",
   "name": "python3"
  },
  "language_info": {
   "codemirror_mode": {
    "name": "ipython",
    "version": 3
   },
   "file_extension": ".py",
   "mimetype": "text/x-python",
   "name": "python",
   "nbconvert_exporter": "python",
   "pygments_lexer": "ipython3",
   "version": "3.8.0"
  }
 },
 "nbformat": 4,
 "nbformat_minor": 5
}
