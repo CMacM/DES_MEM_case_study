{
 "cells": [
  {
   "cell_type": "code",
   "execution_count": 1,
   "id": "140a0e24-acfa-4073-aea5-b1e079172a80",
   "metadata": {},
   "outputs": [],
   "source": [
    "import des_functions as des"
   ]
  },
  {
   "cell_type": "code",
   "execution_count": 15,
   "id": "4f603949-b906-4ec0-9ac2-7b1d5b507d3b",
   "metadata": {},
   "outputs": [],
   "source": [
    "im3file = 'y1_im3shape_shapes.fits'\n",
    "mcalfile = 'y1_metacalibration_shapes.fits'\n",
    "lensfile = 'DES_Y1A1_3x2pt_redMaGiC_zerr_CATALOG.fits'"
   ]
  },
  {
   "cell_type": "markdown",
   "id": "49832d93-8981-4a65-bd97-c127abce477b",
   "metadata": {},
   "source": [
    "### Create matched catalogues"
   ]
  },
  {
   "cell_type": "code",
   "execution_count": 8,
   "id": "dffa222c-12cd-452b-bf7b-86ecb641d14c",
   "metadata": {},
   "outputs": [
    {
     "name": "stdout",
     "output_type": "stream",
     "text": [
      "Opening file...\n",
      "Locating flags...\n",
      "Flags located, slicing data...\n",
      "Data sliced, writing to new file...\n",
      "Runtime: 408.955\n"
     ]
    }
   ],
   "source": [
    "des.cut_flags(im3file, method='im3')"
   ]
  },
  {
   "cell_type": "code",
   "execution_count": 9,
   "id": "b9b6a383-1019-4669-9753-2786fef56cd4",
   "metadata": {},
   "outputs": [
    {
     "name": "stdout",
     "output_type": "stream",
     "text": [
      "Opening file...\n",
      "Locating flags...\n",
      "Flags located, slicing data...\n",
      "Data sliced, writing to new file...\n",
      "Runtime: 596.622\n"
     ]
    }
   ],
   "source": [
    "des.cut_flags(mcalfile, method='mcal')"
   ]
  },
  {
   "cell_type": "code",
   "execution_count": 12,
   "id": "9f756543-a3e2-44bd-a730-0c82bb64e59e",
   "metadata": {},
   "outputs": [],
   "source": [
    "im3cut = 'y1_im3_flags=0.fits'\n",
    "mcalcut = 'y1_mcal_flags=0.fits'"
   ]
  },
  {
   "cell_type": "code",
   "execution_count": 13,
   "id": "81b21d55-b5e2-4cf4-9c53-2e7a4e05311a",
   "metadata": {},
   "outputs": [
    {
     "name": "stdout",
     "output_type": "stream",
     "text": [
      "Opening files and collecting IDs...\n",
      "Finding ID intersections between catalogues...\n",
      "Slicing im3 data...\n",
      "Saving im3 data to new file...\n",
      "Slicing mcal data...\n",
      "Saving mcal data to new file...\n",
      "Runtime: 167.514\n"
     ]
    }
   ],
   "source": [
    "des.match_catalogues(im3cut, mcalcut)"
   ]
  },
  {
   "cell_type": "markdown",
   "id": "263f5615-8170-4a97-8a87-270453fbe9df",
   "metadata": {},
   "source": [
    "### Cut lens file to redshift bins"
   ]
  },
  {
   "cell_type": "code",
   "execution_count": 16,
   "id": "4381b38c-391e-4806-9788-e5ecfe2ded11",
   "metadata": {},
   "outputs": [
    {
     "name": "stdout",
     "output_type": "stream",
     "text": [
      "Opening files...\n",
      "Locating lenses in range 0.15 - 0.3...\n",
      "Lenses in range found, slicing data...\n",
      "Data sliced, writing to new file...\n",
      "Runtime: 0.323036\n",
      "Opening files...\n",
      "Locating lenses in range 0.3 - 0.45...\n",
      "Lenses in range found, slicing data...\n",
      "Data sliced, writing to new file...\n",
      "Runtime: 0.223156\n",
      "Opening files...\n",
      "Locating lenses in range 0.45 - 0.6...\n",
      "Lenses in range found, slicing data...\n",
      "Data sliced, writing to new file...\n",
      "Runtime: 0.254078\n",
      "Opening files...\n",
      "Locating lenses in range 0.6 - 0.75...\n",
      "Lenses in range found, slicing data...\n",
      "Data sliced, writing to new file...\n",
      "Runtime: 0.17903\n",
      "Opening files...\n",
      "Locating lenses in range 0.75 - 0.9...\n",
      "Lenses in range found, slicing data...\n",
      "Data sliced, writing to new file...\n",
      "Runtime: 0.120048\n"
     ]
    }
   ],
   "source": [
    "zmins = [0.15, 0.3, 0.45, 0.6, 0.75]\n",
    "zmaxes = [0.3, 0.45, 0.6, 0.75, 0.9]\n",
    "\n",
    "for i in range(len(zmins)):\n",
    "    des.cut_lenses(lensfile, zmin=zmins[i], zmax=zmaxes[i])"
   ]
  }
 ],
 "metadata": {
  "kernelspec": {
   "display_name": "Python 3",
   "language": "python",
   "name": "python3"
  },
  "language_info": {
   "codemirror_mode": {
    "name": "ipython",
    "version": 3
   },
   "file_extension": ".py",
   "mimetype": "text/x-python",
   "name": "python",
   "nbconvert_exporter": "python",
   "pygments_lexer": "ipython3",
   "version": "3.8.0"
  }
 },
 "nbformat": 4,
 "nbformat_minor": 5
}
