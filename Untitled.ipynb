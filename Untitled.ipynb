{
 "cells": [
  {
   "cell_type": "code",
   "execution_count": 6,
   "id": "bf3ca6fe-f1c6-4096-ba33-d0aaf811ce6c",
   "metadata": {},
   "outputs": [],
   "source": [
    "import des_functions as des\n",
    "import astropy.io.fits as fits \n",
    "import numpy as np"
   ]
  },
  {
   "cell_type": "code",
   "execution_count": 7,
   "id": "07355c1e-06fb-4158-a91a-c623ca348ed3",
   "metadata": {},
   "outputs": [],
   "source": [
    "data_dir = '/home/b7009348/WGL_project/DES-data/'\n",
    "im3file = 'y1_im3shape_shapes.fits'\n",
    "mcalfile = 'y1_metacalibration_shapes.fits'\n",
    "lensfile = 'DES_Y1A1_3x2pt_redMaGiC_zerr_CATALOG.fits'"
   ]
  },
  {
   "cell_type": "code",
   "execution_count": 10,
   "id": "7ed1d0a0-8947-4fad-953c-1b7c53b5ab61",
   "metadata": {},
   "outputs": [
    {
     "name": "stdout",
     "output_type": "stream",
     "text": [
      "[0.62702795 0.55534724 0.38696007 0.54346885 0.60665101 0.75841734\n",
      " 0.5558117  0.38036769 0.55060793 0.72466638 0.7665155  0.39161666\n",
      " 0.81743216 0.56185216 0.588664   0.68375169        nan 0.39828169\n",
      "        nan 0.52727928        nan        nan 0.04512074 0.57528516\n",
      " 0.51934412 0.15935734 0.42635154 0.4345799  0.54687084 0.6004347\n",
      " 0.66829115 1.22923187 0.74147026 0.36966527 0.55676381        nan\n",
      " 0.58957402 0.57640072 1.85024672 0.90311004        nan 0.70949947\n",
      " 0.40480887 0.26830646 0.41633249 1.15256515 0.33973879 0.55827419\n",
      " 0.54995844        nan 0.54006263 0.17221275        nan 0.64841755\n",
      " 0.52035198 0.80727027        nan 0.77921625 0.31700657 0.55920652\n",
      " 0.46681015        nan 0.60523807 0.39352846 0.24961818 0.5682254\n",
      " 0.74203581 0.55289367 0.6616984  0.59305682 0.45370383 0.75364946\n",
      " 0.20108613 0.79143474 0.38851053 1.16554482 0.17600577 1.55559856\n",
      " 0.39104126 0.92574001 0.4792088  0.28337241 0.25613946 0.65852705\n",
      " 0.51806885 0.57506667 0.69267213 0.49493904 0.73855338 0.57877357\n",
      " 0.88281684 0.56677228 0.62706659 0.65176542 0.53288337 0.61592318\n",
      " 0.67389907 0.5826633  0.77788746 0.47408564]\n",
      "yikes\n"
     ]
    }
   ],
   "source": [
    "with fits.open(data_dir+'y1_im3_shapes_matched.fits') as hdu:\n",
    "    data = hdu[1].data\n",
    "    im3_ID = data['coadd_objects_id']\n",
    "del data\n",
    "\n",
    "# load in z_mc for all sources\n",
    "with fits.open(data_dir+'mcal_BPZ_(binning).fits') as hdu:\n",
    "    data = hdu[1].data\n",
    "    im3_zmc = data['z_mc']\n",
    "    zmc_ID = data['coadd_objects_id']\n",
    "del data\n",
    "\n",
    "# match z_mc values to source IDs\n",
    "matches, zmc_indices, shape_indices = np.intersect1d(zmc_ID, im3_ID, return_indices=True)\n",
    "\n",
    "# slice z_mc values to only to those in matched catalogue\n",
    "im3_zmc = im3_zmc[zmc_indices]\n",
    "\n",
    "print(im3_zmc[100:200])\n",
    "\n",
    "del matches, zmc_indices, shape_indices, zmc_ID, im3_ID\n",
    "\n",
    "x = np.isnan(im3_zmc)\n",
    "if x.any() == True:\n",
    "    print('yikes')"
   ]
  },
  {
   "cell_type": "code",
   "execution_count": 11,
   "id": "61243d53-db05-4f5f-a397-29bb65102bb4",
   "metadata": {},
   "outputs": [
    {
     "name": "stdout",
     "output_type": "stream",
     "text": [
      "17814587\n"
     ]
    }
   ],
   "source": [
    "print(np.size(im3_zmc))"
   ]
  }
 ],
 "metadata": {
  "kernelspec": {
   "display_name": "Python 3",
   "language": "python",
   "name": "python3"
  },
  "language_info": {
   "codemirror_mode": {
    "name": "ipython",
    "version": 3
   },
   "file_extension": ".py",
   "mimetype": "text/x-python",
   "name": "python",
   "nbconvert_exporter": "python",
   "pygments_lexer": "ipython3",
   "version": "3.8.0"
  }
 },
 "nbformat": 4,
 "nbformat_minor": 5
}
