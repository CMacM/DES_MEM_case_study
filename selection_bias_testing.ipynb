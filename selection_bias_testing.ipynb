{
 "cells": [
  {
   "cell_type": "code",
   "execution_count": 9,
   "id": "e3053d3d-314a-4770-9a7d-d7245d0242e8",
   "metadata": {},
   "outputs": [],
   "source": [
    "import numpy as np\n",
    "import scipy as sp\n",
    "import matplotlib.pyplot as plt\n",
    "import astropy.io.fits as fits\n",
    "import des_functions as des\n",
    "from more_itertools import locate\n",
    "\n",
    "datdir = '/home/b7009348/WGL_project/DES-data/'\n",
    "matched = 'y1_mcal_shapes_matched.fits'\n",
    "full = 'y1_mcal_flags=0.fits'\n",
    "\n",
    "plt.rcParams['font.family'] = 'serif'\n",
    "plt.rcParams['font.serif'] = ['cmr10']\n",
    "plt.rcParams['mathtext.fontset'] ='cm'\n",
    "plt.rcParams['figure.facecolor'] = 'white'\n",
    "plt.rc('axes', unicode_minus=False)\n",
    "plt.rc('axes.formatter', use_mathtext=True)"
   ]
  },
  {
   "cell_type": "markdown",
   "id": "85853001-865f-4b59-88c7-026092b86cc4",
   "metadata": {},
   "source": [
    "### First we will load just the SNR data and investigate how different signal to nosie cuts affect the distributions\n",
    "- I'm going to make some histograming and cutting functions to expediate this process"
   ]
  },
  {
   "cell_type": "code",
   "execution_count": 2,
   "id": "6a6a6fd8-bff2-4558-b150-5a7283f51370",
   "metadata": {},
   "outputs": [],
   "source": [
    "def cut_data(data, dat_min, dat_max):\n",
    "    \n",
    "    print('Locating cut...')\n",
    "    indexes = list(locate(data, lambda x: dat_min <= x <= dat_max))\n",
    "    print('Located, slicing data...')\n",
    "    data = data[indexes]\n",
    "    \n",
    "    return data"
   ]
  },
  {
   "cell_type": "code",
   "execution_count": 169,
   "id": "a1369be3-619e-4e8e-a819-89070c754063",
   "metadata": {},
   "outputs": [],
   "source": [
    "def gram_it(full_data, cut_data, nbins, plot_it=True):\n",
    "    \n",
    "    fullCounts, fullBins = np.histogram(full_data, bins=np.logspace(np.log10(np.min(full_data)), np.log10(np.max(full_data)), nbins))\n",
    "    \n",
    "    cutCounts, cutBins = np.histogram(cut_data, bins=np.logspace(np.log10(np.min(cut_data)), np.log10(np.max(cut_data)), nbins))\n",
    "    \n",
    "    if plot_it==True:\n",
    "        plt.stairs(fullCounts, fullBins, color='blue')\n",
    "        plt.stairs(cutCounts, cutBins, color='orange')\n",
    "        plt.axvline(np.mean(cut_data), color='orange')\n",
    "        plt.axvline(np.mean(full_data), color='blue')\n",
    "        plt.xscale('log')\n",
    "        plt.legend(['Full', 'Cut'])\n",
    "        plt.show()\n",
    "        \n",
    "    return fullCounts, fullBins, cutCounts, cutBins"
   ]
  },
  {
   "cell_type": "code",
   "execution_count": 7,
   "id": "7ac1957c-b48d-4901-afbe-12c20b500120",
   "metadata": {},
   "outputs": [],
   "source": [
    "with fits.open(datdir+full) as hdu:\n",
    "    data = hdu[1].data\n",
    "    full_snr = data['snr']\n",
    "    del data\n",
    "\n",
    "with fits.open(datdir+matched) as hdu:\n",
    "    data = hdu[1].data\n",
    "    match_snr = data['snr']\n",
    "    del data"
   ]
  },
  {
   "cell_type": "code",
   "execution_count": 172,
   "id": "da0d72ed-1c5b-44f9-94e3-b37605214dd9",
   "metadata": {},
   "outputs": [
    {
     "name": "stdout",
     "output_type": "stream",
     "text": [
      "23.028140200918877 28.10663231069848\n"
     ]
    }
   ],
   "source": [
    "print(np.median(full_snr), np.median(match_snr))"
   ]
  },
  {
   "cell_type": "code",
   "execution_count": 145,
   "id": "7efd20bf-32d0-467f-b845-7c5920bcb483",
   "metadata": {},
   "outputs": [
    {
     "name": "stdout",
     "output_type": "stream",
     "text": [
      "974749.8409404345 8208694.963290713\n"
     ]
    }
   ],
   "source": [
    "print(np.max(match_snr), np.max(full_snr))"
   ]
  },
  {
   "cell_type": "code",
   "execution_count": 170,
   "id": "e21a9452-4ca0-4027-b7ba-942acdec6566",
   "metadata": {},
   "outputs": [
    {
     "data": {
      "image/png": "[encoded data removed]",
      "text/plain": [
       "<Figure size 640x480 with 1 Axes>"
      ]
     },
     "metadata": {},
     "output_type": "display_data"
    }
   ],
   "source": [
    "hist_data = zip(gram_it(full_snr, match_snr, 500))"
   ]
  },
  {
   "cell_type": "markdown",
   "id": "ac750242-d833-48d3-8b4e-977208628c57",
   "metadata": {},
   "source": [
    "### Functions are set up, so now we can start experimenting with different cuts\n",
    "- Based off above plot, it looks like cutting below a signal to noise of 30 might approximate it"
   ]
  },
  {
   "cell_type": "code",
   "execution_count": 17,
   "id": "138b48b1-72a6-408a-9fdb-edfaf5408ad5",
   "metadata": {},
   "outputs": [
    {
     "name": "stdout",
     "output_type": "stream",
     "text": [
      "Locating cut...\n",
      "Located, slicing data...\n"
     ]
    }
   ],
   "source": [
    "snr_30 = cut_data(full_snr, 30., np.inf)"
   ]
  },
  {
   "cell_type": "code",
   "execution_count": 20,
   "id": "9f976ee0-db44-4351-ac71-1ea095ebadb6",
   "metadata": {},
   "outputs": [
    {
     "name": "stdout",
     "output_type": "stream",
     "text": [
      "17814587 13756351\n"
     ]
    }
   ],
   "source": [
    "print(np.size(match_snr),np.size(snr_30))"
   ]
  },
  {
   "cell_type": "markdown",
   "id": "abff5878-1fb2-4544-8ba9-78bd0cb4104d",
   "metadata": {},
   "source": [
    "- Ok this is actually too small, so I can be more lenient"
   ]
  },
  {
   "cell_type": "code",
   "execution_count": 22,
   "id": "87596b79-9b9b-4dc5-841e-e70333b0d223",
   "metadata": {},
   "outputs": [
    {
     "name": "stdout",
     "output_type": "stream",
     "text": [
      "Locating cut...\n",
      "Located, slicing data...\n",
      "17814587 19668751\n"
     ]
    }
   ],
   "source": [
    "snr_20 = cut_data(full_snr, 20., np.inf)\n",
    "print(np.size(match_snr),np.size(snr_20))"
   ]
  },
  {
   "cell_type": "markdown",
   "id": "e1bd8e8e-2be2-42d5-9e70-3c108e62ee21",
   "metadata": {},
   "source": [
    "- getting closer.."
   ]
  },
  {
   "cell_type": "code",
   "execution_count": 25,
   "id": "383303e1-0dab-4ffc-9084-2c937b864db9",
   "metadata": {},
   "outputs": [
    {
     "name": "stdout",
     "output_type": "stream",
     "text": [
      "Locating cut...\n",
      "Located, slicing data...\n",
      "17814587 17775174\n"
     ]
    }
   ],
   "source": [
    "snr_22p5 = cut_data(full_snr, 22.5, np.inf)\n",
    "print(np.size(match_snr), np.size(snr_22p5))"
   ]
  },
  {
   "cell_type": "markdown",
   "id": "0c1d2b60-a91d-4c92-b4ac-5064723f4f94",
   "metadata": {},
   "source": [
    "#### This looks reasonable, so now lets plot it"
   ]
  },
  {
   "cell_type": "code",
   "execution_count": 26,
   "id": "c0188c96-81d3-412b-9ad5-fe63133db746",
   "metadata": {},
   "outputs": [
    {
     "data": {
      "image/png": "[encoded data removed]",
      "text/plain": [
       "<Figure size 640x480 with 1 Axes>"
      ]
     },
     "metadata": {},
     "output_type": "display_data"
    }
   ],
   "source": [
    "snr22p5_hist = zip(gram_it(match_snr, snr_22p5, 500))"
   ]
  },
  {
   "cell_type": "markdown",
   "id": "3a67ddea-29bd-411b-805d-fbe00c67c79f",
   "metadata": {},
   "source": [
    "- Ok, we have a similar size but the distributions are clearly different"
   ]
  },
  {
   "cell_type": "code",
   "execution_count": 27,
   "id": "081732b7-133a-4d5b-8d3c-e11e971ab3d9",
   "metadata": {},
   "outputs": [
    {
     "name": "stdout",
     "output_type": "stream",
     "text": [
      "42.3329161710491 94.5905667897201\n"
     ]
    }
   ],
   "source": [
    "print(np.mean(match_snr), np.mean(snr_22p5))"
   ]
  },
  {
   "cell_type": "code",
   "execution_count": 90,
   "id": "fbafb4c2-542c-4e0b-a3aa-510891a121a8",
   "metadata": {},
   "outputs": [],
   "source": [
    "del snr_30, snr_20, snr_22p5, snr22p5_hist"
   ]
  },
  {
   "cell_type": "markdown",
   "id": "a8d67b58-4230-435e-8b87-a0969938d64a",
   "metadata": {},
   "source": [
    "- Can we get closer to the mean by being smarter about our cut?"
   ]
  },
  {
   "cell_type": "code",
   "execution_count": 60,
   "id": "2d0a96b2-e4e6-4912-9322-2fee626a6cd6",
   "metadata": {},
   "outputs": [
    {
     "name": "stdout",
     "output_type": "stream",
     "text": [
      "Locating cut...\n",
      "Located, slicing data...\n",
      "17814587 17803545\n",
      "42.3329161710491 42.81657012040434\n",
      "422.58429144105503 23.64352292506715\n"
     ]
    }
   ],
   "source": [
    "snr_esti = cut_data(full_snr, 18.5, 116.)\n",
    "print(np.size(match_snr), np.size(snr_esti))\n",
    "print(np.mean(match_snr), np.mean(snr_esti))\n",
    "print(np.std(match_snr), np.std(snr_esti))"
   ]
  },
  {
   "cell_type": "code",
   "execution_count": 58,
   "id": "ffe136c2-7ab3-4e6f-b201-9ca22fadbe7f",
   "metadata": {},
   "outputs": [
    {
     "data": {
      "image/png": "[encoded data removed]",
      "text/plain": [
       "<Figure size 640x480 with 1 Axes>"
      ]
     },
     "metadata": {},
     "output_type": "display_data"
    }
   ],
   "source": [
    "matchCounts, matchBins, cutCounts, cutBins = gram_it(match_snr, snr_esti, 500)"
   ]
  },
  {
   "cell_type": "code",
   "execution_count": 59,
   "id": "664b631b-1c71-4eb1-bc2f-9b875a43e5f6",
   "metadata": {},
   "outputs": [
    {
     "name": "stdout",
     "output_type": "stream",
     "text": [
      "17814586 17803543\n"
     ]
    }
   ],
   "source": [
    "print(np.sum(matchCounts), np.sum(cutCounts))"
   ]
  },
  {
   "cell_type": "markdown",
   "id": "540c2eb9-1039-4670-9d67-76d6f46c87d0",
   "metadata": {},
   "source": [
    "### Ok, lets start trying to characterise a selection bias based on 18.5 <= SNR <= 116"
   ]
  },
  {
   "cell_type": "code",
   "execution_count": 79,
   "id": "1ea5fe52-1bdb-4d96-95a1-7b59cee07ee0",
   "metadata": {},
   "outputs": [
    {
     "name": "stdout",
     "output_type": "stream",
     "text": [
      "Locating cut on unsheared images...\n",
      "Slicing R11 and R22...\n",
      "Locating cut on positively sheared images...\n",
      "Slicing unsheared ellipticities...\n",
      "Locating cut on negatively sheared images...\n",
      "Slicing unsheared ellipticities...\n",
      "Rs1 calculated, proceeding with Rs2...\n",
      "Locating cut on positively sheared images...\n",
      "Slicing unsheared ellipticities...\n",
      "Locating cut on negatively sheared images...\n",
      "Slicing unsheared ellipticities...\n",
      "Rs2 calculated, process complete.\n"
     ]
    }
   ],
   "source": [
    "with fits.open(datdir+full) as hdu:\n",
    "    data = hdu[1].data\n",
    "\n",
    "min_snr = 18.5\n",
    "max_snr = 116.\n",
    "delGamma = 0.01\n",
    "\n",
    "print('Locating cut on unsheared images...')\n",
    "unshear_indexes = list(locate(data['snr'], lambda x: min_snr <= x <= max_snr))\n",
    "print('Slicing R11 and R22...')\n",
    "R11 = data['R11'][unshear_indexes]\n",
    "R22 = data['R22'][unshear_indexes]\n",
    "del unshear_indexes\n",
    "    \n",
    "print('Locating cut on positively sheared images...')\n",
    "p1_indexes = list(locate(data['snr_1p'], lambda x: min_snr <= x <= max_snr))\n",
    "print('Slicing unsheared ellipticities...')\n",
    "e1_s1p = data['e1'][p1_indexes]\n",
    "del p1_indexes\n",
    "\n",
    "print('Locating cut on negatively sheared images...')\n",
    "m1_indexes = list(locate(data['snr_1m'], lambda x: min_snr <= x <= max_snr))\n",
    "print('Slicing unsheared ellipticities...')\n",
    "e1_s1m = data['e1'][m1_indexes]\n",
    "del m1_indexes\n",
    "\n",
    "Rs1 = (np.mean(e1_s1p) - np.mean(e1_s1m)) / delGamma\n",
    "print('Rs1 calculated, proceding with Rs2...')\n",
    "\n",
    "print('Locating cut on positively sheared images...')\n",
    "p2_indexes = list(locate(data['snr_2p'], lambda x: min_snr <= x <= max_snr))\n",
    "print('Slicing unsheared ellipticities...')\n",
    "e2_s2p = data['e2'][p2_indexes]\n",
    "del p2_indexes\n",
    "\n",
    "print('Locating cut on negatively sheared images...')\n",
    "m2_indexes = list(locate(data['snr_2m'], lambda x: min_snr <= x <= max_snr))\n",
    "print('Slicing unsheared ellipticities...')\n",
    "e2_s2m = data['e2'][m2_indexes]\n",
    "del m2_indexes\n",
    "\n",
    "Rs2 = (np.mean(e2_s2p) - np.mean(e2_s2m)) / delGamma\n",
    "print('Rs2 calculated, process complete.')\n",
    "del data"
   ]
  },
  {
   "cell_type": "code",
   "execution_count": 91,
   "id": "7f129350-cb66-497a-9ce1-c5ce92d4efaa",
   "metadata": {},
   "outputs": [
    {
     "name": "stdout",
     "output_type": "stream",
     "text": [
      "R11: 0.7274586244936387 R22: 0.7296751243982187\n",
      "Rs1: -0.008618610901483536 Rs2: -0.008568324201195786\n"
     ]
    }
   ],
   "source": [
    "R11 = np.mean(R11)\n",
    "R22 = np.mean(R22)\n",
    "print('R11:',R11,'R22:',R22)\n",
    "print('Rs1:',Rs1,'Rs2:',Rs2)"
   ]
  },
  {
   "cell_type": "code",
   "execution_count": 93,
   "id": "ca81529e-706e-4624-b065-53dc9f707cdb",
   "metadata": {
    "tags": []
   },
   "outputs": [
    {
     "name": "stdout",
     "output_type": "stream",
     "text": [
      "Total response:\n",
      "R11: 0.7188400135921552 R22: 0.7211068001970229\n",
      "Percentage of total response due to selection:\n",
      "R11: 1.1989609285124514 R22: 1.188218471779038\n"
     ]
    }
   ],
   "source": [
    "print('Total response:')\n",
    "print('R11:', R11+Rs1, 'R22:', R22+Rs2)\n",
    "print('Percentage of total response due to selection:')\n",
    "print('R11:',abs(Rs1/(R11+Rs1)) * 100., 'R22:', abs(Rs2/(R22+Rs2)) * 100.)"
   ]
  },
  {
   "cell_type": "code",
   "execution_count": 82,
   "id": "da3e6d4a-a189-421b-aa45-c2efbcd259bd",
   "metadata": {},
   "outputs": [],
   "source": [
    "with fits.open(datdir+matched) as hdu:\n",
    "    data = hdu[1].data\n",
    "    R11m = np.mean(data['R11'])\n",
    "    R22m = np.mean(data['R22'])\n",
    "print(R11m, R22m)"
   ]
  },
  {
   "cell_type": "markdown",
   "id": "1a7fce2c-e757-4f58-8cb4-c3e5250d6789",
   "metadata": {},
   "source": [
    "### Now lets repeat this process for r-band flux"
   ]
  },
  {
   "cell_type": "code",
   "execution_count": 94,
   "id": "9aaf1a9b-42c7-4988-b630-cc016c2b0690",
   "metadata": {},
   "outputs": [],
   "source": [
    "with fits.open(datdir+full) as hdu:\n",
    "    data = hdu[1].data\n",
    "    full_rflux = data['flux_r']\n",
    "    del data\n",
    "\n",
    "with fits.open(datdir+matched) as hdu:\n",
    "    data = hdu[1].data\n",
    "    match_rflux = data['flux_r']\n",
    "    del data"
   ]
  },
  {
   "cell_type": "code",
   "execution_count": 95,
   "id": "7671aab8-926f-49c2-9733-63df18399d12",
   "metadata": {},
   "outputs": [
    {
     "data": {
      "image/png": "[encoded data removed]",
      "text/plain": [
       "<Figure size 640x480 with 1 Axes>"
      ]
     },
     "metadata": {},
     "output_type": "display_data"
    }
   ],
   "source": [
    "binit = zip(gram_it(full_rflux, match_rflux, 500))"
   ]
  },
  {
   "cell_type": "code",
   "execution_count": 120,
   "id": "4c34071d-3c47-4455-bd93-35618d0101cf",
   "metadata": {},
   "outputs": [
    {
     "name": "stdout",
     "output_type": "stream",
     "text": [
      "Locating cut...\n",
      "Located, slicing data...\n",
      "17814587 17796291\n",
      "1795.3262370496645 1795.1659069426935\n",
      "149873.62909595398 1117.4361645875067\n"
     ]
    }
   ],
   "source": [
    "rflux_cut = cut_data(full_rflux, 712., 5450.)\n",
    "print(np.size(match_rflux),np.size(rflux_cut))\n",
    "print(np.mean(match_rflux), np.mean(rflux_cut))\n",
    "print(np.std(match_rflux), np.std(rflux_cut))"
   ]
  },
  {
   "cell_type": "code",
   "execution_count": 121,
   "id": "9d6b004b-3fa2-49b7-acd7-40ea911691bc",
   "metadata": {},
   "outputs": [
    {
     "data": {
      "image/png": "[encoded data removed]",
      "text/plain": [
       "<Figure size 640x480 with 1 Axes>"
      ]
     },
     "metadata": {},
     "output_type": "display_data"
    }
   ],
   "source": [
    "binit = zip(gram_it(match_rflux, rflux_cut, 500))"
   ]
  },
  {
   "cell_type": "code",
   "execution_count": 123,
   "id": "d1fa2f08-954b-4b9d-9653-99e13c814de8",
   "metadata": {},
   "outputs": [
    {
     "name": "stdout",
     "output_type": "stream",
     "text": [
      "Locating cut on unsheared images...\n",
      "Slicing R11 and R22...\n",
      "Locating cut on positively sheared images...\n",
      "Slicing unsheared ellipticities...\n",
      "Locating cut on negatively sheared images...\n",
      "Slicing unsheared ellipticities...\n",
      "Rs1 calculated, proceding with Rs2...\n",
      "Locating cut on positively sheared images...\n",
      "Slicing unsheared ellipticities...\n",
      "Locating cut on negatively sheared images...\n",
      "Slicing unsheared ellipticities...\n",
      "Rs2 calculated, process complete.\n"
     ]
    }
   ],
   "source": [
    "with fits.open(datdir+full) as hdu:\n",
    "    data = hdu[1].data\n",
    "\n",
    "min_rflux = 712.\n",
    "max_rflux = 5450.\n",
    "delGamma = 0.01\n",
    "\n",
    "print('Locating cut on unsheared images...')\n",
    "unshear_indexes = list(locate(data['flux_r'], lambda x: min_rflux <= x <= max_rflux))\n",
    "print('Slicing R11 and R22...')\n",
    "R11 = data['R11'][unshear_indexes]\n",
    "R22 = data['R22'][unshear_indexes]\n",
    "del unshear_indexes\n",
    "    \n",
    "print('Locating cut on positively sheared images...')\n",
    "p1_indexes = list(locate(data['flux_r_1p'], lambda x: min_rflux <= x <= max_rflux))\n",
    "print('Slicing unsheared ellipticities...')\n",
    "e1_s1p = data['e1'][p1_indexes]\n",
    "del p1_indexes\n",
    "\n",
    "print('Locating cut on negatively sheared images...')\n",
    "m1_indexes = list(locate(data['flux_r_1m'], lambda x: min_rflux <= x <= max_rflux))\n",
    "print('Slicing unsheared ellipticities...')\n",
    "e1_s1m = data['e1'][m1_indexes]\n",
    "del m1_indexes\n",
    "\n",
    "Rs1 = (np.mean(e1_s1p) - np.mean(e1_s1m)) / delGamma\n",
    "print('Rs1 calculated, proceding with Rs2...')\n",
    "\n",
    "print('Locating cut on positively sheared images...')\n",
    "p2_indexes = list(locate(data['flux_r_2p'], lambda x: min_rflux <= x <= max_rflux))\n",
    "print('Slicing unsheared ellipticities...')\n",
    "e2_s2p = data['e2'][p2_indexes]\n",
    "del p2_indexes\n",
    "\n",
    "print('Locating cut on negatively sheared images...')\n",
    "m2_indexes = list(locate(data['flux_r_2m'], lambda x: min_rflux <= x <= max_rflux))\n",
    "print('Slicing unsheared ellipticities...')\n",
    "e2_s2m = data['e2'][m2_indexes]\n",
    "del m2_indexes\n",
    "\n",
    "Rs2 = (np.mean(e2_s2p) - np.mean(e2_s2m)) / delGamma\n",
    "print('Rs2 calculated, process complete.')\n",
    "del data"
   ]
  },
  {
   "cell_type": "code",
   "execution_count": 124,
   "id": "8fbfc916-33e4-4e00-8608-b032bc12ede9",
   "metadata": {},
   "outputs": [
    {
     "name": "stdout",
     "output_type": "stream",
     "text": [
      "R11: 0.7190375833253614 R22: 0.7211036708882648\n",
      "Rs1: 0.0038208626142148734 Rs2: 0.003571330497525348\n"
     ]
    }
   ],
   "source": [
    "R11 = np.mean(R11)\n",
    "R22 = np.mean(R22)\n",
    "print('R11:',R11,'R22:',R22)\n",
    "print('Rs1:',Rs1,'Rs2:',Rs2)"
   ]
  },
  {
   "cell_type": "code",
   "execution_count": 125,
   "id": "93d8d975-2833-49cf-987c-bb7ba4909a10",
   "metadata": {},
   "outputs": [
    {
     "name": "stdout",
     "output_type": "stream",
     "text": [
      "Total response:\n",
      "R11: 0.7228584459395763 R22: 0.7246750013857901\n",
      "Percentage of total response due to selection:\n",
      "R11: 0.5285768791493458 R22: 0.49281822757731697\n"
     ]
    }
   ],
   "source": [
    "print('Total response:')\n",
    "print('R11:', R11+Rs1, 'R22:', R22+Rs2)\n",
    "print('Percentage of total response due to selection:')\n",
    "print('R11:',abs(Rs1/(R11+Rs1)) * 100., 'R22:', abs(Rs2/(R22+Rs2)) * 100.)"
   ]
  },
  {
   "cell_type": "code",
   "execution_count": 127,
   "id": "bb2125cc-20ff-4cfb-8881-3be3f060273c",
   "metadata": {},
   "outputs": [
    {
     "name": "stdout",
     "output_type": "stream",
     "text": [
      "0.7130433641769826 0.7148120062326966\n"
     ]
    }
   ],
   "source": [
    "with fits.open(datdir+matched) as hdu:\n",
    "    data = hdu[1].data\n",
    "    R11m = np.mean(data['R11'])\n",
    "    R22m = np.mean(data['R22'])\n",
    "print(R11m, R22m)"
   ]
  },
  {
   "cell_type": "markdown",
   "id": "425b2db2-bb9d-4da3-8c14-c4af46fb3156",
   "metadata": {},
   "source": [
    "### Finally we will check the selection response for size"
   ]
  },
  {
   "cell_type": "code",
   "execution_count": 130,
   "id": "8ee04d24-e142-4c0f-b046-2dc9cc1aa634",
   "metadata": {},
   "outputs": [],
   "source": [
    "with fits.open(datdir+full) as hdu:\n",
    "    data = hdu[1].data\n",
    "    full_sizes = data['size']\n",
    "    del data\n",
    "\n",
    "with fits.open(datdir+matched) as hdu:\n",
    "    data = hdu[1].data\n",
    "    match_sizes = data['size']\n",
    "    del data"
   ]
  },
  {
   "cell_type": "code",
   "execution_count": 131,
   "id": "cb829213-b8fd-4032-bde9-4f55c79edf00",
   "metadata": {},
   "outputs": [
    {
     "data": {
      "image/png": "[encoded data removed]",
      "text/plain": [
       "<Figure size 640x480 with 1 Axes>"
      ]
     },
     "metadata": {},
     "output_type": "display_data"
    }
   ],
   "source": [
    "binit = zip(gram_it(full_sizes, match_sizes, 500))"
   ]
  },
  {
   "cell_type": "code",
   "execution_count": 142,
   "id": "788823b9-1355-4655-a17e-c2d4428ec642",
   "metadata": {},
   "outputs": [
    {
     "name": "stdout",
     "output_type": "stream",
     "text": [
      "Locating cut...\n",
      "Located, slicing data...\n",
      "17814587 17810475\n",
      "0.6274533337606691 0.6238679455938807\n",
      "84.92865321047474 0.17293803064339744\n"
     ]
    }
   ],
   "source": [
    "size_cut = cut_data(full_sizes, 0.4, 1.06)\n",
    "print(np.size(match_sizes),np.size(size_cut))\n",
    "print(np.mean(match_sizes), np.mean(size_cut))\n",
    "print(np.std(match_sizes), np.std(size_cut))"
   ]
  }
 ],
 "metadata": {
  "kernelspec": {
   "display_name": "Python [conda env:ccl_tjp]",
   "language": "python",
   "name": "conda-env-ccl_tjp-py"
  },
  "language_info": {
   "codemirror_mode": {
    "name": "ipython",
    "version": 3
   },
   "file_extension": ".py",
   "mimetype": "text/x-python",
   "name": "python",
   "nbconvert_exporter": "python",
   "pygments_lexer": "ipython3",
   "version": "3.9.15"
  }
 },
 "nbformat": 4,
 "nbformat_minor": 5
}
