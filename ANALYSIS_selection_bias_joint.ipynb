{
 "cells": [
  {
   "cell_type": "code",
   "execution_count": 2,
   "id": "7add44d6-a729-45a0-8b15-d75328fa8102",
   "metadata": {},
   "outputs": [],
   "source": [
    "import numpy as np\n",
    "import scipy as sp\n",
    "import matplotlib.pyplot as plt\n",
    "import astropy.io.fits as fits\n",
    "import des_functions as des\n",
    "from more_itertools import locate\n",
    "\n",
    "datdir = '/home/b7009348/WGL_project/DES-data/'\n",
    "matched = 'y1_mcal_shapes_matched.fits'\n",
    "full = 'y1_mcal_flags=0.fits'\n",
    "\n",
    "plt.rcParams['font.family'] = 'serif'\n",
    "plt.rcParams['font.serif'] = ['cmr10']\n",
    "plt.rcParams['mathtext.fontset'] ='cm'\n",
    "plt.rcParams['figure.facecolor'] = 'white'\n",
    "plt.rc('axes', unicode_minus=False)\n",
    "plt.rc('axes.formatter', use_mathtext=True)"
   ]
  },
  {
   "cell_type": "code",
   "execution_count": 3,
   "id": "0cca35a8-4072-4bb2-aa50-806f9b0db2b1",
   "metadata": {},
   "outputs": [
    {
     "name": "stdout",
     "output_type": "stream",
     "text": [
      "34839418\n",
      "17814587\n"
     ]
    }
   ],
   "source": [
    "with fits.open(datdir+full) as hdu:\n",
    "    data = hdu[1].data\n",
    "    fullsize = data['size']\n",
    "    psf = data['psf_size']\n",
    "    mcalid = data['coadd_objects_id']\n",
    "    e1_full = data['e1']\n",
    "    r11_full = data['R11']\n",
    "    full_eff_size = fullsize/psf\n",
    "\n",
    "with fits.open(datdir+matched) as hdu:\n",
    "    data = hdu[1].data\n",
    "    match_ids = data['coadd_objects_id']\n",
    "    matchsize = data['size']\n",
    "    psf = data['psf_size']\n",
    "    match_eff_size = matchsize/psf\n",
    "    r11_match = data['R11']\n",
    "    \n",
    "print(np.size(full_eff_size))\n",
    "print(np.size(match_eff_size))\n",
    "del data, psf"
   ]
  },
  {
   "cell_type": "code",
   "execution_count": 4,
   "id": "c66e969d-c768-4875-a020-fc322c50559a",
   "metadata": {},
   "outputs": [
    {
     "name": "stdout",
     "output_type": "stream",
     "text": [
      "0.11281747512670545\n",
      "0.12199357245264765\n",
      "0.45750278564715213\n",
      "0.09088260563731322\n"
     ]
    }
   ],
   "source": [
    "print(fullsize.min())\n",
    "print(matchsize.min())\n",
    "print(match_eff_size.min())\n",
    "print(full_eff_size.min())"
   ]
  },
  {
   "cell_type": "code",
   "execution_count": 5,
   "id": "f49e0cc3-e4a4-451c-aed8-636d0d438c52",
   "metadata": {},
   "outputs": [],
   "source": [
    "eff_size = 3\n",
    "indexes = list(locate(full_eff_size, lambda x: x >= eff_size))\n",
    "cut_eff = full_eff_size[indexes]\n",
    "cut_mcalid = mcalid[indexes]"
   ]
  },
  {
   "cell_type": "code",
   "execution_count": 6,
   "id": "662c8e9b-0671-4a16-abdd-f01b276d2e08",
   "metadata": {},
   "outputs": [
    {
     "name": "stdout",
     "output_type": "stream",
     "text": [
      "2996320\n",
      "1330834\n"
     ]
    }
   ],
   "source": [
    "print(np.size(cut_eff))\n",
    "\n",
    "with fits.open(datdir+'y1_im3_flags=0.fits') as hdu:\n",
    "    data = hdu[1].data\n",
    "    im3ids = data['coadd_objects_id']\n",
    "\n",
    "matches, mcal_indexes, im3_indexes = np.intersect1d(cut_mcalid, im3ids, return_indices=True)\n",
    "\n",
    "print(np.size(matches))"
   ]
  },
  {
   "cell_type": "code",
   "execution_count": 7,
   "id": "692e4cb1-2c25-4029-9183-faa8cade49c7",
   "metadata": {},
   "outputs": [
    {
     "name": "stdout",
     "output_type": "stream",
     "text": [
      "locating r-band cut...\n",
      "indexes located, cutting...\n",
      "29171131 removed: 5668287\n",
      "locating size cut...\n",
      "indexes located, cutting...\n",
      "23533155 removed: 5637976\n",
      "locating S/N cut...\n",
      "indexes located, cutting...\n",
      "17844302 removed: 5688853\n"
     ]
    }
   ],
   "source": [
    "with fits.open(datdir+full) as hdu:\n",
    "    data = hdu[1].data\n",
    "    full_snr = data['snr']\n",
    "    full_size = data['size']\n",
    "    full_rflux = data['flux_r']\n",
    "    full_ids = data['coadd_objects_id']\n",
    "del data\n",
    "\n",
    "print('locating r-band cut...')\n",
    "indexes = list(locate(full_rflux, lambda x: 445. <= x))\n",
    "print('indexes located, cutting...')\n",
    "\n",
    "size = full_size[indexes]\n",
    "removed  = np.size(full_rflux)-np.size(size)\n",
    "snr = full_snr[indexes]\n",
    "rflux = full_rflux[indexes]\n",
    "cut_ids = full_ids[indexes]\n",
    "\n",
    "print(np.size(rflux), 'removed:', removed)\n",
    "\n",
    "print('locating size cut...')\n",
    "indexes = list(locate(size, lambda x: 0.325 <= x))\n",
    "print('indexes located, cutting...')\n",
    "\n",
    "\n",
    "size = size[indexes]\n",
    "removed  = np.size(rflux)-np.size(size)\n",
    "snr = snr[indexes]\n",
    "rflux = rflux[indexes]\n",
    "cut_ids = full_ids[indexes]\n",
    "\n",
    "print(np.size(size), 'removed:', removed)\n",
    "\n",
    "print('locating S/N cut...')\n",
    "indexes = list(locate(snr, lambda x: 16.8 <= x))\n",
    "print('indexes located, cutting...')\n",
    "\n",
    "size = size[indexes]\n",
    "removed  = np.size(rflux)-np.size(size)\n",
    "snr = snr[indexes]\n",
    "rflux = rflux[indexes]\n",
    "cut_ids = full_ids[indexes]\n",
    "\n",
    "print(np.size(snr), 'removed:', removed)\n",
    "      \n",
    "del indexes, removed, size, snr, rflux, full_rflux, full_snr, full_size"
   ]
  },
  {
   "cell_type": "code",
   "execution_count": 8,
   "id": "c38e08be-4370-4418-b69c-940d3071eb5e",
   "metadata": {},
   "outputs": [
    {
     "name": "stdout",
     "output_type": "stream",
     "text": [
      "52.997276894491016\n"
     ]
    }
   ],
   "source": [
    "# similarity test to matched catalogue\n",
    "\n",
    "matches, cut_indi, match_indi = np.intersect1d(cut_ids, match_ids, return_indices=True)\n",
    "\n",
    "print(np.size(matches)/np.size(match_ids)*100)"
   ]
  },
  {
   "cell_type": "markdown",
   "id": "08d96dfd-6627-4bd8-924c-b3381095c6bb",
   "metadata": {
    "tags": []
   },
   "source": [
    "### Now we've assertained the limits to yield similar sized cuts with a final catalogue similar to the matched one, we can create try and find the selection bias"
   ]
  },
  {
   "cell_type": "code",
   "execution_count": 9,
   "id": "58017973-1210-47a6-ad05-eadb13bc777a",
   "metadata": {},
   "outputs": [],
   "source": [
    "min_snr = 16.8\n",
    "min_size = 0.325\n",
    "min_rflux = 445."
   ]
  },
  {
   "cell_type": "code",
   "execution_count": 10,
   "id": "e8610c6e-f2ca-4c06-b8f7-959558464771",
   "metadata": {},
   "outputs": [
    {
     "name": "stdout",
     "output_type": "stream",
     "text": [
      "locating cut on r-band flux...\n",
      "slicing data...\n",
      "removed: 5668287\n",
      "locating cut on size...\n",
      "slicing data...\n",
      "removed: 5637976\n",
      "locating cut on S/N...\n",
      "slicing data...\n",
      "removed: 5688853\n",
      "Final data size: 17844302\n",
      "Computing Ry\n",
      "Ry11: 0.7470308114095333 Ry22: 0.7489749542295671\n"
     ]
    }
   ],
   "source": [
    "with fits.open(datdir+full) as hdu:\n",
    "    data = hdu[1].data\n",
    "    snr = data['snr']\n",
    "    size = data['size']\n",
    "    rflux = data['flux_r']\n",
    "    R11 = data['R11']\n",
    "    R22 = data['R22']\n",
    "    ra_s = data['RA']\n",
    "    dec_s = data['DEC']\n",
    "    e1_s = data['e1']\n",
    "    e2_s = data['e2']\n",
    "del data\n",
    "# start by finding the cut on unsheared data\n",
    "\n",
    "print('locating cut on r-band flux...')\n",
    "indexes = list(locate(rflux, lambda x: min_rflux <= x))\n",
    "print('slicing data...')\n",
    "R11 = R11[indexes]\n",
    "R22 = R22[indexes]\n",
    "ra_s = ra_s[indexes]\n",
    "dec_s = dec_s[indexes]\n",
    "e1_s = e1_s[indexes]\n",
    "e2_s = e2_s[indexes]\n",
    "snr = snr[indexes]\n",
    "size = size[indexes]\n",
    "print('removed:', np.size(rflux)-np.size(R11))\n",
    "del rflux\n",
    "\n",
    "\n",
    "print('locating cut on size...')\n",
    "indexes = list(locate(size, lambda x: min_size <= x))\n",
    "print('slicing data...')\n",
    "R11 = R11[indexes]\n",
    "R22 = R22[indexes]\n",
    "ra_s = ra_s[indexes]\n",
    "dec_s = dec_s[indexes]\n",
    "e1_s = e1_s[indexes]\n",
    "e2_s = e2_s[indexes]\n",
    "snr = snr[indexes]\n",
    "print('removed:', np.size(size)-np.size(R11))\n",
    "del size\n",
    "\n",
    "\n",
    "print('locating cut on S/N...')\n",
    "indexes = list(locate(snr, lambda x: min_snr <= x))\n",
    "print('slicing data...')\n",
    "R11 = R11[indexes]\n",
    "R22 = R22[indexes]\n",
    "ra_s = ra_s[indexes]\n",
    "dec_s = dec_s[indexes]\n",
    "e1_s = e1_s[indexes]\n",
    "e2_s = e2_s[indexes]\n",
    "print('removed:', np.size(snr)-np.size(R11))\n",
    "del snr\n",
    "\n",
    "\n",
    "print('Final data size:', np.size(R11))\n",
    "print('Computing Ry')\n",
    "\n",
    "Ry11 = np.mean(R11)\n",
    "Ry22 = np.mean(R22)\n",
    "\n",
    "print('Ry11:', Ry11, 'Ry22:', Ry22)\n",
    "del R11, R22, indexes"
   ]
  },
  {
   "cell_type": "code",
   "execution_count": 11,
   "id": "7967b55b-9915-47b2-896e-7b8cd99555b7",
   "metadata": {},
   "outputs": [
    {
     "name": "stdout",
     "output_type": "stream",
     "text": [
      "Initialising selections for e1 postive sheared\n",
      "locating cut on 1p S/N...\n",
      "slicing data...\n",
      "locating cut on 1p size...\n",
      "slicing data...\n",
      "locating cut on 1p r-band flux...\n",
      "slicing data...\n",
      "Final data size: 17843040\n",
      "Mean <e1>S+: 0.0003862996037292233\n"
     ]
    }
   ],
   "source": [
    "# next we find the selection responses...\n",
    "with fits.open(datdir+full) as hdu:\n",
    "    data = hdu[1].data\n",
    "    snr_1p = data['snr_1p']\n",
    "    size_1p = data['size_1p']\n",
    "    rflux_1p = data['flux_r_1p']\n",
    "    e1 = data['e1']\n",
    "del data\n",
    "    \n",
    "print('Initialising selections for e1 postive sheared')\n",
    "\n",
    "print('locating cut on 1p S/N...')\n",
    "indexes = list(locate(snr_1p, lambda x: min_snr <= x))\n",
    "print('slicing data...')\n",
    "e1 = e1[indexes]\n",
    "rflux_1p = rflux_1p[indexes]\n",
    "size_1p = size_1p[indexes]\n",
    "del snr_1p\n",
    "\n",
    "print('locating cut on 1p size...')\n",
    "indexes = list(locate(size_1p, lambda x: min_size <= x))\n",
    "print('slicing data...')\n",
    "e1 = e1[indexes]\n",
    "rflux_1p = rflux_1p[indexes]\n",
    "del size_1p\n",
    "\n",
    "print('locating cut on 1p r-band flux...')\n",
    "indexes = list(locate(rflux_1p, lambda x: min_rflux <= x))\n",
    "print('slicing data...')\n",
    "e1 = e1[indexes]\n",
    "del rflux_1p\n",
    "\n",
    "avg_e1_s1p = np.mean(e1)\n",
    "print('Final data size:',np.size(e1))\n",
    "print('Mean <e1>S+:',avg_e1_s1p)\n",
    "\n",
    "del indexes"
   ]
  },
  {
   "cell_type": "code",
   "execution_count": 12,
   "id": "68943b8d-bb15-48c9-81cd-b77468c624b9",
   "metadata": {},
   "outputs": [
    {
     "name": "stdout",
     "output_type": "stream",
     "text": [
      "Initialising selections for e1 negative sheared\n",
      "locating cut on 1m S/N...\n",
      "slicing data...\n",
      "locating cut on 1m size...\n",
      "slicing data...\n",
      "locating cut on 1m r-band flux...\n",
      "slicing data...\n",
      "Final data size: 17843410\n",
      "Mean <e1>S-: 0.0001500149984111462\n"
     ]
    }
   ],
   "source": [
    "# next we find the selection responses...\n",
    "with fits.open(datdir+full) as hdu:\n",
    "    data = hdu[1].data\n",
    "    snr_1m = data['snr_1m']\n",
    "    size_1m = data['size_1m']\n",
    "    rflux_1m = data['flux_r_1m']\n",
    "    e1 = data['e1']\n",
    "del data\n",
    "    \n",
    "print('Initialising selections for e1 negative sheared')\n",
    "print('locating cut on 1m S/N...')\n",
    "indexes = list(locate(snr_1m, lambda x: min_snr <= x))\n",
    "print('slicing data...')\n",
    "e1 = e1[indexes]\n",
    "size_1m = size_1m[indexes]\n",
    "rflux_1m = rflux_1m[indexes]\n",
    "del snr_1m\n",
    "\n",
    "print('locating cut on 1m size...')\n",
    "indexes = list(locate(size_1m, lambda x: min_size <= x))\n",
    "print('slicing data...')\n",
    "e1 = e1[indexes]\n",
    "rflux_1m = rflux_1m[indexes]\n",
    "del size_1m\n",
    "\n",
    "print('locating cut on 1m r-band flux...')\n",
    "indexes = list(locate(rflux_1m, lambda x: min_rflux <= x))\n",
    "print('slicing data...')\n",
    "e1 = e1[indexes]\n",
    "del rflux_1m\n",
    "\n",
    "avg_e1_s1m = np.mean(e1)\n",
    "print('Final data size:',np.size(e1))\n",
    "print('Mean <e1>S-:',avg_e1_s1m)\n",
    "\n",
    "del indexes"
   ]
  },
  {
   "cell_type": "code",
   "execution_count": 13,
   "id": "565d661d-e787-41a6-b0e1-6d2c9df9abb4",
   "metadata": {},
   "outputs": [
    {
     "name": "stdout",
     "output_type": "stream",
     "text": [
      "Initialising selections for e2 negative sheared\n",
      "locating cut on 2m S/N...\n",
      "slicing data...\n",
      "locating cut on 2m size...\n",
      "slicing data...\n",
      "locating cut on 1m r-band flux...\n",
      "slicing data...\n",
      "Final data size: 17842856\n",
      "Mean <e2>S-: 7.282595837300564e-05\n"
     ]
    }
   ],
   "source": [
    "# next we find the selection responses...\n",
    "with fits.open(datdir+full) as hdu:\n",
    "    data = hdu[1].data\n",
    "    snr_2m = data['snr_2m']\n",
    "    size_2m = data['size_2m']\n",
    "    rflux_2m = data['flux_r_2m']\n",
    "    e2 = data['e2']\n",
    "del data\n",
    "    \n",
    "print('Initialising selections for e2 negative sheared')\n",
    "print('locating cut on 2m S/N...')\n",
    "indexes = list(locate(snr_2m, lambda x: min_snr <= x))\n",
    "print('slicing data...')\n",
    "e2 = e2[indexes]\n",
    "size_2m = size_2m[indexes]\n",
    "rflux_2m = rflux_2m[indexes]\n",
    "del snr_2m\n",
    "\n",
    "print('locating cut on 2m size...')\n",
    "indexes = list(locate(size_2m, lambda x: min_size <= x))\n",
    "print('slicing data...')\n",
    "e2 = e2[indexes]\n",
    "rflux_2m = rflux_2m[indexes]\n",
    "del size_2m\n",
    "\n",
    "print('locating cut on 1m r-band flux...')\n",
    "indexes = list(locate(rflux_2m, lambda x: min_rflux <= x))\n",
    "print('slicing data...')\n",
    "e2 = e2[indexes]\n",
    "del rflux_2m\n",
    "\n",
    "avg_e2_s2m = np.mean(e2)\n",
    "print('Final data size:',np.size(e2))\n",
    "print('Mean <e2>S-:',avg_e2_s2m)\n",
    "\n",
    "del indexes"
   ]
  },
  {
   "cell_type": "code",
   "execution_count": 14,
   "id": "798c2dd0-4013-4457-954c-02b664437d94",
   "metadata": {},
   "outputs": [
    {
     "name": "stdout",
     "output_type": "stream",
     "text": [
      "Initialising selections for e2 negative sheared\n",
      "locating cut on 2p S/N...\n",
      "slicing data...\n",
      "locating cut on 2m size...\n",
      "slicing data...\n",
      "locating cut on 1m r-band flux...\n",
      "slicing data...\n",
      "Final data size: 17842857\n",
      "Mean <e2>S+: 0.00030694039481451627\n"
     ]
    }
   ],
   "source": [
    "# next we find the selection responses...\n",
    "with fits.open(datdir+full) as hdu:\n",
    "    data = hdu[1].data\n",
    "    snr_2p = data['snr_2p']\n",
    "    size_2p = data['size_2p']\n",
    "    rflux_2p = data['flux_r_2p']\n",
    "    e2 = data['e2']\n",
    "del data\n",
    "    \n",
    "print('Initialising selections for e2 negative sheared')\n",
    "print('locating cut on 2p S/N...')\n",
    "indexes = list(locate(snr_2p, lambda x: min_snr <= x))\n",
    "print('slicing data...')\n",
    "e2 = e2[indexes]\n",
    "size_2p = size_2p[indexes]\n",
    "rflux_2p = rflux_2p[indexes]\n",
    "del snr_2p\n",
    "\n",
    "print('locating cut on 2m size...')\n",
    "indexes = list(locate(size_2p, lambda x: min_size <= x))\n",
    "print('slicing data...')\n",
    "e2 = e2[indexes]\n",
    "rflux_2p = rflux_2p[indexes]\n",
    "del size_2p\n",
    "\n",
    "print('locating cut on 1m r-band flux...')\n",
    "indexes = list(locate(rflux_2p, lambda x: min_rflux <= x))\n",
    "print('slicing data...')\n",
    "e2 = e2[indexes]\n",
    "del rflux_2p\n",
    "\n",
    "avg_e2_s2p = np.mean(e2)\n",
    "print('Final data size:',np.size(e2))\n",
    "print('Mean <e2>S+:',avg_e2_s2p)\n",
    "\n",
    "del indexes"
   ]
  },
  {
   "cell_type": "code",
   "execution_count": 15,
   "id": "fc8fdd6b-f9b7-4a5f-9049-faf7ca59e2f8",
   "metadata": {},
   "outputs": [],
   "source": [
    "match_counts, match_bins = np.histogram(e1, bins=1000)\n",
    "full_counts, full_bins = np.histogram(e1_full, bins=1000)\n",
    "\n",
    "#normalise to get probability dist.\n",
    "match_pdf = match_counts / np.size(e1)\n",
    "full_pdf = full_counts / np.size(e1_full)"
   ]
  },
  {
   "cell_type": "code",
   "execution_count": 16,
   "id": "28bd1d11-642b-4cb4-93a1-dba914bfab66",
   "metadata": {},
   "outputs": [
    {
     "data": {
      "text/plain": [
       "0.0032538635609135214"
      ]
     },
     "execution_count": 16,
     "metadata": {},
     "output_type": "execute_result"
    }
   ],
   "source": [
    "def kl_divergence(p, q):\n",
    "    \"\"\"\n",
    "    Computes the Kullback-Leibler divergence between two distributions p and q.\n",
    "    \"\"\"\n",
    "    p = np.asarray(p, dtype=float)\n",
    "    q = np.asarray(q, dtype=float)\n",
    "    p = np.where(p != 0, p, np.finfo(float).eps)\n",
    "    q = np.where(q != 0, q, np.finfo(float).eps)\n",
    "    kl_div = np.sum(np.where(p != 0, p * np.log(p / q), 0))\n",
    "    return kl_div\n",
    "\n",
    "kl_divergence(match_pdf, full_pdf)"
   ]
  },
  {
   "cell_type": "code",
   "execution_count": 17,
   "id": "f75fbd99-50d3-4c75-9dc5-4216307cf58f",
   "metadata": {},
   "outputs": [
    {
     "name": "stdout",
     "output_type": "stream",
     "text": [
      "Ry11: 0.7470308114095333 Ry22: 0.7489749542295671\n",
      "Rs11: 0.02362846053180771 Rs22: 0.023411443644151063\n",
      "R11: 0.770659271941341 R22: 0.7723863978737181\n"
     ]
    }
   ],
   "source": [
    "# Now we can compute the selection response\n",
    "delGam = 0.01\n",
    "Rs11 = (avg_e1_s1p - avg_e1_s1m) / delGam\n",
    "Rs22 = (avg_e2_s2p - avg_e2_s2m) / delGam\n",
    "\n",
    "print('Ry11:',Ry11,'Ry22:',Ry22)\n",
    "print('Rs11:',Rs11,'Rs22:',Rs22)\n",
    "print('R11:',Ry11+Rs11,'R22:',Ry22+Rs22)"
   ]
  },
  {
   "cell_type": "markdown",
   "id": "b44c613a-0db9-4bbf-9b77-ad79d67d1857",
   "metadata": {},
   "source": [
    "Now lets try and compute some MCAL tangential shears using the different response values\n",
    "\n",
    "- Consider e1 and e2 unsheared\n",
    "- In one case we will use Ry+Rs, in the other we will just use Ry\n",
    "- R11 ~ R22 so we will just use R11 for this anylsis (I think this is what is done in DES Y1)"
   ]
  },
  {
   "cell_type": "code",
   "execution_count": 18,
   "id": "93873577-84de-4628-a5fc-debc143a6c26",
   "metadata": {},
   "outputs": [],
   "source": [
    "import treecorr\n",
    "lens_file = 'DES_Y1A1_3x2pt_redMaGiC_zerr_CATALOG.fits'\n",
    "rand_file = 'DES_Y1A1_3x2pt_redMaGiC_RANDOMS.fits'\n",
    "\n",
    "Ry11 = 0.7470308114095333 \n",
    "Rs11 = 0.02362846053180771"
   ]
  },
  {
   "cell_type": "code",
   "execution_count": 19,
   "id": "dd95ac69-a174-46a7-9c40-3d63e5b8f49a",
   "metadata": {},
   "outputs": [],
   "source": [
    "with fits.open(datdir+lens_file) as hdu:\n",
    "    data = hdu[1].data\n",
    "    ra_l = data['RA']\n",
    "    dec_l = data['DEC']\n",
    "    w_l = data['weight']\n",
    "del data\n",
    "    \n",
    "cat_l = treecorr.Catalog(ra=ra_l, dec=dec_l, ra_units='deg', \n",
    "                         dec_units='deg', w=w_l)\n",
    "\n",
    "del ra_l, dec_l, w_l\n",
    "                         \n",
    "with fits.open(datdir+rand_file) as hdu:\n",
    "    data = hdu[1].data\n",
    "    ra_r = data['RA']\n",
    "    dec_r = data['DEC']\n",
    "del data\n",
    "\n",
    "cat_r = treecorr.Catalog(ra=ra_r, dec=dec_r, ra_units='deg', \n",
    "                         dec_units='deg')\n",
    "\n",
    "del ra_r, dec_r\n",
    "\n",
    "cat_mcalCut = treecorr.Catalog(ra=ra_s, dec=dec_s, ra_units='deg',\n",
    "                          dec_units='deg', g1=e1_s, g2=e2_s)\n",
    "\n",
    "gamma_Ry, theta = des.mcal_tang_shear(cat_l, cat_mcalCut, cat_r,\n",
    "                                      Ry11, 10, 2.5, 250.)\n",
    "\n",
    "gamma_RyRs, theta = des.mcal_tang_shear(cat_l, cat_mcalCut, cat_r,\n",
    "                                      Ry11+Rs11, 10, 2.5, 250.)"
   ]
  },
  {
   "cell_type": "code",
   "execution_count": 20,
   "id": "d9fa79d4-d8ca-4c4c-9bb6-d97e3e61b3eb",
   "metadata": {},
   "outputs": [
    {
     "data": {
      "text/plain": [
       "Text(0.5, 1.0, 'All lenses, S/N + r-band + size selection')"
      ]
     },
     "execution_count": 20,
     "metadata": {},
     "output_type": "execute_result"
    },
    {
     "data": {
      "image/png": "[encoded data removed]",
      "text/plain": [
       "<Figure size 600x500 with 1 Axes>"
      ]
     },
     "metadata": {},
     "output_type": "display_data"
    }
   ],
   "source": [
    "plt.figure(figsize=[6,5])\n",
    "plt.plot(theta, gamma_Ry, lw=0., marker='o', color ='purple',markersize=5)\n",
    "plt.plot(theta, gamma_RyRs, lw=0., marker='o', color='turquoise', markersize=5)\n",
    "plt.yscale('log')\n",
    "plt.xscale('log')\n",
    "plt.yticks(fontsize=12)\n",
    "plt.xticks(fontsize=12)\n",
    "plt.ylim([1e-6, 1e-2])\n",
    "plt.xlim([2.5,250])\n",
    "plt.xlabel(r'$\\theta$ (arcmin)', fontsize=16)\n",
    "plt.ylabel(r'$\\gamma_{t}^{MCAL}(\\theta)$', fontsize=16)\n",
    "plt.legend([r'$\\langle R_{\\gamma} \\rangle$ only', r'$\\langle R_{\\gamma} \\rangle + \\langle R_{s} \\rangle$'], fontsize=14)\n",
    "plt.title('All lenses, S/N + r-band + size selection', fontsize=14)"
   ]
  },
  {
   "cell_type": "code",
   "execution_count": 21,
   "id": "9034cca5-0e43-47cf-a6b1-709d37e0a5da",
   "metadata": {},
   "outputs": [
    {
     "name": "stdout",
     "output_type": "stream",
     "text": [
      "[1.86604277e-05 1.15365157e-05 7.37264433e-06 4.81941664e-06\n",
      " 3.24334323e-06 2.43693109e-06 1.56456569e-06 1.26168937e-06\n",
      " 9.74208093e-07 6.85927059e-07]\n"
     ]
    }
   ],
   "source": [
    "diff = gamma_Ry - gamma_RyRs\n",
    "print(diff)"
   ]
  },
  {
   "cell_type": "code",
   "execution_count": 26,
   "id": "b2f05f67-4c70-46ac-83ac-f4c465af8ab2",
   "metadata": {},
   "outputs": [
    {
     "data": {
      "image/png": "[encoded data removed]",
      "text/plain": [
       "<Figure size 600x500 with 1 Axes>"
      ]
     },
     "metadata": {},
     "output_type": "display_data"
    }
   ],
   "source": [
    "real_values = np.load(datdir+'multiia_full-bin_slop=0.1.npz')\n",
    "jackknife_values = np.load(datdir+'multiia_jackknife-bin_slop=0.1.npz')\n",
    "IA = real_values['IA']\n",
    "B = real_values['boost']\n",
    "F = real_values['F']\n",
    "\n",
    "theta = np.logspace(np.log10(2.5), np.log10(250), 10)\n",
    "\n",
    "selection_shift = diff / (B-1.+F)\n",
    "\n",
    "plt.figure(figsize=[6,5])\n",
    "plt.plot(theta, selection_shift, linewidth=0, marker='s', color='blue')\n",
    "plt.errorbar(theta, real_values['IA'], yerr=np.sqrt(np.diag(jackknife_values['IA_cov'])), linewidth=0, marker='o', elinewidth=1, capsize=3, color='orange')\n",
    "plt.xscale('log')\n",
    "plt.yscale('log')\n",
    "plt.xticks(fontsize=14)\n",
    "plt.xticks([2.5,25,250],['2.5','25','250'],fontsize=14)\n",
    "plt.yticks(fontsize=14)\n",
    "plt.ylim([1e-6, 1e-2])\n",
    "plt.ylabel(r'$\\gamma_{t}$', fontsize=18)\n",
    "#plt.ylabel(r'$(1-a)\\bar{\\gamma}_{IA}(\\theta)$', fontsize=16)\n",
    "plt.xlabel(r'$\\theta$ (arcmin)', fontsize=16)\n",
    "#plt.title(r'All lenses', fontsize=18)\n",
    "plt.legend([r'Magnitude of potential selection bias', \n",
    "            r'Measured signal'], fontsize=14)\n",
    "plt.savefig('IA_vs_selection.pdf',bbox_inches='tight',dpi=300)"
   ]
  },
  {
   "cell_type": "code",
   "execution_count": 23,
   "id": "707c218e-8816-4196-95ec-1ae8d94a5580",
   "metadata": {},
   "outputs": [
    {
     "name": "stdout",
     "output_type": "stream",
     "text": [
      "[1.72398501e-04 1.17365656e-04 7.99896844e-05 5.47153881e-05\n",
      " 3.83130579e-05 2.96587629e-05 1.95784909e-05 1.60777252e-05\n",
      " 1.26697805e-05 9.00903309e-06]\n"
     ]
    }
   ],
   "source": [
    "print(selection_shift)"
   ]
  },
  {
   "cell_type": "code",
   "execution_count": 24,
   "id": "78346404-5142-4edb-8e75-c0e68fba51e9",
   "metadata": {},
   "outputs": [
    {
     "data": {
      "image/png": "[encoded data removed]",
      "text/plain": [
       "<Figure size 600x500 with 1 Axes>"
      ]
     },
     "metadata": {},
     "output_type": "display_data"
    }
   ],
   "source": [
    "nbins = 1000\n",
    "\n",
    "plt.figure(figsize=[6,5])\n",
    "plt.hist(e1, bins=nbins, color='mediumvioletred', density=True, histtype='step', linewidth=2)\n",
    "plt.hist(e1_full, bins=nbins, color='orange', density=True, histtype='step', linewidth=2)\n",
    "plt.legend(['Matched catalogue', 'Full catalogue'], loc=4, fontsize=14)\n",
    "plt.ylabel('Density of sources', fontsize=14)\n",
    "plt.xlabel('Source ellipticity', fontsize=14)\n",
    "plt.xticks(fontsize=12)\n",
    "plt.yticks(fontsize=12)\n",
    "plt.savefig('mcal_ellipticity_dist.png', dpi=300)"
   ]
  },
  {
   "cell_type": "code",
   "execution_count": 25,
   "id": "bf959715-737e-451a-a07d-14d58d54c43f",
   "metadata": {},
   "outputs": [
    {
     "data": {
      "text/plain": [
       "2.0981125683837494"
      ]
     },
     "execution_count": 25,
     "metadata": {},
     "output_type": "execute_result"
    }
   ],
   "source": [
    "0.0032538635609135214 / 0.0015508527092138284"
   ]
  }
 ],
 "metadata": {
  "kernelspec": {
   "display_name": "Python [conda env:ccl_tjp]",
   "language": "python",
   "name": "conda-env-ccl_tjp-py"
  },
  "language_info": {
   "codemirror_mode": {
    "name": "ipython",
    "version": 3
   },
   "file_extension": ".py",
   "mimetype": "text/x-python",
   "name": "python",
   "nbconvert_exporter": "python",
   "pygments_lexer": "ipython3",
   "version": "3.9.15"
  }
 },
 "nbformat": 4,
 "nbformat_minor": 5
}
