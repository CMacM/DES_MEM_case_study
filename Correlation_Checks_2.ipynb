{
 "cells": [
  {
   "cell_type": "code",
   "execution_count": 1,
   "id": "6b51800e-b3fd-415a-bc62-39ec373fe640",
   "metadata": {},
   "outputs": [],
   "source": [
    "import des_functions as des\n",
    "import numpy as np\n",
    "import astropy.io.fits as fits\n",
    "import matplotlib.pyplot as plt\n",
    "from more_itertools import locate\n",
    "plt.rcParams['figure.facecolor'] = 'white'\n",
    "plt.rcParams['font.family'] = 'serif'\n",
    "plt.rcParams['font.serif'] = ['cmr10']\n",
    "plt.rcParams['mathtext.fontset'] ='cm'\n",
    "plt.rc('axes', unicode_minus=False)"
   ]
  },
  {
   "cell_type": "code",
   "execution_count": 2,
   "id": "80ba13bf-0624-4b76-8673-2262bee36984",
   "metadata": {},
   "outputs": [],
   "source": [
    "data_dir = '/home/b7009348/WGL_project/DES-data/'\n",
    "mcal_file = 'y1_mcal_shapes_matched.fits'\n",
    "im3_file = 'y1_im3_shapes_matched.fits'"
   ]
  },
  {
   "cell_type": "code",
   "execution_count": 25,
   "id": "eb15d551-8837-4bab-a5d3-9dd441fe499d",
   "metadata": {},
   "outputs": [],
   "source": [
    "with fits.open(data_dir+mcal_file) as hdu:\n",
    "    data = hdu[1].data\n",
    "    r11 = data['R11']\n",
    "    r22 = data['R22']\n",
    "    rsp_ids = data['coadd_objects_id']\n",
    "    mcal_e1 = data['e1']\n",
    "    mcal_e2 = data['e2']\n",
    "    \n",
    "with fits.open(data_dir+im3_file) as hdu:\n",
    "    data = hdu[1].data\n",
    "    im3_e1 = data['e1']\n",
    "    im3_e2 = data['e2']\n",
    "    im3_ids = data['coadd_objects_id']\n",
    "    w = data['weight']\n",
    "    m = data['m']\n",
    "    \n",
    "w_t = (r11+r22)\n",
    "ones = np.ones(len(w))"
   ]
  },
  {
   "cell_type": "code",
   "execution_count": 11,
   "id": "ccd3e1b9-054f-47c9-ae76-3b65799f882d",
   "metadata": {},
   "outputs": [],
   "source": [
    "def calc_bias(e1, e2, w, w_t):\n",
    "    \n",
    "    bias = abs(np.average(e1, weights=w_t)) + abs(np.average(e2, weights=w_t)) - abs(np.average(e1, weights=w)) - abs(np.average(e2, weights=w))\n",
    "    \n",
    "    return bias"
   ]
  },
  {
   "cell_type": "code",
   "execution_count": 24,
   "id": "df188a4e-971b-43d7-bdc7-05fdb08d5802",
   "metadata": {},
   "outputs": [
    {
     "name": "stdout",
     "output_type": "stream",
     "text": [
      "9.733446956379868e-05\n"
     ]
    }
   ],
   "source": [
    "bias = calc_bias(im3_e1, im3_e2, w, 2*ones)\n",
    "print(bias)"
   ]
  },
  {
   "cell_type": "code",
   "execution_count": 26,
   "id": "4c089432-6a18-48b6-832e-d4a7a68f55b3",
   "metadata": {},
   "outputs": [
    {
     "name": "stdout",
     "output_type": "stream",
     "text": [
      "-1.950075e-04\n"
     ]
    }
   ],
   "source": [
    "bias = calc_bias(im3_e1, im3_e2, w, w_t)\n",
    "print('%e'%bias)"
   ]
  },
  {
   "cell_type": "code",
   "execution_count": 27,
   "id": "4be0a597-7a06-4378-8878-6fdd39fb6ea3",
   "metadata": {},
   "outputs": [
    {
     "data": {
      "text/plain": [
       "Text(0.5, 0, '$\\\\theta$ (arcmin)')"
      ]
     },
     "execution_count": 27,
     "metadata": {},
     "output_type": "execute_result"
    },
    {
     "data": {
      "image/png": "[encoded data removed]",
      "text/plain": [
       "<Figure size 576x504 with 1 Axes>"
      ]
     },
     "metadata": {},
     "output_type": "display_data"
    }
   ],
   "source": [
    "real_values = np.load(data_dir+'ia_full_values-bin_slop=0.npz')\n",
    "jackknife_values = np.load(data_dir+'ia_jackknife_values-bin_slop=0.npz')\n",
    "theta = np.logspace(np.log10(2.5), np.log10(250), 20) * 1.0/60\n",
    "\n",
    "plt.figure(figsize=[8,7])\n",
    "plt.errorbar(theta, real_values['IA'], yerr=np.sqrt(np.diag(jackknife_values['IA_cov'])), linewidth=0, marker='o', elinewidth=1, capsize=3, color='orange')\n",
    "plt.hlines(y=abs(bias), xmin=np.min(theta), xmax=np.max(theta))\n",
    "plt.xscale('log')\n",
    "plt.yscale('log')\n",
    "plt.ylim([1e-6, 1e-2])\n",
    "plt.xticks(fontsize=16)\n",
    "plt.yticks(fontsize=14)\n",
    "plt.ylabel(r'$(1-a)\\bar{\\gamma}_{IA}$', fontsize=18)\n",
    "plt.xlabel(r'$\\theta$ (arcmin)', fontsize=18)"
   ]
  }
 ],
 "metadata": {
  "kernelspec": {
   "display_name": "Python 3 (ipykernel)",
   "language": "python",
   "name": "python3"
  },
  "language_info": {
   "codemirror_mode": {
    "name": "ipython",
    "version": 3
   },
   "file_extension": ".py",
   "mimetype": "text/x-python",
   "name": "python",
   "nbconvert_exporter": "python",
   "pygments_lexer": "ipython3",
   "version": "3.9.5"
  }
 },
 "nbformat": 4,
 "nbformat_minor": 5
}
