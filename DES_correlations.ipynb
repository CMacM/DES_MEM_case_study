{
 "cells": [
  {
   "cell_type": "code",
   "execution_count": 53,
   "metadata": {},
   "outputs": [],
   "source": [
    "import treecorr\n",
    "import astropy.io.fits as fits\n",
    "import time\n",
    "import numpy as np\n",
    "import matplotlib.pyplot as plt"
   ]
  },
  {
   "cell_type": "code",
   "execution_count": 54,
   "metadata": {},
   "outputs": [
    {
     "name": "stdout",
     "output_type": "stream",
     "text": [
      "(numpy.record, [('coadd_objects_id', '>i8'), ('e1', '>f8'), ('e2', '>f8'), ('m', '>f8'), ('c1', '>f8'), ('c2', '>f8'), ('weight', '>f8'), ('radius', '>f8'), ('snr', '>f8'), ('likelihood', '>f8'), ('chi2_pixel', '>f8'), ('flags', '>i4'), ('covmat_0_0', '>f8'), ('covmat_0_1', '>f8'), ('covmat_1_1', '>f8'), ('rgpp_rp', '>f8'), ('psf_e1', '>f8'), ('psf_e2', '>f8'), ('psf_size', '>f8'), ('bulge_fraction', '>f8'), ('nexp', '>i4'), ('stamp_size', '>i4'), ('mask_fraction', '>f8'), ('flags_select', '>i4'), ('ra', '>f8'), ('dec', '>f8'), ('tilename', 'S12')])\n",
      "2013303\n"
     ]
    }
   ],
   "source": [
    "data_dir = '/home/b7009348/projects/WGL_Project/DES-data/'\n",
    "file_name = 'y1_im3shape_corrected_0.9-1.3.fits'\n",
    "#file_name = 'y1_im3shape_flags=0.fits'\n",
    "with fits.open(data_dir+file_name) as hdu:\n",
    "    data = hdu[1].data\n",
    "print(data.dtype)\n",
    "print(data.size)"
   ]
  },
  {
   "cell_type": "code",
   "execution_count": 75,
   "metadata": {},
   "outputs": [],
   "source": [
    "config = {'dec_col' : 'dec', 'dec_units' : 'degrees', 'file_name' : data_dir+file_name, \n",
    "         'g1_col' : 'e1', 'g2_col' : 'e2', 'max_sep' : 250, \n",
    "         'min_sep' : 2.5, 'nbins' : 20, 'ra_col' : 'ra', 'ra_units' : 'degrees',\n",
    "         'sep_units' : 'arcmin', 'verbose' : 2, 'flip_g1' : False,\n",
    "         'flip_g2' : False}"
   ]
  },
  {
   "cell_type": "code",
   "execution_count": 76,
   "metadata": {},
   "outputs": [
    {
     "name": "stdout",
     "output_type": "stream",
     "text": [
      "Reading input file /home/b7009348/projects/WGL_Project/DES-data/y1_im3shape_corrected_0.9-1.3.fits\n",
      "   file_type assumed to be FITS from the file name.\n",
      "   nobj = 2013303\n"
     ]
    }
   ],
   "source": [
    "cat  = treecorr.Catalog(data_dir+file_name, config)"
   ]
  },
  {
   "cell_type": "code",
   "execution_count": 77,
   "metadata": {},
   "outputs": [],
   "source": [
    "gg = treecorr.GGCorrelation(min_sep=2.5, max_sep=250, nbins=20, sep_units='arcmin')"
   ]
  },
  {
   "cell_type": "code",
   "execution_count": 78,
   "metadata": {},
   "outputs": [
    {
     "name": "stdout",
     "output_type": "stream",
     "text": [
      "Runtime: 3.393926\n"
     ]
    }
   ],
   "source": [
    "start = time.time()\n",
    "gg.process(cat)\n",
    "end = time.time()\n",
    "print('Runtime: %.6f'%(end-start))"
   ]
  },
  {
   "cell_type": "code",
   "execution_count": 79,
   "metadata": {},
   "outputs": [
    {
     "data": {
      "image/png": "[encoded data removed]",
      "text/plain": [
       "<Figure size 432x288 with 1 Axes>"
      ]
     },
     "metadata": {
      "needs_background": "light"
     },
     "output_type": "display_data"
    }
   ],
   "source": [
    "r = np.exp(gg.meanlogr)\n",
    "xip = gg.xip\n",
    "sig = np.sqrt(gg.varxip)\n",
    "plt.errorbar(r, r*xip/1e-4, yerr=r*sig/1e-4, marker='.', linewidth=0, \n",
    "             elinewidth=1, color='black')\n",
    "plt.xscale('log')\n",
    "plt.ylabel(r'$\\theta\\xi_{+}/10^{-4}$')\n",
    "plt.xlabel(r'$\\theta$ (arcmin)')\n",
    "plt.xlim([2.5,250])\n",
    "plt.ylim([-1,6])\n",
    "plt.savefig('z=0.9-1.3_shear-shear.png',dpi=150)\n",
    "#plt.plot(r, -xip, color='blue')\n",
    "#plt.errorbar(r[xip>0], xip[xip>0], yerr=sig[xip>0], color='grey')\n",
    "#plt.errorbar(r[xip<0], xip[xip<0], yerr=sig[xip<0], color='grey')\n",
    "#lp = plt.errorbar(-r, xip, yerr=sig, color='blue')"
   ]
  }
 ],
 "metadata": {
  "kernelspec": {
   "display_name": "Python 3",
   "language": "python",
   "name": "python3"
  },
  "language_info": {
   "codemirror_mode": {
    "name": "ipython",
    "version": 3
   },
   "file_extension": ".py",
   "mimetype": "text/x-python",
   "name": "python",
   "nbconvert_exporter": "python",
   "pygments_lexer": "ipython3",
   "version": "3.8.5"
  }
 },
 "nbformat": 4,
 "nbformat_minor": 4
}
