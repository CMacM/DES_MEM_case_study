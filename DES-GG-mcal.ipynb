{
 "cells": [
  {
   "cell_type": "code",
   "execution_count": 9,
   "metadata": {},
   "outputs": [],
   "source": [
    "import astropy.io.fits as fits\n",
    "import des_functions\n",
    "import treecorr\n",
    "import numpy as np\n",
    "import matplotlib.pyplot as plt\n",
    "from PIL import Image\n",
    "import os\n",
    "from more_itertools import locate\n",
    "os.chdir('/home/b7009348/projects/WGL_Project')"
   ]
  },
  {
   "cell_type": "markdown",
   "metadata": {},
   "source": [
    "# Response Matrix\n",
    "- R11 ~ R22 \n",
    "- R12 ~ R21 ~ 0\n",
    "- So just take mean of R11 or R22 for \\<R>"
   ]
  },
  {
   "cell_type": "code",
   "execution_count": 2,
   "metadata": {},
   "outputs": [
    {
     "name": "stdout",
     "output_type": "stream",
     "text": [
      "0.7130916429874178\n"
     ]
    }
   ],
   "source": [
    "with fits.open('DES-data/y1_mcal_shapes_matched.fits') as hdu:\n",
    "    data = hdu[1].data\n",
    "    R11 = data['R11'] # e1-e1\n",
    "del data\n",
    "R = np.mean(R11)\n",
    "print(R)"
   ]
  },
  {
   "cell_type": "code",
   "execution_count": 7,
   "metadata": {},
   "outputs": [
    {
     "data": {
      "text/plain": [
       "1.3742974127342167"
      ]
     },
     "execution_count": 7,
     "metadata": {},
     "output_type": "execute_result"
    }
   ],
   "source": [
    "0.0098/R * 100"
   ]
  },
  {
   "cell_type": "markdown",
   "metadata": {},
   "source": [
    "# Selection Response"
   ]
  },
  {
   "cell_type": "code",
   "execution_count": 6,
   "metadata": {
    "jupyter": {
     "source_hidden": true
    }
   },
   "outputs": [
    {
     "data": {
      "image/png": "[encoded data removed]",
      "text/plain": [
       "<PIL.PngImagePlugin.PngImageFile image mode=RGBA size=226x64 at 0x7FF5EC0BCA00>"
      ]
     },
     "execution_count": 6,
     "metadata": {},
     "output_type": "execute_result"
    }
   ],
   "source": [
    "Image.open('des-y1-matched-catalogue/selection_response_eqn.png')"
   ]
  },
  {
   "cell_type": "markdown",
   "metadata": {},
   "source": [
    "- Need to measure response of estimator to the selection\n",
    "- Ellipticity distribution is approximately unchanged so might be able to ignore selection response?"
   ]
  },
  {
   "cell_type": "markdown",
   "metadata": {},
   "source": [
    "# Comparing IM3 and MCAL Tangential Shear \n",
    "(count-shear correlation + response correction)"
   ]
  },
  {
   "cell_type": "code",
   "execution_count": 23,
   "metadata": {
    "jupyter": {
     "source_hidden": true
    }
   },
   "outputs": [
    {
     "data": {
      "image/png": "[encoded data removed]",
      "text/plain": [
       "<PIL.PngImagePlugin.PngImageFile image mode=RGBA size=264x65 at 0x7FF6093D3AF0>"
      ]
     },
     "execution_count": 23,
     "metadata": {},
     "output_type": "execute_result"
    }
   ],
   "source": [
    "Image.open('des-y1-matched-catalogue/mcal_gammat_eqn.png')"
   ]
  },
  {
   "cell_type": "markdown",
   "metadata": {},
   "source": [
    "Ry and Rs have no significant variation with $\\theta$ so can use constant value"
   ]
  },
  {
   "cell_type": "code",
   "execution_count": 4,
   "metadata": {},
   "outputs": [
    {
     "name": "stdout",
     "output_type": "stream",
     "text": [
      "Catalogues created, starting correlation calculation...\n",
      "mcal correlation calculation complete.\n"
     ]
    }
   ],
   "source": [
    "with fits.open('DES-data/DES_Y1A1_3x2pt_redMaGiC_zerr_CATALOG.fits') as hdu:\n",
    "    data = hdu[1].data\n",
    "    ra_l = data['RA']\n",
    "    dec_l = data['DEC']\n",
    "    w_l = data['weight']\n",
    "    \n",
    "del data\n",
    "    \n",
    "cat_l = treecorr.Catalog(ra=ra_l, dec=dec_l, ra_units='deg', dec_units='deg', w=w_l, npatch=20)\n",
    "\n",
    "with fits.open('DES-data/DES_Y1A1_3x2pt_redMaGiC_RANDOMS.fits') as hdu:\n",
    "    data = hdu[1].data\n",
    "    ra_r = data['RA']\n",
    "    dec_r = data['dec']\n",
    "    \n",
    "del data\n",
    "    \n",
    "cat_r = treecorr.Catalog(ra=ra_r, dec=dec_r, ra_units='deg', dec_units='deg', patch_centers=cat_l.patch_centers)\n",
    "\n",
    "with fits.open('DES-data/y1_mcal_shapes_matched.fits') as hdu:\n",
    "    data = hdu[1].data\n",
    "    ra_s = data['ra']\n",
    "    dec_s = data['dec']\n",
    "    e1_m = data['e1']\n",
    "    e2_m = data['e2']\n",
    "    \n",
    "del data\n",
    "\n",
    "cat_s_mcal = treecorr.Catalog(ra=ra_s, dec=dec_s, ra_units='deg', dec_units='deg', g1=e1_m, g2=e2_m, patch_centers=cat_l.patch_centers)\n",
    "\n",
    "print('Catalogues created, starting correlation calculation...')\n",
    "\n",
    "nbins=20\n",
    "theta_min=2.5\n",
    "theta_max=250\n",
    "\n",
    "mcal_ng = treecorr.NGCorrelation(nbins=nbins, min_sep=theta_min, max_sep=theta_max, sep_units='arcmin', var_method='jackknife')\n",
    "mcal_ng.process(cat_l, cat_s_mcal)\n",
    "\n",
    "mcal_rg = treecorr.NGCorrelation(nbins=nbins, min_sep=theta_min, max_sep=theta_max, sep_units='arcmin')\n",
    "mcal_rg.process(cat_r, cat_s_mcal)\n",
    "\n",
    "print('mcal correlation calculation complete.')\n",
    "    \n",
    "del cat_s_mcal\n",
    "    \n",
    "mcal_xi_l = mcal_ng.xi\n",
    "mcal_xi_r = mcal_rg.xi\n",
    "\n",
    "mcal_Gammat = 1.0/np.mean(R) * (mcal_xi_l - mcal_xi_r)\n",
    "\n",
    "mcal_theta = np.exp(mcal_ng.meanlogr)\n",
    "\n",
    "del e1_m, e2_m, R"
   ]
  },
  {
   "cell_type": "code",
   "execution_count": 5,
   "metadata": {},
   "outputs": [],
   "source": [
    "with fits.open('DES-data/y1_im3_shapes_matched.fits') as hdu:\n",
    "    data = hdu[1].data\n",
    "    ra_s = data['ra']\n",
    "    dec_s = data['dec']\n",
    "    e1 = data['e1'] - data['c1']\n",
    "    e2 = data['e2'] - data['c2']\n",
    "    sens = data['m'] + 1.0\n",
    "    w = data['weight']\n",
    "    \n",
    "del data\n",
    " \n",
    "cat_s = treecorr.Catalog(ra=ra_s, dec=dec_s, ra_units='deg', dec_units='deg', g1=e1, g2=e2, w=w, patch_centers=cat_l.patch_centers)\n",
    "cat_k = treecorr.Catalog(ra=ra_s, dec=dec_s, ra_units='deg', dec_units='deg', k=sens, w=w, patch_centers=cat_l.patch_centers)\n",
    "    \n",
    "# do correlations with lenese, NKCorrelation is used to apply multiplicative correction\n",
    "im3_ng = treecorr.NGCorrelation(nbins=nbins, min_sep=theta_min, max_sep=theta_max, sep_units='arcmin', var_method='jackknife')\n",
    "im3_ng.process(cat_l, cat_s)\n",
    "nk = treecorr.NKCorrelation(nbins=nbins, min_sep=theta_min, max_sep=theta_max, sep_units='arcmin')\n",
    "nk.process(cat_l, cat_k)\n",
    "    \n",
    "# do correlations with randoms\n",
    "im3_rg = treecorr.NGCorrelation(nbins=nbins, min_sep=theta_min, max_sep=theta_max, sep_units='arcmin', var_method='jackknife')\n",
    "im3_rg.process(cat_r, cat_s)\n",
    "rk = treecorr.NKCorrelation(nbins=nbins, min_sep=theta_min, max_sep=theta_max, sep_units='arcmin')\n",
    "rk.process(cat_r, cat_k)\n",
    "    \n",
    "# correlation functions and corrections for lenses and randoms\n",
    "im3_xi_l = im3_ng.xi\n",
    "sens_l = nk.xi\n",
    "im3_xi_r = im3_rg.xi\n",
    "sens_r = rk.xi\n",
    "    \n",
    "# store data in preallocated arrays\n",
    "im3_Gammat = im3_xi_l/sens_l - im3_xi_r/sens_r\n",
    "im3_theta = np.exp(im3_ng.meanlogr)\n",
    "\n",
    "del e1, e2, sens, w"
   ]
  },
  {
   "cell_type": "code",
   "execution_count": 6,
   "metadata": {},
   "outputs": [
    {
     "data": {
      "image/png": "[encoded data removed]",
      "text/plain": [
       "<Figure size 432x288 with 1 Axes>"
      ]
     },
     "metadata": {
      "needs_background": "light"
     },
     "output_type": "display_data"
    }
   ],
   "source": [
    "plt.plot(mcal_theta, mcal_Gammat, linewidth=0, marker='o', color='mediumvioletred')\n",
    "plt.plot(im3_theta, im3_Gammat, linewidth=0, marker='o', color='orange')\n",
    "plt.xscale('log')\n",
    "plt.yscale('log')\n",
    "plt.xlabel(r'$\\theta$ (arcmin)')\n",
    "plt.ylabel(r'$\\gamma_{t}(\\theta)$')\n",
    "plt.title('Matched sources, all lenses')\n",
    "plt.ylim([1e-6, 1e-2])\n",
    "plt.xlim([2.5,250])\n",
    "plt.legend(['METACALIBRATION', 'IM3SHAPE'])\n",
    "plt.savefig('des-y1-matched-catalogue/matched-sources_all-lenses.png', dpi=300)"
   ]
  },
  {
   "cell_type": "code",
   "execution_count": 10,
   "metadata": {},
   "outputs": [
    {
     "name": "stdout",
     "output_type": "stream",
     "text": [
      "[ 7.87753581  8.92555684 22.07677307  3.3841035  16.915394   -1.61535845\n",
      " 18.76794596 21.69206735 11.04767833 20.43210305  6.16651064  6.65729551\n",
      "  8.44473822 10.1677514   7.6466458  10.70287157 14.0850423  17.78433082\n",
      " 18.20422895  1.40624719]\n"
     ]
    }
   ],
   "source": [
    "ratio = im3_Gammat/mcal_Gammat\n",
    "perc = (ratio-1.0)*100\n",
    "print(perc)"
   ]
  },
  {
   "cell_type": "code",
   "execution_count": 9,
   "metadata": {},
   "outputs": [
    {
     "data": {
      "text/plain": [
       "array([-5.83268041e-05, -5.78668110e-05, -1.05974685e-04, -1.29677766e-05,\n",
       "       -4.98993470e-05,  4.11074606e-06, -3.09296175e-05, -3.28305375e-05,\n",
       "       -1.56082436e-05, -2.16373865e-05, -5.48746627e-06, -5.05902545e-06,\n",
       "       -5.40312926e-06, -5.73341290e-06, -3.80888373e-06, -4.69134936e-06,\n",
       "       -5.76829392e-06, -5.81383778e-06, -4.82213056e-06, -3.14983124e-07])"
      ]
     },
     "execution_count": 9,
     "metadata": {},
     "output_type": "execute_result"
    }
   ],
   "source": [
    "mcal_Gammat - im3_Gammat"
   ]
  },
  {
   "cell_type": "markdown",
   "metadata": {},
   "source": [
    "# Recreating Prat et al. 2018 MCAL plots"
   ]
  },
  {
   "cell_type": "code",
   "execution_count": 27,
   "metadata": {},
   "outputs": [
    {
     "name": "stdout",
     "output_type": "stream",
     "text": [
      "Opening files...\n",
      "Locating sources in range 0.2 - 0.43...\n",
      "Sources in range found, slicing data...\n",
      "Matching redshifts to catalogue...\n",
      "Slicing catalogue data...\n",
      "Data sliced, writing to new file...\n",
      "Runtime: 1483.61\n",
      "Opening files...\n",
      "Locating sources in range 0.43 - 0.63...\n",
      "Sources in range found, slicing data...\n",
      "Matching redshifts to catalogue...\n",
      "Slicing catalogue data...\n",
      "Data sliced, writing to new file...\n",
      "Runtime: 1044.52\n",
      "Opening files...\n",
      "Locating sources in range 0.63 - 0.9...\n",
      "Sources in range found, slicing data...\n",
      "Matching redshifts to catalogue...\n",
      "Slicing catalogue data...\n",
      "Data sliced, writing to new file...\n",
      "Runtime: 931.796\n",
      "Opening files...\n",
      "Locating sources in range 0.9 - 1.3...\n",
      "Sources in range found, slicing data...\n",
      "Matching redshifts to catalogue...\n",
      "Slicing catalogue data...\n",
      "Data sliced, writing to new file...\n",
      "Runtime: 291.655\n"
     ]
    }
   ],
   "source": [
    "zmins = [0.2,0.43,0.63,0.9]\n",
    "zmaxs = [0.43,0.63,0.9,1.3]\n",
    "\n",
    "for i in range(len(zmins)):\n",
    "    des_functions.cut_redshift(shapefile='y1_mcal_flags=0.fits', zfile='y1a1-gold-mof-badregion_BPZ.fits',\n",
    "                              zmin=zmins[i], zmax=zmaxs[i], method='mcal')"
   ]
  },
  {
   "cell_type": "code",
   "execution_count": 36,
   "metadata": {},
   "outputs": [
    {
     "name": "stdout",
     "output_type": "stream",
     "text": [
      "2.5406275758772914\n",
      "1.5924190864449301\n",
      "2.269215786803211\n",
      "0.9666339423765827\n"
     ]
    }
   ],
   "source": [
    "data_dir = 'DES-data/'\n",
    "\n",
    "# read in lens data and create treecorr catalogue object to store\n",
    "with fits.open(data_dir+'DES_Y1A1_Lenses_z=0.15-0.3.fits') as hdu:\n",
    "    data = hdu[1].data\n",
    "    ra_l = data['RA']\n",
    "    dec_l = data['DEC']\n",
    "    w_l = data['weight']\n",
    "    \n",
    "cat_l = treecorr.Catalog(ra=ra_l, dec=dec_l, ra_units='deg', dec_units='deg', w=w_l, npatch=20)\n",
    "\n",
    "# read in randoms data and create treecorr catalogue\n",
    "with fits.open(data_dir+'DES_Y1A1_3x2pt_redMaGiC_RANDOMS.fits') as hdu:\n",
    "    data = hdu[1].data\n",
    "    indexes = list(locate(data['z'], lambda x: 0.15 < x < 0.3)) # cut randoms to same redshift as lenses \n",
    "    ra_r = data['RA'][indexes]\n",
    "    dec_r = data['dec'][indexes]\n",
    "    \n",
    "cat_r = treecorr.Catalog(ra=ra_r, dec=dec_r, ra_units='deg', dec_units='deg', patch_centers=cat_l.patch_centers)\n",
    "\n",
    "# delte data to free memory\n",
    "del indexes, data\n",
    "\n",
    "# define bin and scale params\n",
    "nbins=20\n",
    "theta_min=2.5\n",
    "theta_max=250\n",
    "\n",
    "nlens = float(len(ra_l)) # number of lenses\n",
    "nrand = float(len(ra_r)) # number of randoms\n",
    "\n",
    "# list of source files to compute cross-correlation for \n",
    "source_files = ['y1_mcal_z=0.9-1.3.fits', 'y1_mcal_z=0.63-0.9.fits', 'y1_mcal_z=0.43-0.63.fits', 'y1_mcal_z=0.2-0.43.fits']\n",
    "Rs = [0.014, 0.0098, 0.014, 0.0072]\n",
    "\n",
    "# empty arrays to store correlation function data \n",
    "Gammat = np.zeros([nbins,len(source_files)])\n",
    "sig = np.zeros([nbins,len(source_files)])\n",
    "theta = np.zeros([nbins,len(source_files)])\n",
    "Boost = np.zeros_like(Gammat)\n",
    "theta_b = np.zeros_like(Gammat)\n",
    "\n",
    "# loops over source files and computes cross-correltaion for different source redshift samples\n",
    "for i in range(len(source_files)):\n",
    "    with fits.open(data_dir+source_files[i]) as hdu:\n",
    "        data = hdu[1].data\n",
    "        ra_s = data['ra']\n",
    "        dec_s = data['dec']\n",
    "        e1 = data['e1']\n",
    "        e2 = data['e2']\n",
    "        R = np.mean(data['R11'])\n",
    "    del data\n",
    " \n",
    "    cat_s = treecorr.Catalog(ra=ra_s, dec=dec_s, ra_units='deg', dec_units='deg', g1=e1, g2=e2, patch_centers=cat_l.patch_centers)\n",
    "    \n",
    "    # do correlations with lenese, NKCorrelation is used to apply multiplicative correction\n",
    "    ng = treecorr.NGCorrelation(nbins=nbins, min_sep=theta_min, max_sep=theta_max, sep_units='arcmin', var_method='jackknife')\n",
    "    ng.process(cat_l, cat_s)\n",
    "    \n",
    "    # do correlations with randoms\n",
    "    rg = treecorr.NGCorrelation(nbins=nbins, min_sep=theta_min, max_sep=theta_max, sep_units='arcmin', var_method='jackknife')\n",
    "    rg.process(cat_r, cat_s)\n",
    "    \n",
    "    # correlation functions and corrections for lenses and randoms\n",
    "    xi_l = ng.xi\n",
    "    xi_r = rg.xi\n",
    "    \n",
    "    # store data in preallocated arrays\n",
    "    Gammat[:,i] = 1.0/(R+Rs[i]) * (xi_l - xi_r)\n",
    "    theta[:,i] = np.exp(ng.meanlogr)\n",
    "    \n",
    "    # all errors\n",
    "    l_err = np.sqrt(ng.varxi) # error on lens-shear cross-corr\n",
    "    r_err = np.sqrt(rg.varxi) # error on random-shear cross-corr\n",
    "    \n",
    "    # next do errors for subtraction of randoms to get error on gamma_t\n",
    "    sig[:,i] = np.sqrt(l_err**2 + r_err**2)\n",
    "    \n",
    "    perc = Rs[i]/R * 100.0\n",
    "    print(perc)"
   ]
  },
  {
   "cell_type": "code",
   "execution_count": 37,
   "metadata": {},
   "outputs": [
    {
     "data": {
      "image/png": "[encoded data removed]",
      "text/plain": [
       "<Figure size 432x360 with 1 Axes>"
      ]
     },
     "metadata": {
      "needs_background": "light"
     },
     "output_type": "display_data"
    }
   ],
   "source": [
    "plt.figure(figsize=[6,5])\n",
    "plt.errorbar(theta[:,3], Gammat[:,3], yerr=sig[:,3], lw=0, marker='o', color='navy', markersize=5, elinewidth=1, capsize=3)\n",
    "plt.errorbar(theta[:,2], Gammat[:,2], yerr=sig[:,2], lw=0, marker='o', color='darkmagenta', markersize=5, elinewidth=1, capsize=3)\n",
    "plt.errorbar(theta[:,1], Gammat[:,1], yerr=sig[:,1], lw=0, marker='o', color='mediumvioletred', markersize=5, elinewidth=1, capsize=3)\n",
    "plt.errorbar(theta[:,0], Gammat[:,0], yerr=sig[:,0], lw=0, marker='o', color='orange', markersize=5, elinewidth=1, capsize=3)\n",
    "plt.yscale('log')\n",
    "plt.xscale('log')\n",
    "plt.ylim([1e-6, 1e-2])\n",
    "plt.xlim([2.5,250])\n",
    "plt.xlabel(r'$\\theta$ (arcmin)')\n",
    "plt.ylabel(r'$\\gamma_{t}(\\theta)$')\n",
    "plt.legend([r'$0.20<z_{s}<0.43$', r'$0.43<z_{s}<0.63$', r'$0.63<z_{s}<0.90$', r'$0.90<z_{s}<1.30$'])\n",
    "plt.title(r'$0.15<z_{l}<0.3$')\n",
    "plt.savefig('des-y1-matched-catalogue/mcal_zl=0.15-0.3.png', dpi=300)"
   ]
  },
  {
   "cell_type": "code",
   "execution_count": 45,
   "metadata": {},
   "outputs": [
    {
     "name": "stdout",
     "output_type": "stream",
     "text": [
      "2.5406275758772914\n",
      "2.1153258379373634\n"
     ]
    }
   ],
   "source": [
    "data_dir = 'DES-data/'\n",
    "\n",
    "# read in lens data and create treecorr catalogue object to store\n",
    "with fits.open(data_dir+'DES_Y1A1_Lenses_z=0.3-0.45.fits') as hdu:\n",
    "    data = hdu[1].data\n",
    "    ra_l = data['RA']\n",
    "    dec_l = data['DEC']\n",
    "    w_l = data['weight']\n",
    "    \n",
    "cat_l = treecorr.Catalog(ra=ra_l, dec=dec_l, ra_units='deg', dec_units='deg', w=w_l, npatch=20)\n",
    "\n",
    "# read in randoms data and create treecorr catalogue\n",
    "with fits.open(data_dir+'DES_Y1A1_3x2pt_redMaGiC_RANDOMS.fits') as hdu:\n",
    "    data = hdu[1].data\n",
    "    indexes = list(locate(data['z'], lambda x: 0.15 < x < 0.3)) # cut randoms to same redshift as lenses \n",
    "    ra_r = data['RA'][indexes]\n",
    "    dec_r = data['dec'][indexes]\n",
    "    \n",
    "cat_r = treecorr.Catalog(ra=ra_r, dec=dec_r, ra_units='deg', dec_units='deg', patch_centers=cat_l.patch_centers)\n",
    "\n",
    "# delte data to free memory\n",
    "del indexes, data\n",
    "\n",
    "# define bin and scale params\n",
    "nbins=20\n",
    "theta_min=2.5\n",
    "theta_max=250\n",
    "\n",
    "nlens = float(len(ra_l)) # number of lenses\n",
    "nrand = float(len(ra_r)) # number of randoms\n",
    "\n",
    "# list of source files to compute cross-correlation for \n",
    "source_files = ['y1_mcal_z=0.9-1.3.fits', 'y1_mcal_matched_z=0.9-1.3.fits']\n",
    "Rs = 0.014\n",
    "\n",
    "# empty arrays to store correlation function data \n",
    "Gammat = np.zeros([nbins,len(source_files)])\n",
    "sig = np.zeros([nbins,len(source_files)])\n",
    "theta = np.zeros([nbins,len(source_files)])\n",
    "Boost = np.zeros_like(Gammat)\n",
    "theta_b = np.zeros_like(Gammat)\n",
    "\n",
    "# loops over source files and computes cross-correltaion for different source redshift samples\n",
    "for i in range(len(source_files)):\n",
    "    with fits.open(data_dir+source_files[i]) as hdu:\n",
    "        data = hdu[1].data\n",
    "        ra_s = data['ra']\n",
    "        dec_s = data['dec']\n",
    "        e1 = data['e1']\n",
    "        e2 = data['e2']\n",
    "        R = np.mean(data['R11'])\n",
    "    del data\n",
    " \n",
    "    cat_s = treecorr.Catalog(ra=ra_s, dec=dec_s, ra_units='deg', dec_units='deg', g1=e1, g2=e2, patch_centers=cat_l.patch_centers)\n",
    "    \n",
    "    # do correlations with lenese, NKCorrelation is used to apply multiplicative correction\n",
    "    ng = treecorr.NGCorrelation(nbins=nbins, min_sep=theta_min, max_sep=theta_max, sep_units='arcmin', var_method='jackknife')\n",
    "    ng.process(cat_l, cat_s)\n",
    "    \n",
    "    # do correlations with randoms\n",
    "    rg = treecorr.NGCorrelation(nbins=nbins, min_sep=theta_min, max_sep=theta_max, sep_units='arcmin', var_method='jackknife')\n",
    "    rg.process(cat_r, cat_s)\n",
    "    \n",
    "    # correlation functions and corrections for lenses and randoms\n",
    "    xi_l = ng.xi\n",
    "    xi_r = rg.xi\n",
    "    \n",
    "    # store data in preallocated arrays\n",
    "    Gammat[:,i] = 1.0/(R+Rs) * (xi_l - xi_r)\n",
    "    theta[:,i] = np.exp(ng.meanlogr)\n",
    "    \n",
    "    # all errors\n",
    "    l_err = np.sqrt(ng.varxi) # error on lens-shear cross-corr\n",
    "    r_err = np.sqrt(rg.varxi) # error on random-shear cross-corr\n",
    "    \n",
    "    # next do errors for subtraction of randoms to get error on gamma_t\n",
    "    sig[:,i] = np.sqrt(l_err**2 + r_err**2)\n",
    "    \n",
    "    perc = Rs/R * 100.0\n",
    "    print(perc)"
   ]
  },
  {
   "cell_type": "code",
   "execution_count": 46,
   "metadata": {},
   "outputs": [
    {
     "data": {
      "image/png": "[encoded data removed]",
      "text/plain": [
       "<Figure size 432x360 with 1 Axes>"
      ]
     },
     "metadata": {
      "needs_background": "light"
     },
     "output_type": "display_data"
    }
   ],
   "source": [
    "plt.figure(figsize=[6,5])\n",
    "plt.errorbar(theta[:,1], Gammat[:,1], yerr=sig[:,1], lw=0, marker='o', color='mediumvioletred', markersize=5, elinewidth=1, capsize=3)\n",
    "plt.errorbar(theta[:,0], Gammat[:,0], yerr=sig[:,0], lw=0, marker='o', color='orange', markersize=5, elinewidth=1, capsize=3)\n",
    "plt.yscale('log')\n",
    "plt.xscale('log')\n",
    "plt.ylim([1e-6, 1e-2])\n",
    "plt.xlim([2.5,250])\n",
    "plt.xlabel(r'$\\theta$ (arcmin)')\n",
    "plt.ylabel(r'$\\gamma_{t}(\\theta)$')\n",
    "plt.legend(['Matched catalogue', 'Full catalogue'])\n",
    "plt.title(r'$0.30<z_{l}<0.45$')\n",
    "plt.savefig('des-y1-matched-catalogue/mcal_comparison_zs=0.3-0.45_zl=0.9-1.3.png', dpi=300)"
   ]
  }
 ],
 "metadata": {
  "kernelspec": {
   "display_name": "Python 3",
   "language": "python",
   "name": "python3"
  },
  "language_info": {
   "codemirror_mode": {
    "name": "ipython",
    "version": 3
   },
   "file_extension": ".py",
   "mimetype": "text/x-python",
   "name": "python",
   "nbconvert_exporter": "python",
   "pygments_lexer": "ipython3",
   "version": "3.8.5"
  }
 },
 "nbformat": 4,
 "nbformat_minor": 4
}
