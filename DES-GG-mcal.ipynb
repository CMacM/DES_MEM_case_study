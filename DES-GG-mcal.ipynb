{
 "cells": [
  {
   "cell_type": "code",
   "execution_count": 1,
   "metadata": {},
   "outputs": [],
   "source": [
    "import astropy.io.fits as fits\n",
    "import treecorr\n",
    "import numpy as np\n",
    "import matplotlib.pyplot as plt\n",
    "from PIL import Image\n",
    "import os\n",
    "os.chdir('/home/b7009348/projects/WGL_Project')"
   ]
  },
  {
   "cell_type": "code",
   "execution_count": 14,
   "metadata": {},
   "outputs": [
    {
     "name": "stdout",
     "output_type": "stream",
     "text": [
      "17865244\n"
     ]
    }
   ],
   "source": [
    "with fits.open('DES-data/y1_mcal_shapes_matched.fits') as hsu:\n",
    "    print(np.size(hsu[1].data))"
   ]
  },
  {
   "cell_type": "markdown",
   "metadata": {},
   "source": [
    "# Response Matrix\n",
    "- 4 elements, must add selection bias response"
   ]
  },
  {
   "cell_type": "code",
   "execution_count": 2,
   "metadata": {},
   "outputs": [],
   "source": [
    "with fits.open('DES-data/y1_mcal_shapes_matched.fits') as hdu:\n",
    "    data = hdu[1].data\n",
    "    R11 = data['R11'] # e1-e1\n",
    "    R12 = data['R12'] # e1-e2\n",
    "    R21 = data['R21'] # e2-e1\n",
    "    R22 = data['R22'] # e2-e2\n",
    "\n",
    "R = np.vstack((R11,R12,R21,R22))\n",
    "\n",
    "del R11, R12, R21, R22, data"
   ]
  },
  {
   "cell_type": "markdown",
   "metadata": {},
   "source": [
    "# Selection Response"
   ]
  },
  {
   "cell_type": "code",
   "execution_count": 6,
   "metadata": {
    "jupyter": {
     "source_hidden": true
    }
   },
   "outputs": [
    {
     "data": {
      "image/png": "[encoded data removed]",
      "text/plain": [
       "<PIL.PngImagePlugin.PngImageFile image mode=RGBA size=226x64 at 0x7FF5EC0BCA00>"
      ]
     },
     "execution_count": 6,
     "metadata": {},
     "output_type": "execute_result"
    }
   ],
   "source": [
    "Image.open('des-y1-matched-catalogue/selection_response_eqn.png')"
   ]
  },
  {
   "cell_type": "markdown",
   "metadata": {},
   "source": [
    "- Need to measure response of estimator to the selection\n",
    "- Selection is a cut on object IDs so take matched catalogue, so need to reconstruct equation:\n",
    "\n",
    "$<R_{S,i,j}> = \\frac{<e_{i}^{+}>^{IDs}-<e_{i}^{-}>^{IDs}}{\\Delta\\gamma_{j}}$\n",
    "\n",
    "- Select on IDs, mean of ellipticies of positively and negatively sheared images"
   ]
  },
  {
   "cell_type": "markdown",
   "metadata": {},
   "source": [
    "Calculation of $R_{S,i,j}$"
   ]
  },
  {
   "cell_type": "code",
   "execution_count": 3,
   "metadata": {},
   "outputs": [],
   "source": [
    "del_g = 2 * 0.01\n",
    "\n",
    "with fits.open('DES-data/y1_mcal_shapes_matched.fits') as hdu:\n",
    "    data = hdu[1].data\n",
    "    e1_1p = data['e1_1p'] # + g1=0.01\n",
    "    e1_1m = data['e1_1m'] # + g1=-0.01\n",
    "    e1_2p = data['e1_2p'] # + g2=0.01\n",
    "    e1_2m = data['e1_2m'] # + g2=-0.01\n",
    "\n",
    "    e2_1p = data['e2_1p'] # + g1=0.01\n",
    "    e2_1m = data['e2_1m'] # + g1=-0.01\n",
    "    e2_2p = data['e2_2p'] # + g2=0.01\n",
    "    e2_2m = data['e2_2m'] # + g2=-0.01\n",
    "    \n",
    "del data\n",
    "    \n",
    "Rs_11 = (e1_1p-e1_1m)/del_g # component e1 sheared by g1=+/-0.01\n",
    "Rs_12 = (e1_2p-e1_2m)/del_g # component e1 sheared by g2=+/-0.01\n",
    "Rs_21 = (e2_1p-e2_1m)/del_g # component e2 sheared by g1=+/-0.01\n",
    "Rs_22 = (e2_2p-e2_2m)/del_g # component e2 sheared by g2=+/-0.01\n",
    "\n",
    "del e1_1p, e1_1m, e1_2p, e1_2m, e2_1p, e2_1m, e2_2p, e2_2m\n",
    "\n",
    "Rs = np.vstack([Rs_11, Rs_12, Rs_21, Rs_22])\n",
    "\n",
    "del Rs_11, Rs_12, Rs_21, Rs_22"
   ]
  },
  {
   "cell_type": "code",
   "execution_count": 4,
   "metadata": {},
   "outputs": [
    {
     "name": "stdout",
     "output_type": "stream",
     "text": [
      "Selection Response: 0.3566336398133704 Shear Response: 0.3566336398133704 \n"
     ]
    }
   ],
   "source": [
    "print('Selection Response: %.16f Shear Response: %.16f '%(np.mean(Rs), np.mean(R)))"
   ]
  },
  {
   "cell_type": "code",
   "execution_count": 8,
   "metadata": {},
   "outputs": [
    {
     "data": {
      "text/plain": [
       "1.4019989820972987"
      ]
     },
     "execution_count": 8,
     "metadata": {},
     "output_type": "execute_result"
    }
   ],
   "source": [
    "1.0/(np.mean(Rs) + np.mean(R))"
   ]
  },
  {
   "cell_type": "markdown",
   "metadata": {},
   "source": [
    "# Tangential Shear \n",
    "(count-shear correlation + response correction)"
   ]
  },
  {
   "cell_type": "code",
   "execution_count": 23,
   "metadata": {
    "jupyter": {
     "source_hidden": true
    }
   },
   "outputs": [
    {
     "data": {
      "image/png": "[encoded data removed]",
      "text/plain": [
       "<PIL.PngImagePlugin.PngImageFile image mode=RGBA size=264x65 at 0x7FF6093D3AF0>"
      ]
     },
     "execution_count": 23,
     "metadata": {},
     "output_type": "execute_result"
    }
   ],
   "source": [
    "Image.open('des-y1-matched-catalogue/mcal_gammat_eqn.png')"
   ]
  },
  {
   "cell_type": "markdown",
   "metadata": {},
   "source": [
    "Ry and Rs have no significant variation with $\\theta$ so can use constant value"
   ]
  },
  {
   "cell_type": "code",
   "execution_count": 9,
   "metadata": {},
   "outputs": [
    {
     "name": "stdout",
     "output_type": "stream",
     "text": [
      "Catalogues created, starting correlation calculation...\n",
      "Correlation calculation complete.\n"
     ]
    }
   ],
   "source": [
    "with fits.open('DES-data/DES_Y1A1_3x2pt_redMaGiC_zerr_CATALOG.fits') as hdu:\n",
    "    data = hdu[1].data\n",
    "    ra_l = data['RA']\n",
    "    dec_l = data['DEC']\n",
    "    w_l = data['weight']\n",
    "    \n",
    "del data\n",
    "    \n",
    "cat_l = treecorr.Catalog(ra=ra_l, dec=dec_l, ra_units='deg', dec_units='deg', w=w_l, npatch=20)\n",
    "    \n",
    "with fits.open('DES-data/y1_mcal_shapes_matched.fits') as hdu:\n",
    "    data = hdu[1].data\n",
    "    ra_s = data['ra']\n",
    "    dec_s = data['dec']\n",
    "    e1_m = data['e1']\n",
    "    e2_m = data['e2']\n",
    "    \n",
    "del data\n",
    "\n",
    "cat_s_mcal = treecorr.Catalog(ra=ra_s, dec=dec_s, ra_units='deg', dec_units='deg', g1=e1_m, g2=e2_m, patch_centers=cat_l.patch_centers)\n",
    "\n",
    "with fits.open('DES-data/DES_Y1A1_3x2pt_redMaGiC_RANDOMS.fits') as hdu:\n",
    "    data = hdu[1].data\n",
    "    ra_r = data['RA']\n",
    "    dec_r = data['dec']\n",
    "    \n",
    "del data\n",
    "    \n",
    "cat_r = treecorr.Catalog(ra=ra_r, dec=dec_r, ra_units='deg', dec_units='deg', patch_centers=cat_l.patch_centers)\n",
    "\n",
    "print('Catalogues created, starting correlation calculation...')\n",
    "\n",
    "nbins=20\n",
    "theta_min=2.5\n",
    "theta_max=250\n",
    "\n",
    "mcal_ng = treecorr.NGCorrelation(nbins=nbins, min_sep=theta_min, max_sep=theta_max, sep_units='arcmin', var_method='jackknife')\n",
    "mcal_ng.process(cat_l, cat_s_mcal)\n",
    "\n",
    "mcal_rg = treecorr.NGCorrelation(nbins=nbins, min_sep=theta_min, max_sep=theta_max, sep_units='arcmin')\n",
    "mcal_rg.process(cat_r, cat_s_mcal)\n",
    "\n",
    "print('Correlation calculation complete.')\n",
    "\n",
    "del cat_s_mcal"
   ]
  },
  {
   "cell_type": "code",
   "execution_count": 10,
   "metadata": {},
   "outputs": [],
   "source": [
    "mcal_xi_l = mcal_ng.xi\n",
    "mcal_xi_r = mcal_rg.xi\n",
    "\n",
    "mcal_Gammat = 1.0/np.mean(R) * (mcal_xi_l - mcal_xi_r)\n",
    "\n",
    "mcal_theta = np.exp(mcal_ng.meanlogr)\n",
    "\n",
    "del e1_m, e2_m, R, Rs"
   ]
  },
  {
   "cell_type": "code",
   "execution_count": 11,
   "metadata": {},
   "outputs": [
    {
     "name": "stdout",
     "output_type": "stream",
     "text": [
      "Data loaded...\n",
      "Catalogues created, calculating correlation...\n",
      "Correlation calculation complete\n"
     ]
    }
   ],
   "source": [
    "with fits.open('DES-data/y1_im3_shapes_matched.fits') as hdu:\n",
    "    data = hdu[1].data\n",
    "\n",
    "e1_i = data['e1'] - data['c1']\n",
    "e2_i = data['e2'] - data['c2']\n",
    "w = data['weight']\n",
    "sens= data['m'] + 1.0\n",
    "    \n",
    "del data\n",
    "\n",
    "print('Data loaded...')\n",
    "\n",
    "cat_s_im3 = treecorr.Catalog(ra=ra_s, dec=dec_s, ra_units='deg', dec_units='deg', g1=e1_i, g2=e2_i, w=w, patch_centers=cat_l.patch_centers)\n",
    "cat_k = treecorr.Catalog(ra=ra_s, dec=dec_s, ra_units='deg', dec_units='deg', k=sens, w=w, patch_centers=cat_l.patch_centers)\n",
    "\n",
    "print('Catalogues created, calculating correlation...')\n",
    "\n",
    "im3_ng = treecorr.NGCorrelation(nbins=nbins, min_sep=theta_min, max_sep=theta_max, sep_units='arcmin', var_method='jackknife')\n",
    "im3_ng.process(cat_l, cat_s_im3)\n",
    "nk = treecorr.NKCorrelation(nbins=nbins, min_sep=theta_min, max_sep=theta_max, sep_units='arcmin')\n",
    "nk.process(cat_l, cat_k)\n",
    "\n",
    "im3_rg = treecorr.NGCorrelation(nbins=nbins, min_sep=theta_min, max_sep=theta_max, sep_units='arcmin')\n",
    "im3_rg.process(cat_r, cat_s_im3)\n",
    "rk = treecorr.NKCorrelation(nbins=nbins, min_sep=theta_min, max_sep=theta_max, sep_units='arcmin')\n",
    "rk.process(cat_r, cat_k)\n",
    "\n",
    "print('Correlation calculation complete')"
   ]
  },
  {
   "cell_type": "code",
   "execution_count": 12,
   "metadata": {},
   "outputs": [],
   "source": [
    "im3_xi_l = im3_ng.xi\n",
    "sens_l = nk.xi\n",
    "im3_xi_r = im3_rg.xi\n",
    "sens_r = rk.xi\n",
    "\n",
    "im3_Gammat = im3_xi_l/sens_l - im3_xi_r/sens_r\n",
    "\n",
    "im3_theta = np.exp(im3_ng.meanlogr)\n",
    "\n",
    "del e1_i, e2_i, sens, w"
   ]
  },
  {
   "cell_type": "code",
   "execution_count": 13,
   "metadata": {},
   "outputs": [
    {
     "data": {
      "image/png": "[encoded data removed]",
      "text/plain": [
       "<Figure size 432x288 with 1 Axes>"
      ]
     },
     "metadata": {
      "needs_background": "light"
     },
     "output_type": "display_data"
    }
   ],
   "source": [
    "plt.plot(mcal_theta, mcal_Gammat, linewidth=0, marker='o', color='mediumvioletred')\n",
    "plt.plot(im3_theta, im3_Gammat, linewidth=0, marker='o', color='orange')\n",
    "plt.xscale('log')\n",
    "plt.yscale('log')\n",
    "plt.xlabel(r'$\\theta$ (arcmin)')\n",
    "plt.ylabel(r'$\\gamma_{t}(\\theta)$')\n",
    "plt.title('Matched sources, all lenses')\n",
    "plt.ylim([1e-6, 1e-2])\n",
    "plt.xlim([2.5,250])\n",
    "plt.legend(['METACALIBRATION', 'IM3SHAPE'])\n",
    "plt.savefig('des-y1-matched-catalogue/matched-sources_all-lenses.png', dpi=300)"
   ]
  },
  {
   "cell_type": "code",
   "execution_count": 22,
   "metadata": {},
   "outputs": [
    {
     "name": "stdout",
     "output_type": "stream",
     "text": [
      "80.55663076012341\n"
     ]
    }
   ],
   "source": [
    "ratio = mcal_Gammat/im3_Gammat\n",
    "perc = (ratio-1.0)*100\n",
    "print(np.mean(perc))"
   ]
  },
  {
   "cell_type": "code",
   "execution_count": 23,
   "metadata": {},
   "outputs": [
    {
     "data": {
      "text/plain": [
       "array([5.77688439e-04, 5.41921018e-04, 4.75598883e-04, 3.49924947e-04,\n",
       "       2.68570384e-04, 2.10131476e-04, 1.45679694e-04, 1.36893524e-04,\n",
       "       1.21386815e-04, 8.51653614e-05, 7.86339195e-05, 7.46470442e-05,\n",
       "       5.98888786e-05, 4.44427976e-05, 4.89449111e-05, 3.66690958e-05,\n",
       "       3.80578131e-05, 2.52427885e-05, 2.09652667e-05, 2.26082993e-05])"
      ]
     },
     "execution_count": 23,
     "metadata": {},
     "output_type": "execute_result"
    }
   ],
   "source": [
    "mcal_Gammat - im3_Gammat"
   ]
  }
 ],
 "metadata": {
  "kernelspec": {
   "display_name": "Python 3",
   "language": "python",
   "name": "python3"
  },
  "language_info": {
   "codemirror_mode": {
    "name": "ipython",
    "version": 3
   },
   "file_extension": ".py",
   "mimetype": "text/x-python",
   "name": "python",
   "nbconvert_exporter": "python",
   "pygments_lexer": "ipython3",
   "version": "3.8.5"
  }
 },
 "nbformat": 4,
 "nbformat_minor": 4
}
