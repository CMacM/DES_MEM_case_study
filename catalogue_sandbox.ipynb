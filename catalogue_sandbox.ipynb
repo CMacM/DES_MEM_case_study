{
 "cells": [
  {
   "cell_type": "code",
   "execution_count": 1,
   "metadata": {},
   "outputs": [],
   "source": [
    "import fitsio\n",
    "import astropy.io.fits as fits\n",
    "import numpy as np\n",
    "import time "
   ]
  },
  {
   "cell_type": "code",
   "execution_count": 2,
   "metadata": {},
   "outputs": [],
   "source": [
    "data_dir = '/home/b7009348/projects/WGL_Project/DES-data/'\n",
    "im3file = data_dir+'y1_im3shape_shapes.fits'\n",
    "zfile = data_dir+'y1_source_redshift_binning_v1.fits'\n",
    "im3head = fits.open(im3file)\n",
    "zhead = fits.open(zfile)"
   ]
  },
  {
   "cell_type": "code",
   "execution_count": 3,
   "metadata": {},
   "outputs": [
    {
     "data": {
      "text/plain": [
       "ColDefs(\n",
       "    name = 'coadd_objects_id'; format = 'K'\n",
       "    name = 'e1'; format = 'D'\n",
       "    name = 'e2'; format = 'D'\n",
       "    name = 'm'; format = 'D'\n",
       "    name = 'c1'; format = 'D'\n",
       "    name = 'c2'; format = 'D'\n",
       "    name = 'weight'; format = 'D'\n",
       "    name = 'radius'; format = 'D'\n",
       "    name = 'snr'; format = 'D'\n",
       "    name = 'likelihood'; format = 'D'\n",
       "    name = 'chi2_pixel'; format = 'D'\n",
       "    name = 'flags'; format = 'J'\n",
       "    name = 'covmat_0_0'; format = 'D'\n",
       "    name = 'covmat_0_1'; format = 'D'\n",
       "    name = 'covmat_1_1'; format = 'D'\n",
       "    name = 'rgpp_rp'; format = 'D'\n",
       "    name = 'psf_e1'; format = 'D'\n",
       "    name = 'psf_e2'; format = 'D'\n",
       "    name = 'psf_size'; format = 'D'\n",
       "    name = 'bulge_fraction'; format = 'D'\n",
       "    name = 'nexp'; format = 'J'\n",
       "    name = 'stamp_size'; format = 'J'\n",
       "    name = 'mask_fraction'; format = 'D'\n",
       "    name = 'flags_select'; format = 'J'\n",
       "    name = 'ra'; format = 'D'\n",
       "    name = 'dec'; format = 'D'\n",
       "    name = 'tilename'; format = '12A'\n",
       ")"
      ]
     },
     "execution_count": 3,
     "metadata": {},
     "output_type": "execute_result"
    }
   ],
   "source": [
    "im3head[1].columns"
   ]
  },
  {
   "cell_type": "code",
   "execution_count": 4,
   "metadata": {},
   "outputs": [
    {
     "data": {
      "text/plain": [
       "ColDefs(\n",
       "    name = 'coadd_objects_id'; format = 'K'\n",
       "    name = 'zbin_im3'; format = 'I'\n",
       "    name = 'zbin_mcal'; format = 'I'\n",
       "    name = 'zbin_mcal_1p'; format = 'I'\n",
       "    name = 'zbin_mcal_1m'; format = 'I'\n",
       "    name = 'zbin_mcal_2p'; format = 'I'\n",
       "    name = 'zbin_mcal_2m'; format = 'I'\n",
       ")"
      ]
     },
     "execution_count": 4,
     "metadata": {},
     "output_type": "execute_result"
    }
   ],
   "source": [
    "zhead[1].columns"
   ]
  },
  {
   "cell_type": "code",
   "execution_count": 5,
   "metadata": {},
   "outputs": [],
   "source": [
    "im3data = im3head[1].data\n",
    "zdata = zhead[1].data"
   ]
  },
  {
   "cell_type": "code",
   "execution_count": 6,
   "metadata": {},
   "outputs": [
    {
     "name": "stdout",
     "output_type": "stream",
     "text": [
      "-3943.9516546726227\n"
     ]
    }
   ],
   "source": [
    "z_im3_bins = zdata['zbin_im3'] \n",
    "highZ_e1 = []\n",
    "highZ_e2 = []\n",
    "highZ_ra = []\n",
    "highZ_dec = []\n",
    "highZ_weight = []\n",
    "highZ_id = []\n",
    "start_time = time.time()\n",
    "for i in range (len(z_im3_bins)):\n",
    "    if z_im3_bins[i] == 3:\n",
    "        highZ_e1.append(im3data['e1'][i])\n",
    "        highZ_e2.append(im3data['e2'][i])\n",
    "        highZ_ra.append(im3data['ra'][i])\n",
    "        highZ_dec.append(im3data['dec'][i])\n",
    "        highZ_weight.append(im3data['weight'][i])\n",
    "        highZ_id.append(im3data['coadd_objects_id'][i])\n",
    "end_time = time.time()\n",
    "\n",
    "print(end_time-start_time)\n",
    "\n",
    "newhud = fits.BinTableHDU.from_columns([fits.Column(name='ID', format='K', array=highZ_id), fits.Column(name='e1', format='D', array=highZ_e1), \n",
    "                                        fits.Column(name='e2', format='D', array=highZ_e2), fits.Column(name='ra', format='D', array=highZ_ra),\n",
    "                                       fits.Column(name='dec', format='D', array=highZ_dec), fits.Column(name='weight', format='D', array=highZ_weight)])\n",
    "newhud.writeto(data_dir+'im3shape_cut_z=0.9-1.3.fits')"
   ]
  },
  {
   "cell_type": "code",
   "execution_count": 8,
   "metadata": {},
   "outputs": [
    {
     "name": "stdout",
     "output_type": "stream",
     "text": [
      "65.73252757787705\n"
     ]
    }
   ],
   "source": [
    "print((end_time-start_time)/60)"
   ]
  },
  {
   "cell_type": "code",
   "execution_count": null,
   "metadata": {},
   "outputs": [],
   "source": [
    "cutfile = data_dir+'im3shape_cut_z=0.9-1.3.fits'\n",
    "cut = fits.open()"
   ]
  }
 ],
 "metadata": {
  "kernelspec": {
   "display_name": "Python 3",
   "language": "python",
   "name": "python3"
  },
  "language_info": {
   "codemirror_mode": {
    "name": "ipython",
    "version": 3
   },
   "file_extension": ".py",
   "mimetype": "text/x-python",
   "name": "python",
   "nbconvert_exporter": "python",
   "pygments_lexer": "ipython3",
   "version": "3.8.5"
  }
 },
 "nbformat": 4,
 "nbformat_minor": 4
}
