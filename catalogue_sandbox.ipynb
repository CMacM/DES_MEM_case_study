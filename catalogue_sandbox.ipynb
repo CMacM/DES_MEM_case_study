{
 "cells": [
  {
   "cell_type": "code",
   "execution_count": 1,
   "metadata": {},
   "outputs": [],
   "source": [
    "import fitsio\n",
    "import astropy.io.fits as fits\n",
    "import numpy as np\n",
    "import time \n",
    "from more_itertools import locate\n",
    "import pandas as pd\n",
    "from des_functions import cut_flags, cut_redshift, cut_zbin, correct_bias, match_catalogues, cut_lenses"
   ]
  },
  {
   "cell_type": "code",
   "execution_count": 3,
   "metadata": {},
   "outputs": [
    {
     "name": "stdout",
     "output_type": "stream",
     "text": [
      "ColDefs(\n",
      "    name = 'coadd_objects_id'; format = 'K'\n",
      "    name = 'e1'; format = 'D'\n",
      "    name = 'e2'; format = 'D'\n",
      "    name = 'm'; format = 'D'\n",
      "    name = 'c1'; format = 'D'\n",
      "    name = 'c2'; format = 'D'\n",
      "    name = 'weight'; format = 'D'\n",
      "    name = 'radius'; format = 'D'\n",
      "    name = 'snr'; format = 'D'\n",
      "    name = 'likelihood'; format = 'D'\n",
      "    name = 'chi2_pixel'; format = 'D'\n",
      "    name = 'flags'; format = 'J'\n",
      "    name = 'covmat_0_0'; format = 'D'\n",
      "    name = 'covmat_0_1'; format = 'D'\n",
      "    name = 'covmat_1_1'; format = 'D'\n",
      "    name = 'rgpp_rp'; format = 'D'\n",
      "    name = 'psf_e1'; format = 'D'\n",
      "    name = 'psf_e2'; format = 'D'\n",
      "    name = 'psf_size'; format = 'D'\n",
      "    name = 'bulge_fraction'; format = 'D'\n",
      "    name = 'nexp'; format = 'J'\n",
      "    name = 'stamp_size'; format = 'J'\n",
      "    name = 'mask_fraction'; format = 'D'\n",
      "    name = 'flags_select'; format = 'J'\n",
      "    name = 'ra'; format = 'D'\n",
      "    name = 'dec'; format = 'D'\n",
      "    name = 'tilename'; format = '12A'\n",
      ")\n",
      "136930995\n"
     ]
    }
   ],
   "source": [
    "data_dir = '/home/b7009348/projects/WGL_Project/DES-data/'\n",
    "im3file = data_dir+'y1_im3shape_shapes.fits'\n",
    "with fits.open(im3file) as im3head:\n",
    "    print(im3head[1].columns)\n",
    "    im3data = im3head[1].data\n",
    "print(np.size(im3data))\n",
    "del im3data"
   ]
  },
  {
   "cell_type": "code",
   "execution_count": 5,
   "metadata": {},
   "outputs": [
    {
     "name": "stdout",
     "output_type": "stream",
     "text": [
      "306.6957755088806\n"
     ]
    }
   ],
   "source": [
    "start = time.time()\n",
    "indexes = list(locate(im3data['flags_select'], lambda x: x == 0))\n",
    "end = time.time()\n",
    "print(end-start)"
   ]
  },
  {
   "cell_type": "code",
   "execution_count": 6,
   "metadata": {},
   "outputs": [
    {
     "name": "stdout",
     "output_type": "stream",
     "text": [
      "113.58904933929443\n"
     ]
    }
   ],
   "source": [
    "start = time.time()\n",
    "im3data = im3data[indexes]\n",
    "end = time.time()\n",
    "print(end-start)"
   ]
  },
  {
   "cell_type": "code",
   "execution_count": 9,
   "metadata": {},
   "outputs": [
    {
     "name": "stdout",
     "output_type": "stream",
     "text": [
      "133.81918048858643\n"
     ]
    }
   ],
   "source": [
    "start = time.time()\n",
    "im3data['tilename'][1]\n",
    "print(time.time()-start)"
   ]
  },
  {
   "cell_type": "code",
   "execution_count": 3,
   "metadata": {},
   "outputs": [
    {
     "name": "stdout",
     "output_type": "stream",
     "text": [
      "Opening file...\n",
      "Locating flags...\n",
      "Flags located, slicing data...\n",
      "Data sliced, writing to new file...\n",
      "Runtime: 432.009\n"
     ]
    }
   ],
   "source": [
    "cut_flags(filename='y1_im3shape_shapes.fits', method='im3shape')"
   ]
  },
  {
   "cell_type": "code",
   "execution_count": 5,
   "metadata": {},
   "outputs": [
    {
     "name": "stdout",
     "output_type": "stream",
     "text": [
      "21897577\n"
     ]
    }
   ],
   "source": [
    "with fits.open(data_dir+'y1_im3shape_flags=0.fits') as hdul:\n",
    "    data = hdul[1].data\n",
    "print(np.size(data))"
   ]
  },
  {
   "cell_type": "code",
   "execution_count": 2,
   "metadata": {},
   "outputs": [
    {
     "name": "stdout",
     "output_type": "stream",
     "text": [
      "Opening files...\n",
      "Locating sources in range 0.9 - 1.3...\n",
      "Sources in range found, slicing data...\n",
      "Redshift range sliced, locating flags...\n",
      "Flags located, slicing shape data...\n",
      "Data sliced, writing to new file...\n",
      "Runtime: 357.539\n"
     ]
    }
   ],
   "source": [
    "cut_redshift(shapefile='y1_im3shape_shapes.fits', zfile='y1a1-gold-mof-badregion_BPZ.fits', \n",
    "             zmin=0.9, zmax=1.3, method='im3shape')"
   ]
  },
  {
   "cell_type": "code",
   "execution_count": 4,
   "metadata": {},
   "outputs": [
    {
     "name": "stdout",
     "output_type": "stream",
     "text": [
      "Opening files...\n",
      "Locating sources in bin 3...\n",
      "Sources in range found, slicing data...\n",
      "Redshift range sliced, locating flags...\n",
      "Flags located, slicing shape data...\n",
      "Data sliced, writing to new file...\n",
      "Runtime: 804.357\n"
     ]
    }
   ],
   "source": [
    "cut_zbin(shapefile='y1_im3shape_shapes.fits', zfile='y1_source_redshift_binning_v1.fits',\n",
    "        zbin = 3, method='im3shape')"
   ]
  },
  {
   "cell_type": "code",
   "execution_count": 3,
   "metadata": {},
   "outputs": [
    {
     "name": "stdout",
     "output_type": "stream",
     "text": [
      "Opening files...\n",
      "Applying additive bias correction...\n",
      "Correction applied, saving...\n"
     ]
    }
   ],
   "source": [
    "correct_bias(filename='y1_im3shape_z=0.9-1.3.fits', method='im3shape', zrange='0.9-1.3')"
   ]
  },
  {
   "cell_type": "code",
   "execution_count": null,
   "metadata": {},
   "outputs": [
    {
     "name": "stdout",
     "output_type": "stream",
     "text": [
      "Opening file...\n",
      "Locating flags...\n",
      "Flags located, slicing data...\n"
     ]
    }
   ],
   "source": [
    "cut_flags(filename='y1_mcal_shapes.fits', method='mcal')"
   ]
  },
  {
   "cell_type": "code",
   "execution_count": 61,
   "metadata": {},
   "outputs": [
    {
     "name": "stdout",
     "output_type": "stream",
     "text": [
      "Opening files and collecting IDs...\n",
      "Finding ID intersections between catalogues...\n",
      "Slicing im3 data...\n",
      "Saving im3 data to new file...\n",
      "Slicing mcal data...\n",
      "Saving mcal data to new file...\n",
      "Runtime: 2117.48\n"
     ]
    }
   ],
   "source": [
    "match_catalogues(im3file='y1_im3shape_flags=0.fits', mcalfile='y1_mcal_flags=0.fits')"
   ]
  },
  {
   "cell_type": "code",
   "execution_count": 4,
   "metadata": {},
   "outputs": [
    {
     "name": "stdout",
     "output_type": "stream",
     "text": [
      "Opening files...\n",
      "Locating lenses in range 0.75 - 0.9...\n",
      "Lenses in range found, slicing data...\n",
      "Data sliced, writing to new file...\n",
      "Runtime: 0.571506\n"
     ]
    }
   ],
   "source": [
    "cut_lenses(lensfile='DES_Y1A1_3x2pt_redMaGiC_zerr_CATALOG.fits', zmin=0.75, zmax=0.90)"
   ]
  }
 ],
 "metadata": {
  "kernelspec": {
   "display_name": "Python 3",
   "language": "python",
   "name": "python3"
  },
  "language_info": {
   "codemirror_mode": {
    "name": "ipython",
    "version": 3
   },
   "file_extension": ".py",
   "mimetype": "text/x-python",
   "name": "python",
   "nbconvert_exporter": "python",
   "pygments_lexer": "ipython3",
   "version": "3.8.0"
  }
 },
 "nbformat": 4,
 "nbformat_minor": 4
}
