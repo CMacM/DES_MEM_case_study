{
 "cells": [
  {
   "cell_type": "code",
   "execution_count": 1,
   "metadata": {},
   "outputs": [],
   "source": [
    "import astropy.io.fits as fits\n",
    "import des_functions\n",
    "import treecorr\n",
    "import numpy as np\n",
    "import matplotlib.pyplot as plt\n",
    "from more_itertools import locate\n",
    "import time\n",
    "plt.rcParams['font.family'] = 'serif'\n",
    "plt.rcParams['font.serif'] = ['cmr10']\n",
    "plt.rcParams['mathtext.fontset'] ='cm'\n",
    "data_dir = '/home/b7009348/projects/WGL_Project/DES-data/'"
   ]
  },
  {
   "cell_type": "code",
   "execution_count": null,
   "metadata": {},
   "outputs": [],
   "source": [
    "# paths to required files\n",
    "data_dir = '/home/b7009348/projects/WGL_Project/DES-data/'\n",
    "lens_file = data_dir+'DES_Y1A1_Lenses_z=0.3-0.45.fits'\n",
    "source_Zs = data_dir+'y1a1-gold-mof-badregion_BPZ.fits'\n",
    "im3_file_full = data_dir+'y1_im3_shapes_matched.fits'\n",
    "mcal_file_full = data_dir+'y1_mcal_shapes_matched.fits'"
   ]
  },
  {
   "cell_type": "markdown",
   "metadata": {},
   "source": [
    "### Cut new files with min redshift only slightly below min lens redshift"
   ]
  },
  {
   "cell_type": "code",
   "execution_count": null,
   "metadata": {},
   "outputs": [],
   "source": [
    "des_functions.cut_redshift(shapefile=im3_file_full, zfile=source_Zs, method='im3', zmin=0.28, zmax=np.inf, flag_value=0)\n",
    "\n",
    "des_functions.cut_redshift(shapefile=mcal_file_full, zfile=source_Zs, method='mcal', zmin=0.28, zmax=np.inf, flag_value=0)"
   ]
  },
  {
   "cell_type": "markdown",
   "metadata": {},
   "source": [
    "### Calculate IA signal for full matched sources and $0.3< z_{l} < 0.45$"
   ]
  },
  {
   "cell_type": "code",
   "execution_count": null,
   "metadata": {},
   "outputs": [],
   "source": [
    "IA_patch_estimates = des_functions.estimate_IA_jackknife(lens_file, im3_file_full, mcal_file_full, zl_min=0.3, zl_max=0.45)\n",
    "\n",
    "IA_full_estimate, theta_full = des_functions.estimate_IA_full(lens_file, im3_file_full, mcal_file_full, zl_min=0.3, zl_max=0.45)\n",
    "\n",
    "IA_errors = des_functions.finalize_IA_errors(IA_full_estimate, IA_patch_estimates)"
   ]
  },
  {
   "cell_type": "markdown",
   "metadata": {},
   "source": [
    "### Calculate IA signal for cut at $z=0.28$"
   ]
  },
  {
   "cell_type": "code",
   "execution_count": null,
   "metadata": {},
   "outputs": [],
   "source": [
    "im3_file_cut\n",
    "mcal_file_cut \n",
    "\n",
    "IA_patch_zs_cut = des_functions.estimate_IA_jackknife(lens_file, im3_file_cut, mcal_file_cut, zl_min=0.3, zl_max=0.45)\n",
    "\n",
    "IA_full_zs_cut, theta_full = des_functions.estimate_IA_full(lens_file, im3_file_cut, mcal_file_cut, zl_min=0.3, zl_max=0.45)\n",
    "\n",
    "IA_errors = des_functions.finalize_IA_errors(IA_full_zs_cut, IA_patch_zs_cut)"
   ]
  },
  {
   "cell_type": "code",
   "execution_count": null,
   "metadata": {},
   "outputs": [],
   "source": [
    "plt.figure(figsize=[6,5])\n",
    "plt.errorbar(theta_full, IA_full_estimate, yerr=IA_errors, lw=0, marker='o', color='orange', markersize=5, elinewidth=1, capsize=3)\n",
    "plt.yscale('log')\n",
    "plt.xscale('log')\n",
    "plt.ylim([1e-6, 1e-2])\n",
    "plt.xlim([2.5,250])\n",
    "plt.xlabel(r'$\\theta$ (arcmin)')\n",
    "plt.ylabel(r'$\\bar{\\gamma}_{IA}(\\theta)$')\n",
    "plt.title(r'$0.30<z_{l}<0.45$')\n",
    "plt.savefig('IA_prelim_measurement.png', dpi=300)"
   ]
  }
 ],
 "metadata": {
  "kernelspec": {
   "display_name": "Python 3",
   "language": "python",
   "name": "python3"
  },
  "language_info": {
   "codemirror_mode": {
    "name": "ipython",
    "version": 3
   },
   "file_extension": ".py",
   "mimetype": "text/x-python",
   "name": "python",
   "nbconvert_exporter": "python",
   "pygments_lexer": "ipython3",
   "version": "3.8.5"
  }
 },
 "nbformat": 4,
 "nbformat_minor": 4
}
