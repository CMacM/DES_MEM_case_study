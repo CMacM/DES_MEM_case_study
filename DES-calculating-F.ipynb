{
 "cells": [
  {
   "cell_type": "code",
   "execution_count": 1,
   "metadata": {},
   "outputs": [],
   "source": [
    "import astropy.io.fits as fits\n",
    "import des_functions\n",
    "import treecorr\n",
    "import numpy as np\n",
    "import matplotlib.pyplot as plt\n",
    "import pandas as pd\n",
    "from PIL import Image\n",
    "import os\n",
    "import pyccl as ccl\n",
    "from more_itertools import locate\n",
    "from importlib import reload\n",
    "plt.rcParams['font.family'] = 'serif'\n",
    "plt.rcParams['font.serif'] = ['cmr10']\n",
    "plt.rcParams['mathtext.fontset'] ='cm'\n",
    "data_dir = '/home/b7009348/projects/WGL_Project/DES-data/'"
   ]
  },
  {
   "cell_type": "markdown",
   "metadata": {},
   "source": [
    "# Calculating F "
   ]
  },
  {
   "cell_type": "code",
   "execution_count": 2,
   "metadata": {
    "jupyter": {
     "source_hidden": true
    }
   },
   "outputs": [
    {
     "data": {
      "image/png": "[encoded data removed]",
      "text/plain": [
       "<PIL.PngImagePlugin.PngImageFile image mode=RGBA size=177x147 at 0x7F936D575790>"
      ]
     },
     "execution_count": 2,
     "metadata": {},
     "output_type": "execute_result"
    }
   ],
   "source": [
    "Image.open('F_equation.png')"
   ]
  },
  {
   "cell_type": "markdown",
   "metadata": {},
   "source": [
    "- Difference in comoving distance, not redshift: 100Mpc/h\n",
    "- Don't do it on a per galaxy basis (too computationally intense)\n",
    "- Make finely binned histogram of lenses & source in Z\n",
    "- Calculate comoving distance for each slice\n",
    "- Include weights in histogram"
   ]
  },
  {
   "cell_type": "markdown",
   "metadata": {},
   "source": [
    "### Loading and cutting data"
   ]
  },
  {
   "cell_type": "code",
   "execution_count": 2,
   "metadata": {},
   "outputs": [],
   "source": [
    "# load in redmagic photo-z values for all lenses\n",
    "with fits.open(data_dir+'DES_Y1A1_3x2pt_redMaGiC_RANDOMS.fits') as hdu:\n",
    "    data = hdu[1].data\n",
    "    lens_z = data['z']\n",
    "del data"
   ]
  },
  {
   "cell_type": "code",
   "execution_count": 3,
   "metadata": {},
   "outputs": [],
   "source": [
    "# load in source IDs for matched im3shape catalogue\n",
    "with fits.open(data_dir+'y1_im3_shapes_matched.fits') as hdu:\n",
    "    data = hdu[1].data\n",
    "    im3_ID = data['coadd_objects_id']\n",
    "    im3_weight = data['weight']\n",
    "del data"
   ]
  },
  {
   "cell_type": "code",
   "execution_count": 4,
   "metadata": {},
   "outputs": [],
   "source": [
    "# load in z_mc for all sources\n",
    "with fits.open(data_dir+'y1a1-gold-mof-badregion_BPZ.fits') as hdu:\n",
    "    data = hdu[1].data\n",
    "    im3_zmc = data['Z_MC']\n",
    "    zmc_ID = data['COADD_OBJECTS_ID']\n",
    "del data"
   ]
  },
  {
   "cell_type": "code",
   "execution_count": 5,
   "metadata": {},
   "outputs": [
    {
     "name": "stdout",
     "output_type": "stream",
     "text": [
      "17865244 17865244\n",
      "[        4        36        40 ... 134678888 134678905 134678967]\n"
     ]
    }
   ],
   "source": [
    "# match z_mc values to source IDs\n",
    "matches, zmc_indices, shape_indices = np.intersect1d(zmc_ID, im3_ID, return_indices=True)\n",
    "\n",
    "print(np.size(zmc_indices), np.size(im3_ID))\n",
    "print(zmc_indices)"
   ]
  },
  {
   "cell_type": "code",
   "execution_count": 6,
   "metadata": {},
   "outputs": [],
   "source": [
    "# slice z_mc values to only to those in matched catalogue\n",
    "im3_zmc = im3_zmc[zmc_indices]\n",
    "\n",
    "# delete uneccessary arrays\n",
    "del matches, zmc_indices, shape_indices, zmc_ID"
   ]
  },
  {
   "cell_type": "markdown",
   "metadata": {},
   "source": [
    "### Creating histogram data for lenses & sources"
   ]
  },
  {
   "cell_type": "code",
   "execution_count": 12,
   "metadata": {},
   "outputs": [],
   "source": [
    "# set number of bins and code will bin date in range max-min zmc, incl. weights\n",
    "nbins = 100\n",
    "\n",
    "source_freq, source_bin_edges = np.histogram(im3_zmc, bins=nbins, range=(im3_zmc.min(), im3_zmc.max()), weights=im3_weight)\n",
    "\n",
    "lens_freq, lens_bin_edges = np.histogram(lens_z, bins=nbins, range=(lens_z.min(), lens_z.max()))"
   ]
  },
  {
   "cell_type": "code",
   "execution_count": 13,
   "metadata": {},
   "outputs": [],
   "source": [
    "# calculate bin width and find bin centers\n",
    "source_binsz = np.mean(np.diff(source_bin_edges))\n",
    "source_bin_centers = source_bin_edges[1:] - source_binsz/2.0\n",
    "\n",
    "lens_binsz = np.mean(np.diff(lens_bin_edges))\n",
    "lens_bin_centers = lens_bin_edges[1:] - lens_binsz/2.0"
   ]
  },
  {
   "cell_type": "markdown",
   "metadata": {},
   "source": [
    "### Convert to comoving distance"
   ]
  },
  {
   "cell_type": "code",
   "execution_count": 14,
   "metadata": {},
   "outputs": [],
   "source": [
    "# Set up cosmological parameters\n",
    "\n",
    "OmegaM = 0.293\n",
    "OmegaB = 0.0475\n",
    "n_s = 1.0\n",
    "sigma8 = 0.966\n",
    "Ho = 70.8\n",
    "h = Ho/100.0 # h = H0/100\n",
    "\n",
    "# Set up a cosmology object, we need this to do calculations\n",
    "\n",
    "cosmo = ccl.Cosmology(Omega_c = OmegaM-OmegaB, Omega_b = OmegaB, n_s = n_s, h = h, sigma8 = sigma8)\n",
    "\n",
    "source_chi = ccl.comoving_radial_distance(cosmo, 1.0/(1.0+source_bin_centers))\n",
    "lens_chi = ccl.comoving_radial_distance(cosmo, 1.0/(1.0+lens_bin_centers))"
   ]
  },
  {
   "cell_type": "markdown",
   "metadata": {},
   "source": [
    "### Find 'rand,close'\n",
    "- Only lens-source bin pairs within 100Mpc/h"
   ]
  },
  {
   "cell_type": "code",
   "execution_count": 11,
   "metadata": {},
   "outputs": [],
   "source": [
    "close_pairs = []\n",
    "old_rand_close = 0.0\n",
    "for i in range(len(source_chi)):\n",
    "    for j in range(len(lens_chi)):\n",
    "        if abs(source_chi[i] - lens_chi[j]) <= 100.0:\n",
    "            close_pairs.append((i, j))\n",
    "            rand_close = old_rand_close + source_freq[i] * lens_freq[j]\n",
    "            old_rand_close = rand_close\n",
    "\n",
    "all_pairs = []\n",
    "old_rand = 0.0\n",
    "for i in range(len(source_chi)):\n",
    "    for j in range(len(lens_chi)):\n",
    "        all_pairs.append((i, j))\n",
    "        rand = old_rand + source_freq[i] * lens_freq[j]\n",
    "        old_rand = rand"
   ]
  },
  {
   "cell_type": "code",
   "execution_count": 12,
   "metadata": {},
   "outputs": [
    {
     "name": "stdout",
     "output_type": "stream",
     "text": [
      "0.07405504617872546\n"
     ]
    }
   ],
   "source": [
    "F = rand_close/rand\n",
    "print(F)"
   ]
  },
  {
   "cell_type": "code",
   "execution_count": 13,
   "metadata": {},
   "outputs": [
    {
     "name": "stdout",
     "output_type": "stream",
     "text": [
      "7921776.598219698\n",
      "100393\n"
     ]
    }
   ],
   "source": [
    "print(source_freq[4])\n",
    "print(lens_freq[1])"
   ]
  },
  {
   "cell_type": "markdown",
   "metadata": {},
   "source": [
    "### Jackknife estimate for F with error"
   ]
  },
  {
   "cell_type": "code",
   "execution_count": 14,
   "metadata": {},
   "outputs": [],
   "source": [
    "nbins = 100\n",
    "F_i = []\n",
    "index = np.arange(nbins)\n",
    "\n",
    "for i in range(nbins):\n",
    "    jk_source_freq = source_freq[index != i]\n",
    "    jk_lens_freq = lens_freq[index != i]\n",
    "    jk_source_chi = source_chi[index != i]\n",
    "    jk_lens_chi = lens_chi[index != i]\n",
    "    \n",
    "    close_pairs = []\n",
    "    old_rand_close = 0.0\n",
    "    for j in range(len(jk_source_chi)):\n",
    "        for k in range(len(jk_lens_chi)):\n",
    "            if abs(jk_source_chi[j] - jk_lens_chi[k]) <= 100.0:\n",
    "                close_pairs.append((j, k))\n",
    "                rand_close = old_rand_close + jk_source_freq[j] * jk_lens_freq[k]\n",
    "                old_rand_close = rand_close\n",
    "\n",
    "    all_pairs = []\n",
    "    old_rand = 0.0\n",
    "    for j in range(len(jk_source_chi)):\n",
    "        for k in range(len(jk_lens_chi)):\n",
    "            all_pairs.append((j, k))\n",
    "            rand = old_rand + jk_source_freq[j] * jk_lens_freq[k]\n",
    "            old_rand = rand\n",
    "            \n",
    "    F = rand_close/rand \n",
    "    F_i.append(F)"
   ]
  },
  {
   "cell_type": "code",
   "execution_count": 15,
   "metadata": {},
   "outputs": [
    {
     "name": "stdout",
     "output_type": "stream",
     "text": [
      "0.07404823779577098 0.009935838669817041\n"
     ]
    }
   ],
   "source": [
    "F = np.mean(F_i)\n",
    "Var_F = 1.0/nbins-1 * np.sum((F_i - F)**2)\n",
    "print(F, Var_F)"
   ]
  },
  {
   "cell_type": "code",
   "execution_count": 25,
   "metadata": {
    "collapsed": true,
    "jupyter": {
     "outputs_hidden": true
    }
   },
   "outputs": [
    {
     "name": "stdout",
     "output_type": "stream",
     "text": [
      "810\n",
      "[0, 1, 2, 3, 4, 5, 6, 7, 8, 9, 10, 11, 12, 13, 14, 15, 16, 17, 18, 19, 20, 21, 22, 23, 24, 25, 26]\n",
      "[27, 28, 29, 30, 31, 32, 33, 34, 35, 36, 37, 38, 39, 40, 41, 42, 43, 44, 45, 46, 47, 48, 49, 50, 51, 52, 53]\n",
      "[54, 55, 56, 57, 58, 59, 60, 61, 62, 63, 64, 65, 66, 67, 68, 69, 70, 71, 72, 73, 74, 75, 76, 77, 78, 79, 80]\n",
      "[81, 82, 83, 84, 85, 86, 87, 88, 89, 90, 91, 92, 93, 94, 95, 96, 97, 98, 99, 100, 101, 102, 103, 104, 105, 106, 107]\n",
      "[108, 109, 110, 111, 112, 113, 114, 115, 116, 117, 118, 119, 120, 121, 122, 123, 124, 125, 126, 127, 128, 129, 130, 131, 132, 133, 134]\n",
      "[135, 136, 137, 138, 139, 140, 141, 142, 143, 144, 145, 146, 147, 148, 149, 150, 151, 152, 153, 154, 155, 156, 157, 158, 159, 160, 161]\n",
      "[162, 163, 164, 165, 166, 167, 168, 169, 170, 171, 172, 173, 174, 175, 176, 177, 178, 179, 180, 181, 182, 183, 184, 185, 186, 187, 188]\n",
      "[189, 190, 191, 192, 193, 194, 195, 196, 197, 198, 199, 200, 201, 202, 203, 204, 205, 206, 207, 208, 209, 210, 211, 212, 213, 214, 215]\n",
      "[216, 217, 218, 219, 220, 221, 222, 223, 224, 225, 226, 227, 228, 229, 230, 231, 232, 233, 234, 235, 236, 237, 238, 239, 240, 241, 242]\n",
      "[243, 244, 245, 246, 247, 248, 249, 250, 251, 252, 253, 254, 255, 256, 257, 258, 259, 260, 261, 262, 263, 264, 265, 266, 267, 268, 269]\n",
      "[270, 271, 272, 273, 274, 275, 276, 277, 278, 279, 280, 281, 282, 283, 284, 285, 286, 287, 288, 289, 290, 291, 292, 293, 294, 295, 296]\n",
      "[297, 298, 299, 300, 301, 302, 303, 304, 305, 306, 307, 308, 309, 310, 311, 312, 313, 314, 315, 316, 317, 318, 319, 320, 321, 322, 323]\n",
      "[324, 325, 326, 327, 328, 329, 330, 331, 332, 333, 334, 335, 336, 337, 338, 339, 340, 341, 342, 343, 344, 345, 346, 347, 348, 349, 350]\n",
      "[351, 352, 353, 354, 355, 356, 357, 358, 359, 360, 361, 362, 363, 364, 365, 366, 367, 368, 369, 370, 371, 372, 373, 374, 375, 376, 377]\n",
      "[378, 379, 380, 381, 382, 383, 384, 385, 386, 387, 388, 389, 390, 391, 392, 393, 394, 395, 396, 397, 398, 399, 400, 401, 402, 403, 404]\n",
      "[405, 406, 407, 408, 409, 410, 411, 412, 413, 414, 415, 416, 417, 418, 419, 420, 421, 422, 423, 424, 425, 426, 427, 428, 429, 430, 431]\n",
      "[432, 433, 434, 435, 436, 437, 438, 439, 440, 441, 442, 443, 444, 445, 446, 447, 448, 449, 450, 451, 452, 453, 454, 455, 456, 457, 458]\n",
      "[459, 460, 461, 462, 463, 464, 465, 466, 467, 468, 469, 470, 471, 472, 473, 474, 475, 476, 477, 478, 479, 480, 481, 482, 483, 484, 485]\n",
      "[486, 487, 488, 489, 490, 491, 492, 493, 494, 495, 496, 497, 498, 499, 500, 501, 502, 503, 504, 505, 506, 507, 508, 509, 510, 511, 512]\n",
      "[513, 514, 515, 516, 517, 518, 519, 520, 521, 522, 523, 524, 525, 526, 527, 528, 529, 530, 531, 532, 533, 534, 535, 536, 537, 538, 539]\n",
      "[540, 541, 542, 543, 544, 545, 546, 547, 548, 549, 550, 551, 552, 553, 554, 555, 556, 557, 558, 559, 560, 561, 562, 563, 564, 565, 566]\n",
      "[567, 568, 569, 570, 571, 572, 573, 574, 575, 576, 577, 578, 579, 580, 581, 582, 583, 584, 585, 586, 587, 588, 589, 590, 591, 592, 593]\n",
      "[594, 595, 596, 597, 598, 599, 600, 601, 602, 603, 604, 605, 606, 607, 608, 609, 610, 611, 612, 613, 614, 615, 616, 617, 618, 619, 620]\n",
      "[621, 622, 623, 624, 625, 626, 627, 628, 629, 630, 631, 632, 633, 634, 635, 636, 637, 638, 639, 640, 641, 642, 643, 644, 645, 646, 647]\n",
      "[648, 649, 650, 651, 652, 653, 654, 655, 656, 657, 658, 659, 660, 661, 662, 663, 664, 665, 666, 667, 668, 669, 670, 671, 672, 673, 674]\n",
      "[675, 676, 677, 678, 679, 680, 681, 682, 683, 684, 685, 686, 687, 688, 689, 690, 691, 692, 693, 694, 695, 696, 697, 698, 699, 700, 701]\n",
      "[702, 703, 704, 705, 706, 707, 708, 709, 710, 711, 712, 713, 714, 715, 716, 717, 718, 719, 720, 721, 722, 723, 724, 725, 726, 727, 728]\n",
      "[729, 730, 731, 732, 733, 734, 735, 736, 737, 738, 739, 740, 741, 742, 743, 744, 745, 746, 747, 748, 749, 750, 751, 752, 753, 754, 755]\n",
      "[756, 757, 758, 759, 760, 761, 762, 763, 764, 765, 766, 767, 768, 769, 770, 771, 772, 773, 774, 775, 776, 777, 778, 779, 780, 781, 782]\n",
      "[783, 784, 785, 786, 787, 788, 789, 790, 791, 792, 793, 794, 795, 796, 797, 798, 799, 800, 801, 802, 803, 804, 805, 806, 807, 808, 809]\n",
      "0.07291571276552046 8.18457339914129e-06\n"
     ]
    }
   ],
   "source": [
    "reload(des_functions)\n",
    "F, var_f = des_functions.calculate_F(nbins=810, source_z=im3_zmc, lens_z=lens_z, source_weights=im3_weight, npatches=30)\n",
    "print(F, var_f)"
   ]
  },
  {
   "cell_type": "markdown",
   "metadata": {},
   "source": [
    "# Implementing calculation of F as a function and finding convergence for nbins"
   ]
  },
  {
   "cell_type": "code",
   "execution_count": 30,
   "metadata": {},
   "outputs": [
    {
     "name": "stdout",
     "output_type": "stream",
     "text": [
      "0.07291571276552046 8.18457339914129e-06 810\n"
     ]
    }
   ],
   "source": [
    "reload(des_functions)\n",
    "nbins = 100\n",
    "F_old, var_f = des_functions.calculate_F(nbins=nbins, source_z=im3_zmc, lens_z=lens_z,\n",
    "                                      source_weights=im3_weight)\n",
    "x = [100]\n",
    "y = [F_old]\n",
    "err = [var_f]\n",
    "F_diff = 1.0\n",
    "while F_diff > 1e-6:\n",
    "    nbins = nbins+10\n",
    "    F, var_f = des_functions.calculate_F(nbins=nbins, source_z=im3_zmc, lens_z=lens_z,\n",
    "                                      source_weights=im3_weight)\n",
    "    F_diff = abs(F-F_old)\n",
    "    F_old = F\n",
    "    x.append(nbins)\n",
    "    y.append(F)\n",
    "    err.append(np.sqrt(var_f))"
   ]
  },
  {
   "cell_type": "code",
   "execution_count": 37,
   "metadata": {},
   "outputs": [
    {
     "name": "stdout",
     "output_type": "stream",
     "text": [
      "0.07291571276552046 0.0028608693432488823 810\n"
     ]
    }
   ],
   "source": [
    "print(F, np.sqrt(var_f), nbins)"
   ]
  },
  {
   "cell_type": "code",
   "execution_count": 38,
   "metadata": {},
   "outputs": [
    {
     "name": "stdout",
     "output_type": "stream",
     "text": [
      "[0.07398507470642227, 0.07292526298911407, 0.07273091136561743, 0.07310474938915548, 0.0726665096039285, 0.0730137001867668, 0.07284226950256681, 0.07313056018762835, 0.07260979150260044, 0.0732773000796296, 0.07277716737961246, 0.07308600295423179, 0.07289776933851934, 0.07273504756323912, 0.07299297990587986, 0.07282356043316476, 0.07304010097842582, 0.07276990474254628, 0.07306738958420272, 0.07278765218777587, 0.07304364448399196, 0.07295849828211202, 0.07276170580779161, 0.07291451018132834, 0.07288836017576053, 0.07295618005930528, 0.07286469940449604, 0.07300396511936588, 0.07282753993961735, 0.07303946258611081, 0.07292092915374342, 0.07285941488786987, 0.07288839284477792, 0.0728928549662717, 0.07289796657735553, 0.07285070938769538, 0.07299848535335786, 0.07288362249431082, 0.07300462025679197, 0.0728856406091962, 0.0729393575737743, 0.07292518818939177, 0.07287632293439211, 0.07291848204792968, 0.07286254721326155, 0.07297501493910323, 0.07286775609719465, 0.07296204572789541, 0.07293128619309683, 0.0729737448580181, 0.07289237798417002, 0.07293467350174102, 0.07288800336470606, 0.07291128411110799, 0.07294498042330218, 0.07288936377005273, 0.07293892716485718, 0.07289245694803957, 0.07295170990546, 0.07290371089120526, 0.0729779980465177, 0.0728980930221209, 0.07291495536011519, 0.07292548801570549, 0.07287442911168356, 0.07295644468760892, 0.07288703476619407, 0.07293049109898962, 0.07288979223215138, 0.07297416210594228, 0.07291620286283794, 0.07291571276552046]\n"
     ]
    }
   ],
   "source": [
    "print(y)"
   ]
  },
  {
   "cell_type": "code",
   "execution_count": 41,
   "metadata": {},
   "outputs": [
    {
     "data": {
      "image/png": "[encoded data removed]",
      "text/plain": [
       "<Figure size 576x432 with 1 Axes>"
      ]
     },
     "metadata": {
      "needs_background": "light"
     },
     "output_type": "display_data"
    }
   ],
   "source": [
    "plt.figure(figsize=[8,6])\n",
    "plt.plot(x, y, lw=1)\n",
    "plt.annotate(r'$F = 0.0740$, Bins = $100$', xy=[100, 0.07398507470642227], xytext=[200, 0.0739], arrowprops=dict(arrowstyle='->'), fontsize=12)\n",
    "plt.annotate(r'$F = 0.0729$, Bins = $810$', xy=[810, 0.07291571276552046], xytext=[620, 0.0734], arrowprops=dict(arrowstyle='->'), fontsize=12)\n",
    "plt.xlabel('Number of bins', fontsize=12)\n",
    "plt.ylabel('F', fontsize=12)\n",
    "plt.savefig('F_convergence.png', dpi=300)"
   ]
  },
  {
   "cell_type": "code",
   "execution_count": 29,
   "metadata": {
    "collapsed": true,
    "jupyter": {
     "outputs_hidden": true
    }
   },
   "outputs": [
    {
     "name": "stdout",
     "output_type": "stream",
     "text": [
      "27\n",
      "[ 0  1  2  3  4  5  6  7  8  9 10 11 12 13 14 15 16 17 18 19 20 21 22 23\n",
      " 24 25 26]\n",
      "54\n",
      "[27 28 29 30 31 32 33 34 35 36 37 38 39 40 41 42 43 44 45 46 47 48 49 50\n",
      " 51 52 53]\n",
      "81\n",
      "[54 55 56 57 58 59 60 61 62 63 64 65 66 67 68 69 70 71 72 73 74 75 76 77\n",
      " 78 79 80]\n",
      "108\n",
      "[ 81  82  83  84  85  86  87  88  89  90  91  92  93  94  95  96  97  98\n",
      "  99 100 101 102 103 104 105 106 107]\n",
      "135\n",
      "[108 109 110 111 112 113 114 115 116 117 118 119 120 121 122 123 124 125\n",
      " 126 127 128 129 130 131 132 133 134]\n",
      "162\n",
      "[135 136 137 138 139 140 141 142 143 144 145 146 147 148 149 150 151 152\n",
      " 153 154 155 156 157 158 159 160 161]\n",
      "189\n",
      "[162 163 164 165 166 167 168 169 170 171 172 173 174 175 176 177 178 179\n",
      " 180 181 182 183 184 185 186 187 188]\n",
      "216\n",
      "[189 190 191 192 193 194 195 196 197 198 199 200 201 202 203 204 205 206\n",
      " 207 208 209 210 211 212 213 214 215]\n",
      "243\n",
      "[216 217 218 219 220 221 222 223 224 225 226 227 228 229 230 231 232 233\n",
      " 234 235 236 237 238 239 240 241 242]\n",
      "270\n",
      "[243 244 245 246 247 248 249 250 251 252 253 254 255 256 257 258 259 260\n",
      " 261 262 263 264 265 266 267 268 269]\n",
      "297\n",
      "[270 271 272 273 274 275 276 277 278 279 280 281 282 283 284 285 286 287\n",
      " 288 289 290 291 292 293 294 295 296]\n",
      "324\n",
      "[297 298 299 300 301 302 303 304 305 306 307 308 309 310 311 312 313 314\n",
      " 315 316 317 318 319 320 321 322 323]\n",
      "351\n",
      "[324 325 326 327 328 329 330 331 332 333 334 335 336 337 338 339 340 341\n",
      " 342 343 344 345 346 347 348 349 350]\n",
      "378\n",
      "[351 352 353 354 355 356 357 358 359 360 361 362 363 364 365 366 367 368\n",
      " 369 370 371 372 373 374 375 376 377]\n",
      "405\n",
      "[378 379 380 381 382 383 384 385 386 387 388 389 390 391 392 393 394 395\n",
      " 396 397 398 399 400 401 402 403 404]\n",
      "432\n",
      "[405 406 407 408 409 410 411 412 413 414 415 416 417 418 419 420 421 422\n",
      " 423 424 425 426 427 428 429 430 431]\n",
      "459\n",
      "[432 433 434 435 436 437 438 439 440 441 442 443 444 445 446 447 448 449\n",
      " 450 451 452 453 454 455 456 457 458]\n",
      "486\n",
      "[459 460 461 462 463 464 465 466 467 468 469 470 471 472 473 474 475 476\n",
      " 477 478 479 480 481 482 483 484 485]\n",
      "513\n",
      "[486 487 488 489 490 491 492 493 494 495 496 497 498 499 500 501 502 503\n",
      " 504 505 506 507 508 509 510 511 512]\n",
      "540\n",
      "[513 514 515 516 517 518 519 520 521 522 523 524 525 526 527 528 529 530\n",
      " 531 532 533 534 535 536 537 538 539]\n",
      "567\n",
      "[540 541 542 543 544 545 546 547 548 549 550 551 552 553 554 555 556 557\n",
      " 558 559 560 561 562 563 564 565 566]\n",
      "594\n",
      "[567 568 569 570 571 572 573 574 575 576 577 578 579 580 581 582 583 584\n",
      " 585 586 587 588 589 590 591 592 593]\n",
      "621\n",
      "[594 595 596 597 598 599 600 601 602 603 604 605 606 607 608 609 610 611\n",
      " 612 613 614 615 616 617 618 619 620]\n",
      "648\n",
      "[621 622 623 624 625 626 627 628 629 630 631 632 633 634 635 636 637 638\n",
      " 639 640 641 642 643 644 645 646 647]\n",
      "675\n",
      "[648 649 650 651 652 653 654 655 656 657 658 659 660 661 662 663 664 665\n",
      " 666 667 668 669 670 671 672 673 674]\n",
      "702\n",
      "[675 676 677 678 679 680 681 682 683 684 685 686 687 688 689 690 691 692\n",
      " 693 694 695 696 697 698 699 700 701]\n",
      "729\n",
      "[702 703 704 705 706 707 708 709 710 711 712 713 714 715 716 717 718 719\n",
      " 720 721 722 723 724 725 726 727 728]\n",
      "756\n",
      "[729 730 731 732 733 734 735 736 737 738 739 740 741 742 743 744 745 746\n",
      " 747 748 749 750 751 752 753 754 755]\n",
      "783\n",
      "[756 757 758 759 760 761 762 763 764 765 766 767 768 769 770 771 772 773\n",
      " 774 775 776 777 778 779 780 781 782]\n",
      "810\n",
      "[783 784 785 786 787 788 789 790 791 792 793 794 795 796 797 798 799 800\n",
      " 801 802 803 804 805 806 807 808 809]\n"
     ]
    }
   ],
   "source": [
    "nbins = 810\n",
    "patches = 30\n",
    "patch_size = nbins/patches\n",
    "\n",
    "data = np.arange(810)\n",
    "old_lim = 0\n",
    "for i in range(1,patches+1):\n",
    "    index_lim = int(i*patch_size)\n",
    "    print(index_lim)\n",
    "    print(data[old_lim:index_lim])\n",
    "    old_lim = index_lim"
   ]
  },
  {
   "cell_type": "code",
   "execution_count": 44,
   "metadata": {},
   "outputs": [
    {
     "name": "stdout",
     "output_type": "stream",
     "text": [
      "73\n"
     ]
    }
   ],
   "source": [
    "old_lim = 0\n",
    "index_lim = 27\n",
    "index = np.arange(int(nbins))\n",
    "b = source_chi[old_lim:index_lim]\n",
    "jk_source_chi = [x for x in source_chi if x not in b]\n",
    "print(np.size(jk_source_chi))"
   ]
  },
  {
   "cell_type": "code",
   "execution_count": 20,
   "metadata": {
    "collapsed": true,
    "jupyter": {
     "outputs_hidden": true
    }
   },
   "outputs": [
    {
     "name": "stdout",
     "output_type": "stream",
     "text": [
      "[ 94.79916893 240.35924689 383.56146241 524.36936549 662.75472524]\n",
      "95\n",
      "[ 798.69701191  932.18332176 1063.20795085 1191.77167711 1317.88161864]\n",
      "95\n",
      "[1441.55028507 1562.79565962 1681.64020638 1798.11036265 1912.23652001]\n",
      "95\n",
      "[2024.0519179  2133.59270871 2240.89725883 2346.00584612 2448.96049278]\n",
      "95\n",
      "[2549.80404381 2648.58065191 2745.33498496 2840.1120921  2932.95728212]\n",
      "95\n",
      "[3023.91591881 3113.03297824 3200.35343832 3285.92175323 3369.7817996 ]\n",
      "95\n",
      "[3451.97671816 3532.549317   3611.54132675 3688.99372129 3764.94665313]\n",
      "95\n",
      "[3839.43938869 3912.5102799  3984.19676815 4054.53541878 4123.56179697]\n",
      "95\n",
      "[4191.31025904 4257.81469696 4323.10794682 4387.22145506 4450.18664395]\n",
      "95\n",
      "[4512.03297168 4572.79011807 4632.48601631 4691.14808442 4748.80331284]\n",
      "95\n",
      "[4805.47718369 4861.19463687 4915.98032086 4969.85769207 5022.84948141]\n",
      "95\n",
      "[5074.97778129 5126.26404599 5176.72909576 5226.39313131 5275.27573527]\n",
      "95\n",
      "[5323.39585482 5370.77186979 5417.4216146  5463.36237149 5508.61086012]\n",
      "95\n",
      "[5553.18331107 5597.09547642 5640.36265807 5682.99973881 5725.02121615]\n",
      "95\n",
      "[5766.44123864 5807.27313112 5847.5297861  5887.22417786 5926.36905691]\n",
      "95\n",
      "[5964.97656552 6003.05761539 6040.62397367 6077.68736884 6114.25766834]\n",
      "95\n",
      "[6150.34524543 6185.96127296 6221.11464559 6255.81490019 6290.07258012]\n",
      "95\n",
      "[6323.89513702 6357.29237411 6390.27309546 6422.84442863 6455.01635215]\n",
      "95\n",
      "[6486.79470465 6518.18910369 6549.20552018 6579.8522917  6610.13606366]\n",
      "95\n",
      "[6640.06375604 6669.64253507 6698.87832793 6727.77829682 6756.34800811]\n",
      "95\n",
      "0.07387709826111391 2.1924492840628685e-05\n"
     ]
    }
   ],
   "source": [
    "F_i = []\n",
    "nbins=100\n",
    "npatches=20\n",
    "patch_size = nbins/npatches\n",
    "old_lim = 0\n",
    "for k in range(1,npatches+1):\n",
    "        \n",
    "    index_lim = int(k*patch_size)\n",
    "        \n",
    "    b = source_chi[old_lim:index_lim]\n",
    "    jk_source_chi = [x for x in source_chi if x not in b]\n",
    "    print(b)\n",
    "    print(np.size(jk_source_chi))\n",
    "    b = lens_chi[old_lim:index_lim]\n",
    "    jk_lens_chi = [x for x in lens_chi if x not in b]\n",
    "        \n",
    "    b = source_freq[old_lim:index_lim]\n",
    "    jk_source_freq = [x for x in source_freq if x not in b]\n",
    "        \n",
    "    b = lens_freq[old_lim:index_lim]\n",
    "    jk_lens_freq = [x for x in lens_freq if x not in b]\n",
    "        \n",
    "    # calculate rand,close\n",
    "    old_rand_close = 0.0\n",
    "    for i in range(len(jk_source_chi)):\n",
    "        for j in range(len(jk_lens_chi)):\n",
    "            if abs(jk_source_chi[i] - jk_lens_chi[j]) <= 100.0:\n",
    "                rand_close = old_rand_close + jk_source_freq[i] * jk_lens_freq[j]\n",
    "                old_rand_close = rand_close\n",
    "\n",
    "    # calculate rand\n",
    "    old_rand = 0.0\n",
    "    for i in range(len(jk_source_chi)):\n",
    "        for j in range(len(jk_lens_chi)):\n",
    "            rand = old_rand + jk_source_freq[i] * jk_lens_freq[j]\n",
    "            old_rand = rand\n",
    "            \n",
    "    # calculate F      \n",
    "    F_i.append(rand_close/rand)\n",
    "    old_lim = index_lim\n",
    "        \n",
    "F = np.mean(F_i)\n",
    "var_f = 1.0/(npatches-1) * np.sum((F_i - F)**2)\n",
    "print(F, var_f)"
   ]
  },
  {
   "cell_type": "code",
   "execution_count": 2,
   "metadata": {},
   "outputs": [
    {
     "name": "stdout",
     "output_type": "stream",
     "text": [
      "[0.24745971 0.22176833 0.21070513 ... 0.75858402 0.75454563 0.81837481]\n"
     ]
    }
   ],
   "source": [
    "npatches = 20\n",
    "\n",
    "# load in redmagic photo-z values for all lenses\n",
    "with fits.open(data_dir+'DES_Y1A1_3x2pt_redMaGiC_RANDOMS.fits') as hdu:\n",
    "    data = hdu[1].data\n",
    "    ra_l = data['ra']\n",
    "    dec_l = data['dec']\n",
    "    lens_z = data['z']\n",
    "del data\n",
    "\n",
    "print(lens_z)\n",
    "\n",
    "cat_l = treecorr.Catalog(ra=ra_l, dec=dec_l, ra_units='deg', dec_units='deg', r=lens_z, npatch=npatches)\n",
    "\n",
    "del ra_l, dec_l, lens_z"
   ]
  },
  {
   "cell_type": "code",
   "execution_count": 5,
   "metadata": {},
   "outputs": [],
   "source": [
    "# load in source IDs for matched im3shape catalogue\n",
    "with fits.open(data_dir+'y1_im3_shapes_matched.fits') as hdu:\n",
    "    data = hdu[1].data\n",
    "    im3_ID = data['coadd_objects_id']\n",
    "    ra_im3 = data['RA']\n",
    "    dec_im3 = data['DEC']\n",
    "    im3_weight = data['weight']\n",
    "del data\n",
    "\n",
    "# load in z_mc for all sources\n",
    "with fits.open(data_dir+'y1a1-gold-mof-badregion_BPZ.fits') as hdu:\n",
    "    data = hdu[1].data\n",
    "    im3_zmc = data['Z_MC']\n",
    "    zmc_ID = data['COADD_OBJECTS_ID']\n",
    "del data\n",
    "\n",
    "# match z_mc values to source IDs\n",
    "matches, zmc_indices, shape_indices = np.intersect1d(zmc_ID, im3_ID, return_indices=True)\n",
    "\n",
    "print(shape_indices)\n",
    "\n",
    "# slice z_mc values to only to those in matched catalogue\n",
    "im3_zmc = im3_zmc[zmc_indices]\n",
    "\n",
    "# delete uneccessary arrays\n",
    "del matches, zmc_indices, shape_indices, zmc_ID\n",
    "\n",
    "cat_s = treecorr.Catalog(ra=ra_im3, dec=dec_im3, ra_units='deg', dec_units='deg', r=im3_zmc, w=im3_weight, patch_centers=cat_l.patch_centers)\n",
    "\n",
    "del ra_im3, dec_im3, im3_zmc, im3_weight"
   ]
  },
  {
   "cell_type": "code",
   "execution_count": 9,
   "metadata": {},
   "outputs": [
    {
     "name": "stdout",
     "output_type": "stream",
     "text": [
      "Patch located, slicing redshift values from catalogue...\n",
      "Sliced, caluclating F_0...\n",
      "Patch located, slicing redshift values from catalogue...\n",
      "Sliced, caluclating F_1...\n",
      "Patch located, slicing redshift values from catalogue...\n",
      "Sliced, caluclating F_2...\n",
      "Patch located, slicing redshift values from catalogue...\n",
      "Sliced, caluclating F_3...\n",
      "Patch located, slicing redshift values from catalogue...\n",
      "Sliced, caluclating F_4...\n",
      "Patch located, slicing redshift values from catalogue...\n",
      "Sliced, caluclating F_5...\n",
      "Patch located, slicing redshift values from catalogue...\n",
      "Sliced, caluclating F_6...\n",
      "Patch located, slicing redshift values from catalogue...\n",
      "Sliced, caluclating F_7...\n",
      "Patch located, slicing redshift values from catalogue...\n",
      "Sliced, caluclating F_8...\n",
      "Patch located, slicing redshift values from catalogue...\n",
      "Sliced, caluclating F_9...\n",
      "Patch located, slicing redshift values from catalogue...\n",
      "Sliced, caluclating F_10...\n",
      "Patch located, slicing redshift values from catalogue...\n",
      "Sliced, caluclating F_11...\n",
      "Patch located, slicing redshift values from catalogue...\n",
      "Sliced, caluclating F_12...\n",
      "Patch located, slicing redshift values from catalogue...\n",
      "Sliced, caluclating F_13...\n",
      "Patch located, slicing redshift values from catalogue...\n",
      "Sliced, caluclating F_14...\n",
      "Patch located, slicing redshift values from catalogue...\n",
      "Sliced, caluclating F_15...\n",
      "Patch located, slicing redshift values from catalogue...\n",
      "Sliced, caluclating F_16...\n",
      "Patch located, slicing redshift values from catalogue...\n",
      "Sliced, caluclating F_17...\n",
      "Patch located, slicing redshift values from catalogue...\n",
      "Sliced, caluclating F_18...\n",
      "Patch located, slicing redshift values from catalogue...\n",
      "Sliced, caluclating F_19...\n"
     ]
    }
   ],
   "source": [
    "F_patches = np.zeros([npatches])\n",
    "\n",
    "for i in range(npatches):\n",
    "    \n",
    "    l_indexes = list(locate(cat_l.patch, lambda x: x != i))\n",
    "    s_indexes = list(locate(cat_s.patch, lambda x: x != i))\n",
    "    \n",
    "    print('Patch located, slicing redshift values from catalogue...')\n",
    "    \n",
    "    lens_z = cat_l.r[l_indexes]\n",
    "    source_z = cat_s.r[s_indexes]\n",
    "    source_weights = cat_s.w[s_indexes]\n",
    "    \n",
    "    print('Sliced, caluclating F_%g...' %i)\n",
    "    \n",
    "    F_patches[i] = des_functions.calculate_F(nbins=810, source_z=source_z, lens_z=lens_z, source_weights=source_weights)\n",
    "\n",
    "    \n",
    "F = 1.0/(npatches) * np.sum(F_patches)\n",
    "var_F = 1.0/(npatches - 1) * np.sum((F_patches[:] - F)**2)"
   ]
  },
  {
   "cell_type": "code",
   "execution_count": 10,
   "metadata": {},
   "outputs": [
    {
     "name": "stdout",
     "output_type": "stream",
     "text": [
      "0.07300081348124497\n",
      "5.249333523492787e-05\n"
     ]
    }
   ],
   "source": [
    "print(F)\n",
    "print(np.sqrt(var_F))"
   ]
  }
 ],
 "metadata": {
  "kernelspec": {
   "display_name": "Python 3",
   "language": "python",
   "name": "python3"
  },
  "language_info": {
   "codemirror_mode": {
    "name": "ipython",
    "version": 3
   },
   "file_extension": ".py",
   "mimetype": "text/x-python",
   "name": "python",
   "nbconvert_exporter": "python",
   "pygments_lexer": "ipython3",
   "version": "3.8.5"
  }
 },
 "nbformat": 4,
 "nbformat_minor": 4
}
