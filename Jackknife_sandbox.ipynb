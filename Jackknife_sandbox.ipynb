{
 "cells": [
  {
   "cell_type": "markdown",
   "metadata": {},
   "source": [
    "# Jackknife Resampling Tests\n",
    "\n",
    "- Divide observations into 'patches'\n",
    "- Leave out 1 patch and calculate parameter using the rest of the patches "
   ]
  },
  {
   "cell_type": "code",
   "execution_count": 2,
   "metadata": {},
   "outputs": [
    {
     "data": {
      "text/plain": [
       "'4.2.0'"
      ]
     },
     "execution_count": 2,
     "metadata": {},
     "output_type": "execute_result"
    }
   ],
   "source": [
    "import des_functions\n",
    "import treecorr\n",
    "import numpy as np\n",
    "import astropy.io.fits as fits\n",
    "from astropy import units as u\n",
    "from astropy.coordinates import SkyCoord\n",
    "import astropy.stats.jackknife as jackknife\n",
    "import matplotlib.pyplot as plt\n",
    "from more_itertools import locate\n",
    "data_dir = '/home/b7009348/projects/WGL_Project/DES-data/'\n",
    "treecorr.__version__"
   ]
  },
  {
   "cell_type": "code",
   "execution_count": 3,
   "metadata": {},
   "outputs": [],
   "source": [
    "# paths to required files\n",
    "data_dir = '/home/b7009348/projects/WGL_Project/DES-data/'\n",
    "lens_file = 'DES_Y1A1_3x2pt_redMaGiC_zerr_CATALOG.fits'\n",
    "source_file = 'y1_im3shape_z=0.9-1.3.fits'\n",
    "source_Zs = 'y1a1-gold-mof-badregion_BPZ.fits'"
   ]
  },
  {
   "cell_type": "markdown",
   "metadata": {},
   "source": [
    "### Jackknife using indexing on patches attribute of catalogues"
   ]
  },
  {
   "cell_type": "code",
   "execution_count": null,
   "metadata": {},
   "outputs": [
    {
     "name": "stdout",
     "output_type": "stream",
     "text": [
      "Total catalogues created, proceeding with jackknife...\n",
      "Patch 0 located...\n",
      "Number of sources in patch: 1941073.000000\n",
      "Total number of sources: 2013303.000000\n",
      "Correlation calculation complete, saving data...\n",
      "Patch 1 located...\n",
      "Number of sources in patch: 1936885.000000\n",
      "Total number of sources: 2013303.000000\n",
      "Correlation calculation complete, saving data...\n",
      "Patch 2 located...\n"
     ]
    }
   ],
   "source": [
    "# define bin and scale params\n",
    "nbins=20\n",
    "npatches=20\n",
    "theta_min=2.5\n",
    "theta_max=250\n",
    "\n",
    "# list of source files to compute cross-correlation for \n",
    "source_files = source_file\n",
    "\n",
    "# read in lens data and create treecorr catalogue object to store\n",
    "with fits.open(data_dir+lens_file) as hdu:\n",
    "    data = hdu[1].data\n",
    "    ra_l = data['RA']\n",
    "    dec_l = data['DEC']\n",
    "    w_l = data['weight']\n",
    "    \n",
    "# pass in npatch arguement to create catalogue using patches    \n",
    "cat_l = treecorr.Catalog(ra=ra_l, dec=dec_l, ra_units='deg', dec_units='deg', w=w_l, npatch=npatches)\n",
    "\n",
    "del data, ra_l, dec_l, w_l\n",
    "\n",
    "# read in randoms data and create treecorr catalogue\n",
    "with fits.open(data_dir+'DES_Y1A1_3x2pt_redMaGiC_RANDOMS.fits') as hdu:\n",
    "    data = hdu[1].data\n",
    "    #indexes = list(locate(data['z'], lambda x: 0.3 < x < 0.45)) # cut randoms to same redshift as lenses \n",
    "    ra_r = data['RA']#[indexes]\n",
    "    dec_r = data['dec']#[indexes]\n",
    "    \n",
    "# define patches based on patches from lens catalogue so all catalogues use the same patches    \n",
    "cat_r = treecorr.Catalog(ra=ra_r, dec=dec_r, ra_units='deg', dec_units='deg', patch_centers=cat_l.patch_centers)\n",
    "\n",
    "del data, ra_r, dec_r\n",
    "\n",
    "#del indexes\n",
    "\n",
    "with fits.open(data_dir+source_files) as hdu:\n",
    "    data = hdu[1].data\n",
    "    ra_s = data['ra']\n",
    "    dec_s = data['dec']\n",
    "    e1 = data['e1'] - data['c1']\n",
    "    e2 = data['e2'] - data['c2']\n",
    "    sens = data['m'] + 1.0\n",
    "    w = data['weight']\n",
    "\n",
    "    \n",
    "cat_s = treecorr.Catalog(ra=ra_s, dec=dec_s, ra_units='deg', dec_units='deg', g1=e1, g2=e2, w=w, patch_centers=cat_l.patch_centers)\n",
    "cat_k = treecorr.Catalog(ra=ra_s, dec=dec_s, ra_units='deg', dec_units='deg', k=sens, w=w, patch_centers=cat_l.patch_centers)\n",
    "\n",
    "del data, ra_s, dec_s, w, e1, e2, sens\n",
    "\n",
    "print('Total catalogues created, proceeding with jackknife...')\n",
    "\n",
    "gammaT_patches = np.zeros([npatches, nbins])\n",
    "theta_patches = np.zeros_like(gammaT_patches)\n",
    "boost_patches = np.zeros_like(gammaT_patches)\n",
    "\n",
    "#loop to exclude 1 patch at a time\n",
    "for i in range(npatches):\n",
    "    \n",
    "    #locate patch in catlogues\n",
    "    l_indexes = list(locate(cat_l.patch, lambda x: x != i))\n",
    "    r_indexes = list(locate(cat_r.patch, lambda x: x != i))\n",
    "    s_indexes = list(locate(cat_s.patch, lambda x: x != i))\n",
    "    k_indexes = list(locate(cat_k.patch, lambda x: x != i))   \n",
    "    \n",
    "    print('Patch %g located...' %i)\n",
    "    \n",
    "    #create new catalogues with this patch missing\n",
    "    jk_l = treecorr.Catalog(ra=cat_l.ra[l_indexes], dec=cat_l.dec[l_indexes], ra_units='rad', dec_units='rad', w=cat_l.w[l_indexes])\n",
    "    \n",
    "    jk_r = treecorr.Catalog(ra=cat_r.ra[r_indexes], dec=cat_r.dec[r_indexes], ra_units='rad', dec_units='rad', w=cat_r.w[r_indexes])\n",
    "    \n",
    "    jk_s = treecorr.Catalog(ra=cat_s.ra[s_indexes], dec=cat_s.dec[s_indexes], ra_units='rad', dec_units='rad', g1=cat_s.g1[s_indexes], \n",
    "                                g2=cat_s.g2[s_indexes], w=cat_s.w[s_indexes])\n",
    "    \n",
    "    jk_k = treecorr.Catalog(ra=cat_k.ra[k_indexes], dec=cat_k.dec[k_indexes], ra_units='rad', dec_units='rad', k=cat_k.k[k_indexes], \n",
    "                                w=cat_k.w[k_indexes])\n",
    "    \n",
    "    del l_indexes, r_indexes, s_indexes, k_indexes\n",
    "    \n",
    "    print('Number of sources in patch: %f' %jk_s.nobj)\n",
    "    print('Total number of sources: %f' %cat_s.nobj)\n",
    "    \n",
    "    # do correlations with lenese, NKCorrelation is used to apply multiplicative correction\n",
    "    ng = treecorr.NGCorrelation(nbins=nbins, min_sep=theta_min, max_sep=theta_max, sep_units='arcmin')\n",
    "    ng.process(jk_l, jk_s)\n",
    "    nk = treecorr.NKCorrelation(nbins=nbins, min_sep=theta_min, max_sep=theta_max, sep_units='arcmin')\n",
    "    nk.process(jk_l, jk_k)\n",
    "    \n",
    "    # do correlations with randoms\n",
    "    rg = treecorr.NGCorrelation(nbins=nbins, min_sep=theta_min, max_sep=theta_max, sep_units='arcmin')\n",
    "    rg.process(jk_r, jk_s)\n",
    "    rk = treecorr.NKCorrelation(nbins=nbins, min_sep=theta_min, max_sep=theta_max, sep_units='arcmin')\n",
    "    rk.process(jk_r, jk_k)\n",
    "    \n",
    "    # do count correlations to find boost\n",
    "    ls = treecorr.NNCorrelation(nbins=nbins, min_sep=theta_min, max_sep=theta_max, sep_units='arcmin')\n",
    "    ls.process(jk_l, jk_s)\n",
    "\n",
    "    rs = treecorr.NNCorrelation(nbins=nbins, min_sep=theta_min, max_sep=theta_max, sep_units='arcmin')\n",
    "    rs.process(jk_r, jk_s)\n",
    "    \n",
    "    print('Correlation calculation complete, saving data...')\n",
    "    \n",
    "    # correlation functions and corrections for lenses and randoms\n",
    "    xi_l = ng.xi\n",
    "    sens_l = nk.xi\n",
    "    xi_r = rg.xi\n",
    "    sens_r = rk.xi\n",
    "    \n",
    "    # store data in preallocated arrays\n",
    "    gammaT_patches[i,:] = xi_l/sens_l - xi_r/sens_r\n",
    "    theta_patches[i,:] = np.exp(ng.meanlogr)\n",
    "    \n",
    "    nrand = jk_r.nobj\n",
    "    nlens =jk_l.nobj\n",
    "    \n",
    "    boost_patches[i,:] = nrand/nlens * ls.weight/rs.weight\n",
    "    \n",
    "    \n",
    "gammaT = np.zeros([nbins])\n",
    "var = np.zeros_like(gammaT)\n",
    "boost = np.zeros_like(gammaT)\n",
    "boost_var = np.zeros_like(gammaT)\n",
    "for i in range(nbins):\n",
    "    \n",
    "    # rows represent patches, columns ang. sep. bins\n",
    "    gammaT[i] = 1.0/npatches * np.sum(gammaT_patches[:,i]) # sum over all patches\n",
    "    boost[i] = 1.0/npatches * np.sum(boost_patches[:,i])\n",
    "    \n",
    "    # each row of GammaT_patches corresponds to an x_i estimate\n",
    "    var[i] = 1.0/(npatches-1) * np.sum((gammaT_patches[:,i] - gammaT[i])**2) # sum over x_i - x\n",
    "    boost_var[i] = 1.0/(npatches-1) * np.sum((boost_patches[:,i] - boost[i])**2)\n",
    "    \n",
    "    # calculate average theta for all patches\n",
    "    theta[i] = 1.0/npatches * np.sum(theta_patches[:,i])\n",
    "    \n",
    "sig = np.sqrt(var)\n",
    "boost_sig = np.sqrt(boost_var)"
   ]
  },
  {
   "cell_type": "code",
   "execution_count": 1,
   "metadata": {},
   "outputs": [
    {
     "ename": "NameError",
     "evalue": "name 'plt' is not defined",
     "output_type": "error",
     "traceback": [
      "\u001b[0;31m---------------------------------------------------------------------------\u001b[0m",
      "\u001b[0;31mNameError\u001b[0m                                 Traceback (most recent call last)",
      "\u001b[0;32m<ipython-input-1-7153af499851>\u001b[0m in \u001b[0;36m<module>\u001b[0;34m\u001b[0m\n\u001b[0;32m----> 1\u001b[0;31m \u001b[0mplt\u001b[0m\u001b[0;34m.\u001b[0m\u001b[0mrcParams\u001b[0m\u001b[0;34m[\u001b[0m\u001b[0;34m'font.family'\u001b[0m\u001b[0;34m]\u001b[0m \u001b[0;34m=\u001b[0m \u001b[0;34m'serif'\u001b[0m\u001b[0;34m\u001b[0m\u001b[0;34m\u001b[0m\u001b[0m\n\u001b[0m\u001b[1;32m      2\u001b[0m \u001b[0mplt\u001b[0m\u001b[0;34m.\u001b[0m\u001b[0mrcParams\u001b[0m\u001b[0;34m[\u001b[0m\u001b[0;34m'font.serif'\u001b[0m\u001b[0;34m]\u001b[0m \u001b[0;34m=\u001b[0m \u001b[0;34m[\u001b[0m\u001b[0;34m'cmr10'\u001b[0m\u001b[0;34m]\u001b[0m\u001b[0;34m\u001b[0m\u001b[0;34m\u001b[0m\u001b[0m\n\u001b[1;32m      3\u001b[0m \u001b[0mplt\u001b[0m\u001b[0;34m.\u001b[0m\u001b[0mrcParams\u001b[0m\u001b[0;34m[\u001b[0m\u001b[0;34m'mathtext.fontset'\u001b[0m\u001b[0;34m]\u001b[0m \u001b[0;34m=\u001b[0m\u001b[0;34m'cm'\u001b[0m\u001b[0;34m\u001b[0m\u001b[0;34m\u001b[0m\u001b[0m\n\u001b[1;32m      4\u001b[0m \u001b[0;34m\u001b[0m\u001b[0m\n\u001b[1;32m      5\u001b[0m \u001b[0mplt\u001b[0m\u001b[0;34m.\u001b[0m\u001b[0mfigure\u001b[0m\u001b[0;34m(\u001b[0m\u001b[0mfigsize\u001b[0m\u001b[0;34m=\u001b[0m\u001b[0;34m[\u001b[0m\u001b[0;36m6\u001b[0m\u001b[0;34m,\u001b[0m\u001b[0;36m5\u001b[0m\u001b[0;34m]\u001b[0m\u001b[0;34m)\u001b[0m\u001b[0;34m\u001b[0m\u001b[0;34m\u001b[0m\u001b[0m\n",
      "\u001b[0;31mNameError\u001b[0m: name 'plt' is not defined"
     ]
    }
   ],
   "source": [
    "plt.rcParams['font.family'] = 'serif'\n",
    "plt.rcParams['font.serif'] = ['cmr10']\n",
    "plt.rcParams['mathtext.fontset'] ='cm'\n",
    "\n",
    "plt.figure(figsize=[6,5])\n",
    "plt.errorbar(theta, gammaT, yerr=sig, lw=0, marker='o', color='orange', markersize=5, elinewidth=1, capsize=3)\n",
    "plt.yscale('log')\n",
    "plt.xscale('log')\n",
    "plt.ylim([1e-6, 1e-2])\n",
    "plt.xlim([2.5,250])\n",
    "plt.xlabel(r'$\\theta$ (arcmin)')\n",
    "plt.ylabel(r'$\\gamma_{t}(\\theta)$')\n",
    "plt.title(r'$0.30<z_{l}<0.45$')\n",
    "plt.savefig('jackknife_zl=0.3-0.45_zs=all.png', dpi=300)"
   ]
  },
  {
   "cell_type": "code",
   "execution_count": null,
   "metadata": {},
   "outputs": [],
   "source": [
    "plt.figure(figsize=[6,5])\n",
    "plt.errorbar(theta_final, boost, yerr=boost_sig, lw=0, marker='o', color='orange', markersize=5, elinewidth=1, capsize=3)\n",
    "plt.xlabel(r'$\\theta$ (arcmin)')\n",
    "plt.ylabel(r'B($\\theta$)')\n",
    "plt.title(r'$0.30 < z_{l} < 0.45$')\n",
    "plt.legend([r'$0.20<z_{s}<0.43$', r'$0.43<z_{s}<0.63$', r'$0.63<z_{s}<0.90$', r'$0.90<z_{s}<1.30$'])\n",
    "plt.xscale('log')\n",
    "plt.ylim([0.98,1.12])\n",
    "plt.xlim([2.5,250])\n",
    "plt.savefig('jackknife_boosts_zl=0.3-0.45.png')"
   ]
  },
  {
   "cell_type": "raw",
   "metadata": {},
   "source": [
    "GammaT from internal JK for 0.9 < z_s < 1.3:\n",
    "[2.10543376e-03 2.12929087e-03 1.79235103e-03 1.06650975e-03\n",
    " 9.98746137e-04 9.64518157e-04 6.83175192e-04 7.49428967e-04\n",
    " 4.35617085e-04 4.22511703e-04 3.22358294e-04 2.71505645e-04\n",
    " 2.89913923e-04 2.10662120e-04 1.40371163e-04 1.62908128e-04\n",
    " 1.53060602e-04 1.17123973e-04 9.58682735e-05 8.14791962e-05]"
   ]
  },
  {
   "cell_type": "markdown",
   "metadata": {},
   "source": [
    "### Jackknife using manual definition of patches\n",
    "\n",
    "- patch centers stored as (x,y,z)"
   ]
  },
  {
   "cell_type": "code",
   "execution_count": 72,
   "metadata": {},
   "outputs": [
    {
     "name": "stdout",
     "output_type": "stream",
     "text": [
      "[[ 0.35413527 -0.44633383 -0.82181161]\n",
      " [ 0.47774971 -0.31716729 -0.81924363]\n",
      " [ 0.54539164 -0.1756263  -0.81957511]\n",
      " [ 0.62222779 -0.05689724 -0.78076583]\n",
      " [ 0.68611473 -0.17974666 -0.70493809]\n",
      " [ 0.58757677  0.0921854  -0.80390011]\n",
      " [ 0.71597824  0.03541437 -0.69722377]\n",
      " [ 0.48178334  0.32674835 -0.81309306]\n",
      " [ 0.53787712  0.20602692 -0.81746016]\n",
      " [ 0.67541167  0.20602494 -0.70807683]\n",
      " [ 0.00345964  0.59021241 -0.80724057]\n",
      " [ 0.1566531   0.58139513 -0.79839809]\n",
      " [ 0.01338874  0.71279091 -0.70124878]\n",
      " [ 0.29452347  0.5066864  -0.81026219]\n",
      " [ 0.16202126  0.70057231 -0.69494428]\n",
      " [ 0.39362654  0.41441345 -0.82056057]\n",
      " [ 0.61756149  0.34990967 -0.70440119]\n",
      " [ 0.29302637  0.64039529 -0.7099503 ]\n",
      " [ 0.42368534  0.5705177  -0.70356257]\n",
      " [ 0.52842607  0.46623903 -0.70949775]]\n",
      "33602\n"
     ]
    }
   ],
   "source": [
    "print(cat_l.patch_centers)\n",
    "\n",
    "counts = 0\n",
    "for value in cat_l.patch:\n",
    "    \n",
    "    if value == 0:\n",
    "        counts = counts +1 \n",
    "        \n",
    "print(counts)"
   ]
  },
  {
   "cell_type": "code",
   "execution_count": 83,
   "metadata": {},
   "outputs": [
    {
     "name": "stdout",
     "output_type": "stream",
     "text": [
      "[[ 0.35413527 -0.44633383 -0.82181161]\n",
      " [ 0.47774971 -0.31716729 -0.81924363]\n",
      " [ 0.54539164 -0.1756263  -0.81957511]\n",
      " [ 0.62222779 -0.05689724 -0.78076583]\n",
      " [ 0.68611473 -0.17974666 -0.70493809]\n",
      " [ 0.58757677  0.0921854  -0.80390011]\n",
      " [ 0.71597824  0.03541437 -0.69722377]\n",
      " [ 0.48178334  0.32674835 -0.81309306]\n",
      " [ 0.53787712  0.20602692 -0.81746016]\n",
      " [ 0.67541167  0.20602494 -0.70807683]\n",
      " [ 0.00345964  0.59021241 -0.80724057]\n",
      " [ 0.1566531   0.58139513 -0.79839809]\n",
      " [ 0.01338874  0.71279091 -0.70124878]\n",
      " [ 0.29452347  0.5066864  -0.81026219]\n",
      " [ 0.16202126  0.70057231 -0.69494428]\n",
      " [ 0.39362654  0.41441345 -0.82056057]\n",
      " [ 0.61756149  0.34990967 -0.70440119]\n",
      " [ 0.29302637  0.64039529 -0.7099503 ]\n",
      " [ 0.42368534  0.5705177  -0.70356257]\n",
      " [ 0.52842607  0.46623903 -0.70949775]]\n",
      "<SkyCoord (ICRS): (ra, dec) in deg\n",
      "    [(308.42958787, -55.26655587), (326.4207104 , -55.00914965),\n",
      "     (342.15047124, -55.04228323), (354.77533654, -51.33074797),\n",
      "     (345.31970424, -44.824543  ), (  8.91649634, -53.50416628),\n",
      "     (  2.83170808, -44.20468877), ( 34.1453557 , -54.39924238),\n",
      "     ( 20.9586957 , -54.83134798), ( 16.9635984 , -45.07865568),\n",
      "     ( 89.66415439, -53.82719725), ( 74.92015146, -52.97740239),\n",
      "     ( 88.92390837, -44.52728015), ( 59.83169049, -54.12155582),\n",
      "     ( 76.97815241, -44.02277691), ( 46.473615  , -55.14094806),\n",
      "     ( 29.53584416, -44.78118703), ( 65.41253677, -45.23087141),\n",
      "     ( 53.40119733, -44.71353317), ( 41.42249087, -45.19406536)]>\n"
     ]
    }
   ],
   "source": [
    "cart_patch = cat_l.patch_centers\n",
    "\n",
    "print(cart_patch)\n",
    "\n",
    "icrs_patch = SkyCoord(x=cart_patch[:,0], y=cart_patch[:,1], z=cart_patch[:,2], unit='mpc', representation_type='cartesian')\n",
    "\n",
    "icrs_patch.representation_type = 'unitspherical'\n",
    "\n",
    "print(icrs_patch)"
   ]
  },
  {
   "cell_type": "code",
   "execution_count": 107,
   "metadata": {},
   "outputs": [
    {
     "name": "stdout",
     "output_type": "stream",
     "text": [
      "[308.42958787 326.4207104  342.15047124 354.77533654 345.31970424\n",
      "   8.91649634   2.83170808  34.1453557   20.9586957   16.9635984\n",
      "  89.66415439  74.92015146  88.92390837  59.83169049  76.97815241\n",
      "  46.473615    29.53584416  65.41253677  53.40119733  41.42249087]\n",
      "-17.99112252232561\n"
     ]
    }
   ],
   "source": [
    "ra_patch = icrs_patch.frame.ra.deg\n",
    "dec_patch = icrs_patch.frame.dec.deg\n",
    "print(ra_patch)"
   ]
  },
  {
   "cell_type": "code",
   "execution_count": null,
   "metadata": {},
   "outputs": [],
   "source": [
    "# load in redmagic photo-z values for all lenses\n",
    "with fits.open(data_dir+'DES_Y1A1_3x2pt_redMaGiC_RANDOMS.fits') as hdu:\n",
    "    data = hdu[1].data\n",
    "    lens_z = data['z']\n",
    "del data\n",
    "\n",
    "cat_l = treecorr.Catalog(r=lens_z npatch=npatches)"
   ]
  },
  {
   "cell_type": "code",
   "execution_count": null,
   "metadata": {},
   "outputs": [],
   "source": [
    "# load in source IDs for matched im3shape catalogue\n",
    "with fits.open(data_dir+'y1_im3_shapes_matched.fits') as hdu:\n",
    "    data = hdu[1].data\n",
    "    im3_ID = data['coadd_objects_id']\n",
    "    im3_weight = data['weight']\n",
    "del data\n",
    "\n",
    "# load in z_mc for all sources\n",
    "with fits.open(data_dir+'y1a1-gold-mof-badregion_BPZ.fits') as hdu:\n",
    "    data = hdu[1].data\n",
    "    im3_zmc = data['Z_MC']\n",
    "    zmc_ID = data['COADD_OBJECTS_ID']\n",
    "del data\n",
    "\n",
    "# match z_mc values to source IDs\n",
    "matches, zmc_indices, shape_indices = np.intersect1d(zmc_ID, im3_ID, return_indices=True)\n",
    "\n",
    "print(np.size(zmc_indices), np.size(im3_ID))\n",
    "print(zmc_indices)\n",
    "\n",
    "# slice z_mc values to only to those in matched catalogue\n",
    "im3_zmc = im3_zmc[zmc_indices]\n",
    "\n",
    "# delete uneccessary arrays\n",
    "del matches, zmc_indices, shape_indices, zmc_ID\n",
    "\n"
   ]
  }
 ],
 "metadata": {
  "kernelspec": {
   "display_name": "Python 3",
   "language": "python",
   "name": "python3"
  },
  "language_info": {
   "codemirror_mode": {
    "name": "ipython",
    "version": 3
   },
   "file_extension": ".py",
   "mimetype": "text/x-python",
   "name": "python",
   "nbconvert_exporter": "python",
   "pygments_lexer": "ipython3",
   "version": "3.8.5"
  }
 },
 "nbformat": 4,
 "nbformat_minor": 4
}
