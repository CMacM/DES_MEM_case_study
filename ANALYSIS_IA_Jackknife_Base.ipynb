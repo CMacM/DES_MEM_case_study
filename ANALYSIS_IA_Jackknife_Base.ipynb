{
 "cells": [
  {
   "cell_type": "markdown",
   "id": "24cfe5c8-3c96-4fa4-9316-c21f2589859e",
   "metadata": {},
   "source": [
    "## Verifying treecorr patch stochasiticity's effect on jackknife\n",
    "\n",
    "- Defining patches in catalogue affects resulting values due to different numerical realization\n",
    "- Stochasticity in patches has significant bearing on resulting tangential shear values of similar order to \n",
    "    signal magnitude \n",
    "- Tried adding patches into catalogues to see if it boosted SNR"
   ]
  },
  {
   "cell_type": "code",
   "execution_count": 1,
   "id": "aaa0bc68-c30d-44e6-ac15-ff91d395abd8",
   "metadata": {
    "tags": []
   },
   "outputs": [],
   "source": [
    "import numpy as np\n",
    "import treecorr\n",
    "import des_functions as des\n",
    "from more_itertools import locate\n",
    "import time\n",
    "import astropy.io.fits as fits \n",
    "import matplotlib.pyplot as plt\n",
    "\n",
    "plt.rcParams['figure.facecolor'] = 'white'\n",
    "plt.rcParams['font.family'] = 'serif'\n",
    "plt.rcParams['font.serif'] = ['cmr10']\n",
    "plt.rcParams['mathtext.fontset'] ='cm'\n",
    "data_dir = '/home/b7009348/WGL_project/DES-data/'"
   ]
  },
  {
   "cell_type": "code",
   "execution_count": 2,
   "id": "3cfc4a87-722f-4308-a4c3-fdfb572647f2",
   "metadata": {},
   "outputs": [],
   "source": [
    "#des.create_patches(lens_file=lens_file, npatches=npatches)"
   ]
  },
  {
   "cell_type": "code",
   "execution_count": 4,
   "id": "29cb7e53-6b11-4079-bb94-2ed2f3e22bc6",
   "metadata": {},
   "outputs": [
    {
     "name": "stdout",
     "output_type": "stream",
     "text": [
      "Opening files...\n",
      "Locating sources in range 0 - 0.9...\n",
      "Sources in range found, slicing data...\n",
      "Matching redshifts to catalogue...\n",
      "Slicing catalogue data...\n",
      "Data sliced, writing to new file...\n",
      "Runtime: 181.164\n",
      "Opening files...\n",
      "Locating sources in range 0 - 0.9...\n",
      "Sources in range found, slicing data...\n",
      "Matching redshifts to catalogue...\n",
      "Slicing catalogue data...\n",
      "Data sliced, writing to new file...\n",
      "Runtime: 68.9189\n"
     ]
    }
   ],
   "source": [
    "des.cut_redshift(mcal_file, z_file, 'mcal', 0., 0.90)\n",
    "des.cut_redshift(im3_file, z_file, 'im3', 0., 0.90)"
   ]
  },
  {
   "cell_type": "code",
   "execution_count": 2,
   "id": "07355c1e-06fb-4158-a91a-c623ca348ed3",
   "metadata": {},
   "outputs": [],
   "source": [
    "lens_file = 'DES_Y1A1_3x2pt_redMaGiC_zerr_CATALOG.fits'\n",
    "rand_file = 'DES_Y1A1_3x2pt_redMaGiC_RANDOMS.fits'\n",
    "im3_file = 'y1_im3_shapes_matched.fits'\n",
    "mcal_file = 'y1_mcal_shapes_matched.fits'\n",
    "z_file = 'mcal_BPZ_(binning).fits'\n",
    "\n",
    "lens_maxIA = 'DES_Y1A1_Lenses_z=0.75-0.9.fits'\n",
    "mcal_maxIA = 'y1_mcal_z=0-0.9.fits'\n",
    "im3_maxIA = 'y1_im3_z=0-0.9.fits'"
   ]
  },
  {
   "cell_type": "code",
   "execution_count": 3,
   "id": "1a67317e-043e-4b37-84f7-d0617975435f",
   "metadata": {},
   "outputs": [],
   "source": [
    "npatches= 20\n",
    "sep_bins = 10\n",
    "theta_min = 2.5\n",
    "theta_max = 250.0\n",
    "slops = 0.1"
   ]
  },
  {
   "cell_type": "code",
   "execution_count": 4,
   "id": "de0bada2-39a8-46e6-8d56-f6786279664b",
   "metadata": {
    "tags": []
   },
   "outputs": [
    {
     "name": "stdout",
     "output_type": "stream",
     "text": [
      "Catalogues created, runtime=35.596230.\n",
      "Patch 0 located and sliced, calculating correlations...\n",
      "IA signal estimated, runtime=271.871207.\n",
      "Patch 1 located and sliced, calculating correlations...\n",
      "IA signal estimated, runtime=263.743874.\n",
      "Patch 2 located and sliced, calculating correlations...\n",
      "IA signal estimated, runtime=247.951798.\n",
      "Patch 3 located and sliced, calculating correlations...\n",
      "IA signal estimated, runtime=365.090426.\n",
      "Patch 4 located and sliced, calculating correlations...\n",
      "IA signal estimated, runtime=227.226502.\n",
      "Patch 5 located and sliced, calculating correlations...\n",
      "IA signal estimated, runtime=223.018227.\n",
      "Patch 6 located and sliced, calculating correlations...\n",
      "IA signal estimated, runtime=230.530726.\n",
      "Patch 7 located and sliced, calculating correlations...\n",
      "IA signal estimated, runtime=235.269482.\n",
      "Patch 8 located and sliced, calculating correlations...\n",
      "IA signal estimated, runtime=262.192664.\n",
      "Patch 9 located and sliced, calculating correlations...\n",
      "IA signal estimated, runtime=251.836686.\n",
      "Patch 10 located and sliced, calculating correlations...\n",
      "IA signal estimated, runtime=257.881652.\n",
      "Patch 11 located and sliced, calculating correlations...\n",
      "IA signal estimated, runtime=757.671700.\n",
      "Patch 12 located and sliced, calculating correlations...\n",
      "IA signal estimated, runtime=227.695948.\n",
      "Patch 13 located and sliced, calculating correlations...\n",
      "IA signal estimated, runtime=220.478778.\n",
      "Patch 14 located and sliced, calculating correlations...\n",
      "IA signal estimated, runtime=227.975795.\n",
      "Patch 15 located and sliced, calculating correlations...\n",
      "IA signal estimated, runtime=222.033008.\n",
      "Patch 16 located and sliced, calculating correlations...\n",
      "IA signal estimated, runtime=253.736209.\n",
      "Patch 17 located and sliced, calculating correlations...\n",
      "IA signal estimated, runtime=260.839318.\n",
      "Patch 18 located and sliced, calculating correlations...\n",
      "IA signal estimated, runtime=328.917850.\n",
      "Patch 19 located and sliced, calculating correlations...\n",
      "IA signal estimated, runtime=474.074692.\n"
     ]
    },
    {
     "name": "stderr",
     "output_type": "stream",
     "text": [
      "IOStream.flush timed out\n",
      "IOStream.flush timed out\n",
      "IOStream.flush timed out\n",
      "IOStream.flush timed out\n",
      "IOStream.flush timed out\n",
      "IOStream.flush timed out\n"
     ]
    },
    {
     "name": "stdout",
     "output_type": "stream",
     "text": [
      "Full signal estimated, runtime =296.084042.\n"
     ]
    },
    {
     "name": "stderr",
     "output_type": "stream",
     "text": [
      "/tmp/ipykernel_41018/3901774927.py:86: UserWarning: cmr10 font should ideally be used with mathtext, set axes.formatter.use_mathtext to True\n",
      "  plt.errorbar(theta, IA_final, yerr=IA_sig, lw=0, marker='o', color='navy', markersize=5, elinewidth=1, capsize=3)\n"
     ]
    },
    {
     "name": "stdout",
     "output_type": "stream",
     "text": [
      "[6.91022533e-04 4.92418492e-04 2.45885300e-04 2.59319531e-04\n",
      " 1.98424087e-04 7.62201295e-05 6.12030167e-05 7.82848448e-05\n",
      " 4.72200061e-05 3.04836266e-05] [5.60793531e-04 3.70129558e-04 2.95898156e-04 2.05486204e-04\n",
      " 1.12197100e-04 9.44077264e-05 6.57425843e-05 4.73528563e-05\n",
      " 4.33000348e-05 5.53847566e-05]\n"
     ]
    },
    {
     "data": {
      "image/png": "[encoded data removed]",
      "text/plain": [
       "<Figure size 600x500 with 1 Axes>"
      ]
     },
     "metadata": {},
     "output_type": "display_data"
    }
   ],
   "source": [
    "start=time.time()\n",
    "\n",
    "with fits.open(data_dir+lens_file) as hdu:\n",
    "    data = hdu[1].data\n",
    "    ra_l = data['RA']\n",
    "    dec_l = data['DEC']\n",
    "    w_l = data['weight']\n",
    "del data\n",
    "\n",
    "cat_l = treecorr.Catalog(ra=ra_l, dec=dec_l, ra_units='deg', dec_units='deg', w=w_l, patch_centers=data_dir+'jackknife_patch_centers')\n",
    "\n",
    "del ra_l, dec_l, w_l\n",
    "\n",
    "with fits.open(data_dir+rand_file) as hdu:\n",
    "    data = hdu[1].data\n",
    "    #indexes = list(locate(data['z'], lambda x: 0.75 < x < 0.90)) # cut randoms to same redshift as lenses \n",
    "    rand_z = data['z']#[indexes]\n",
    "    ra_r = data['RA']#[indexes]\n",
    "    dec_r = data['DEC']#[indexes]\n",
    "del data\n",
    "\n",
    "cat_r = treecorr.Catalog(ra=ra_r, dec=dec_r, ra_units='deg', dec_units='deg', r=rand_z, patch_centers=data_dir+'jackknife_patch_centers')\n",
    "\n",
    "del ra_r, dec_r, rand_z\n",
    "\n",
    "with fits.open(data_dir+mcal_file) as hdu:\n",
    "    data = hdu[1].data\n",
    "    ra_s = data['ra']\n",
    "    dec_s = data['dec']\n",
    "    e1 = data['e1']\n",
    "    e2 = data['e2']\n",
    "    R11 = data['R11']\n",
    "del data\n",
    "\n",
    "cat_mcal = treecorr.Catalog(ra=ra_s, dec=dec_s, ra_units='deg', dec_units='deg', r=R11, g1=e1, g2=e2, patch_centers=data_dir+'jackknife_patch_centers')\n",
    "\n",
    "del ra_s, dec_s, e1, e2, R11\n",
    "\n",
    "with fits.open(data_dir+im3_file) as hdu:\n",
    "    data = hdu[1].data\n",
    "    im3_ID = data['coadd_objects_id']\n",
    "    ra_s = data['ra']\n",
    "    dec_s = data['dec']\n",
    "    e1 = data['e1'] - data['c1']\n",
    "    e2 = data['e2'] - data['c2']\n",
    "    sens = data['m'] + 1.0\n",
    "    w = data['weight']\n",
    "del data\n",
    "\n",
    "with fits.open(data_dir+z_file) as hdu:\n",
    "    data = hdu[1].data\n",
    "    zmc = data['z_mc']\n",
    "    zmc_ID = data['coadd_objects_id']\n",
    "del data\n",
    "\n",
    "matches, zmc_indices, shape_indices = np.intersect1d(zmc_ID, im3_ID, return_indices=True)\n",
    "\n",
    "zmc = zmc[zmc_indices]\n",
    "\n",
    "del zmc_ID, matches, zmc_indices, shape_indices, im3_ID\n",
    "\n",
    "cat_im3 = treecorr.Catalog(ra=ra_s, dec=dec_s, ra_units='deg', dec_units='deg', r=zmc, g1=e1, g2=e2, w=w, \n",
    "                           patch_centers=data_dir+'jackknife_patch_centers')\n",
    "cat_k = treecorr.Catalog(ra=ra_s, dec=dec_s, ra_units='deg', dec_units='deg', k=sens, w=w, patch_centers=data_dir+'jackknife_patch_centers')\n",
    "\n",
    "del ra_s, dec_s, e1, e2, sens, zmc, w\n",
    "\n",
    "end = time.time()\n",
    "diff=end-start\n",
    "\n",
    "print('Catalogues created, runtime=%f.'%diff)\n",
    "\n",
    "IA_final = np.zeros([sep_bins])\n",
    "IA_sig = np.zeros_like(IA_final)\n",
    "\n",
    "log_shift = np.logspace(np.log10(0.025), np.log10(2.5), 20)\n",
    "    \n",
    "IA_jk, IA_sig = des.IA_jackknife(cat_l=cat_l, cat_r=cat_r, cat_mcal=cat_mcal, cat_im3=cat_im3, cat_k=cat_k, sep_bins=sep_bins, npatches=npatches, fbins=810,\n",
    "                                    theta_min=theta_min, theta_max=theta_max, bin_slop=slops)\n",
    "\n",
    "IA_final, theta = des.IA_full(cat_l=cat_l, cat_r=cat_r, cat_mcal=cat_mcal, cat_im3=cat_im3, cat_k=cat_k, sep_bins=sep_bins, fbins=810, \n",
    "                                  theta_min=theta_min, theta_max=theta_max, bin_slop=slops)                           \n",
    "\n",
    "\n",
    "plt.figure(figsize=[6,5])\n",
    "plt.errorbar(theta, IA_final, yerr=IA_sig, lw=0, marker='o', color='navy', markersize=5, elinewidth=1, capsize=3)    \n",
    "plt.yscale('log')\n",
    "plt.xscale('log')\n",
    "plt.ylim([1e-6, 1e-2])\n",
    "plt.xlim([2.5,250])\n",
    "plt.xlabel(r'$\\theta$ (arcmin)')\n",
    "plt.ylabel(r'$\\bar{\\gamma}_{IA}(\\theta)$')\n",
    "plt.title('All lenses')    \n",
    "plt.legend(['Bin slop = 0.10'])\n",
    "plt.savefig('IA_Bins=10_BinSlop=0.1.png', dpi=300)\n",
    "    \n",
    "print(IA_final, IA_sig) \n",
    "\n",
    "del cat_l, cat_r, cat_im3, cat_mcal, cat_k"
   ]
  },
  {
   "cell_type": "code",
   "execution_count": 12,
   "id": "4f314ecd-41ba-4c51-95f9-c2ea999835c0",
   "metadata": {},
   "outputs": [],
   "source": [
    "jackknife_values = np.load(data_dir+'ia_jackknife_values-bin_slop=0.1.npz')"
   ]
  },
  {
   "cell_type": "code",
   "execution_count": 13,
   "id": "453abe2e-0921-45f0-9b45-438555e309ee",
   "metadata": {},
   "outputs": [],
   "source": [
    "cov = jackknife_values['IA_cov']"
   ]
  },
  {
   "cell_type": "code",
   "execution_count": 15,
   "id": "38c1f7a5-0cb7-4725-8acc-3d792798e779",
   "metadata": {},
   "outputs": [
    {
     "name": "stdout",
     "output_type": "stream",
     "text": [
      "[4.29750942e-07 5.61629791e-07 1.43377100e-07 1.55265943e-07\n",
      " 1.09650227e-07 1.00863059e-07 7.44546908e-08 3.89565698e-08\n",
      " 3.78210078e-08 1.62356435e-08 1.74847920e-08 1.26897925e-08\n",
      " 9.08777049e-09 4.66575360e-09 4.70412120e-09 5.19452139e-09\n",
      " 2.41631731e-09 3.64379169e-09 2.56711809e-09 2.38804085e-09]\n"
     ]
    }
   ],
   "source": [
    "print(np.diag(cov))"
   ]
  },
  {
   "cell_type": "code",
   "execution_count": 85,
   "id": "2f6bde7a-2ec5-4c9e-9962-fe891a6a950d",
   "metadata": {},
   "outputs": [
    {
     "data": {
      "image/png": "[encoded data removed]",
      "text/plain": [
       "<Figure size 576x504 with 1 Axes>"
      ]
     },
     "metadata": {},
     "output_type": "display_data"
    }
   ],
   "source": [
    "jackknifes = ['ia_jackknife_values-bin_slop=0.43.npz', 'ia_jackknife_values-bin_slop=0.1.npz', 'ia_jackknife_values-bin_slop=0.npz']\n",
    "fulls = ['ia_full_values-bin_slop=0.43.npz', 'ia_full_values-bin_slop=0.1.npz', 'ia_full_values-bin_slop=0.npz']\n",
    "colors = ['orange', 'mediumvioletred', 'navy']\n",
    "markers = ['o', '^', 's']\n",
    "plt.figure(figsize=[8,7])\n",
    "for i in range(len(fulls)):\n",
    "\n",
    "    data_dir = '/home/b7009348/WGL_project/DES-data/'\n",
    "    jackknife  = np.load(data_dir+jackknifes[i])\n",
    "    full_data = np.load(data_dir+fulls[i])\n",
    "\n",
    "    # select parts of data needed for fitting\n",
    "    data_points = full_data['IA']\n",
    "    IA_sig = np.sqrt(np.diag(jackknife['IA_cov']))\n",
    "    \n",
    "    logshift = 0.08*theta\n",
    "\n",
    "    plt.errorbar(theta+logshift*i, IA_final, yerr=IA_sig, lw=0, color=colors[i], markersize=5, elinewidth=1, capsize=3, marker=markers[i])    \n",
    "    plt.yscale('log')\n",
    "    plt.xscale('log')\n",
    "    plt.xticks(fontsize=16)\n",
    "    plt.yticks(fontsize=16)\n",
    "    plt.ylim([1e-6, 1e-2])\n",
    "    plt.xlim([2.5,300])\n",
    "    plt.xlabel(r'$\\theta$ (arcmin)', fontsize=18)\n",
    "    plt.ylabel(r'$(1-a)\\bar{\\gamma}_{IA}(\\theta)$', fontsize=18)  \n",
    "    \n",
    "plt.legend(['Bin slop = 0.43', 'Bin slop = 0.10', 'Bin slop = 0.00'], fontsize=16)    \n",
    "plt.savefig('IA_BinSlop_comparison.png', dpi=300)"
   ]
  },
  {
   "cell_type": "code",
   "execution_count": 5,
   "id": "1c414668-5b4b-4d35-8cb4-785aa32d0b1e",
   "metadata": {},
   "outputs": [
    {
     "name": "stdout",
     "output_type": "stream",
     "text": [
      "0.0009430450359923301\n"
     ]
    }
   ],
   "source": [
    "jackknife = np.load(data_dir+'ia_jackknife_values-bin_slop=0.npz')\n",
    "IA_sig = np.sqrt(np.diag(jackknife['IA_cov']))\n",
    "mcal_patches = jackknife['mcal']\n",
    "im3_patches = jackknife['im3']\n",
    "boost_patches = jackknife['boost']\n",
    "F_patches = jackknife['F']\n",
    "\n",
    "F = 1.0/npatches * np.sum(F_patches)\n",
    "mcal_jk = np.zeros([sep_bins])\n",
    "im3_jk = np.zeros_like(mcal_jk)\n",
    "boost_jk = np.zeros_like(mcal_jk)\n",
    "mcal_sig = np.zeros_like(mcal_jk)\n",
    "im3_sig = np.zeros_like(mcal_jk)\n",
    "boost_sig = np.zeros_like(mcal_jk)\n",
    "for i in range(sep_bins): \n",
    "    bin_patches = mcal_patches[:,i] \n",
    "    mcal_jk[i] = 1.0/npatches * np.sum(bin_patches)\n",
    "    \n",
    "    bin_patches = im3_patches[:,i] \n",
    "    im3_jk[i] = 1.0/npatches * np.sum(bin_patches)\n",
    "    \n",
    "    bin_patches = boost_patches[:,i] \n",
    "    boost_jk[i] = 1.0/npatches * np.sum(bin_patches)\n",
    "    \n",
    "F_sig  = np.sqrt((npatches-1.0)/npatches * np.sum((F_patches[:]-F)**2))    \n",
    "print(F_sig)    \n",
    "for i in range(sep_bins):\n",
    "        mcal_sig[i] = np.sqrt((npatches-1.0)/npatches * np.sum((mcal_patches[:,i] - mcal_jk[i])**2))\n",
    "        im3_sig[i] = np.sqrt((npatches-1.0)/npatches * np.sum((im3_patches[:,i] - im3_jk[i])**2))\n",
    "        boost_sig[i] = np.sqrt((npatches-1.0)/npatches * np.sum((boost_patches[:,i] - boost_jk[i])**2))"
   ]
  },
  {
   "cell_type": "code",
   "execution_count": 6,
   "id": "028dedbf-088a-43ce-8715-faaf51024731",
   "metadata": {},
   "outputs": [
    {
     "name": "stdout",
     "output_type": "stream",
     "text": [
      "0.07337595183326624\n"
     ]
    },
    {
     "ename": "NameError",
     "evalue": "name 'theta' is not defined",
     "output_type": "error",
     "traceback": [
      "\u001b[0;31m---------------------------------------------------------------------------\u001b[0m",
      "\u001b[0;31mNameError\u001b[0m                                 Traceback (most recent call last)",
      "\u001b[0;32m<ipython-input-6-2e3c8e36b524>\u001b[0m in \u001b[0;36m<module>\u001b[0;34m\u001b[0m\n\u001b[1;32m     14\u001b[0m \u001b[0;34m\u001b[0m\u001b[0m\n\u001b[1;32m     15\u001b[0m \u001b[0mplt\u001b[0m\u001b[0;34m.\u001b[0m\u001b[0mfigure\u001b[0m\u001b[0;34m(\u001b[0m\u001b[0mfigsize\u001b[0m\u001b[0;34m=\u001b[0m\u001b[0;34m[\u001b[0m\u001b[0;36m6\u001b[0m\u001b[0;34m,\u001b[0m\u001b[0;36m5\u001b[0m\u001b[0;34m]\u001b[0m\u001b[0;34m)\u001b[0m\u001b[0;34m\u001b[0m\u001b[0;34m\u001b[0m\u001b[0m\n\u001b[0;32m---> 16\u001b[0;31m \u001b[0mplt\u001b[0m\u001b[0;34m.\u001b[0m\u001b[0merrorbar\u001b[0m\u001b[0;34m(\u001b[0m\u001b[0mtheta\u001b[0m\u001b[0;34m,\u001b[0m \u001b[0mmcal\u001b[0m\u001b[0;34m,\u001b[0m \u001b[0myerr\u001b[0m\u001b[0;34m=\u001b[0m\u001b[0mmcal_sig\u001b[0m\u001b[0;34m,\u001b[0m \u001b[0mlw\u001b[0m\u001b[0;34m=\u001b[0m\u001b[0;36m0\u001b[0m\u001b[0;34m,\u001b[0m \u001b[0mcolor\u001b[0m\u001b[0;34m=\u001b[0m\u001b[0;34m'orange'\u001b[0m\u001b[0;34m,\u001b[0m \u001b[0mmarkersize\u001b[0m\u001b[0;34m=\u001b[0m\u001b[0;36m5\u001b[0m\u001b[0;34m,\u001b[0m \u001b[0melinewidth\u001b[0m\u001b[0;34m=\u001b[0m\u001b[0;36m1\u001b[0m\u001b[0;34m,\u001b[0m \u001b[0mcapsize\u001b[0m\u001b[0;34m=\u001b[0m\u001b[0;36m4\u001b[0m\u001b[0;34m,\u001b[0m \u001b[0mmarker\u001b[0m\u001b[0;34m=\u001b[0m\u001b[0;34m'o'\u001b[0m\u001b[0;34m)\u001b[0m\u001b[0;34m\u001b[0m\u001b[0;34m\u001b[0m\u001b[0m\n\u001b[0m\u001b[1;32m     17\u001b[0m \u001b[0mplt\u001b[0m\u001b[0;34m.\u001b[0m\u001b[0myscale\u001b[0m\u001b[0;34m(\u001b[0m\u001b[0;34m'log'\u001b[0m\u001b[0;34m)\u001b[0m\u001b[0;34m\u001b[0m\u001b[0;34m\u001b[0m\u001b[0m\n\u001b[1;32m     18\u001b[0m \u001b[0mplt\u001b[0m\u001b[0;34m.\u001b[0m\u001b[0mxscale\u001b[0m\u001b[0;34m(\u001b[0m\u001b[0;34m'log'\u001b[0m\u001b[0;34m)\u001b[0m\u001b[0;34m\u001b[0m\u001b[0;34m\u001b[0m\u001b[0m\n",
      "\u001b[0;31mNameError\u001b[0m: name 'theta' is not defined"
     ]
    },
    {
     "data": {
      "text/plain": [
       "<Figure size 432x360 with 0 Axes>"
      ]
     },
     "metadata": {},
     "output_type": "display_data"
    }
   ],
   "source": [
    "full = np.load(data_dir+'ia_full_values-bin_slop=0.npz')\n",
    "mcal = full['mcal']\n",
    "im3 = full['im3']\n",
    "boost = full['boost']\n",
    "F = full['F']\n",
    "IA = full['IA']\n",
    "\n",
    "print(F)\n",
    "\n",
    "plt.rcParams['figure.facecolor'] = 'white'\n",
    "plt.rcParams['font.family'] = 'serif'\n",
    "plt.rcParams['font.serif'] = ['cmr10']\n",
    "plt.rcParams['mathtext.fontset'] ='cm'\n",
    "\n",
    "plt.figure(figsize=[6,5])\n",
    "plt.errorbar(theta, mcal, yerr=mcal_sig, lw=0, color='orange', markersize=5, elinewidth=1, capsize=4, marker='o')    \n",
    "plt.yscale('log')\n",
    "plt.xscale('log')\n",
    "plt.xticks(fontsize=12)\n",
    "plt.yticks(fontsize=12)\n",
    "plt.ylim([1e-6, 1e-2])\n",
    "plt.xlim([2.5,250])\n",
    "plt.xlabel(r'$\\theta$ (arcmin)', fontsize=16)\n",
    "plt.ylabel(r'$\\gamma_{t}^{MCAL}(\\theta)$', fontsize=16)\n",
    "plt.savefig('MCAL_binslop=0.png',dpi=300)\n",
    "\n",
    "plt.figure(figsize=[6,5])\n",
    "plt.errorbar(theta, mcal, yerr=im3_sig, lw=0, color='mediumvioletred', markersize=5, elinewidth=1, capsize=4, marker='o')    \n",
    "plt.yscale('log')\n",
    "plt.xscale('log')\n",
    "plt.xticks(fontsize=12)\n",
    "plt.yticks(fontsize=12)\n",
    "plt.ylim([1e-6, 1e-2])\n",
    "plt.xlim([2.5,250])\n",
    "plt.xlabel(r'$\\theta$ (arcmin)', fontsize=16)\n",
    "plt.ylabel(r'$\\gamma_{t}^{IM3}(\\theta)$', fontsize=16)\n",
    "plt.savefig('IM3_binslop=0.png',dpi=300)\n",
    "\n",
    "plt.figure(figsize=[6.25,5.25])\n",
    "plt.errorbar(theta, boost, yerr=boost_sig, lw=0, color='navy', markersize=5, elinewidth=1, capsize=4, marker='o')    \n",
    "plt.xscale('log')\n",
    "plt.xticks(fontsize=12)\n",
    "plt.yticks(fontsize=12)\n",
    "plt.xlim([2.5,250])\n",
    "plt.xlabel(r'$\\theta$ (arcmin)', fontsize=16)\n",
    "plt.ylabel(r'$B(\\theta)$', fontsize=16)\n",
    "plt.savefig('boost_binslop=0.png',dpi=300)\n",
    "\n",
    "plt.figure(figsize=[6,5])\n",
    "plt.errorbar(theta, IA, yerr=IA_sig, lw=0, color='black', markersize=5, elinewidth=1, capsize=4, marker='o')    \n",
    "plt.yscale('log')\n",
    "plt.xscale('log')\n",
    "plt.xticks(fontsize=12)\n",
    "plt.yticks(fontsize=12)\n",
    "plt.ylim([1e-6, 1e-2])\n",
    "plt.xlim([2.5,250])\n",
    "plt.xlabel(r'$\\theta$ (arcmin)', fontsize=16)\n",
    "plt.ylabel(r'$(1-a)\\bar{\\gamma}_{IA}(\\theta)$', fontsize=16)\n",
    "plt.savefig('IA_binslop=0.png',dpi=300)"
   ]
  },
  {
   "cell_type": "code",
   "execution_count": 12,
   "id": "975dcceb-ccb9-4a1d-b330-3ac883f1fb65",
   "metadata": {},
   "outputs": [],
   "source": [
    "with fits.open(data_dir+lens_file) as hdu:\n",
    "    data = hdu[1].data\n",
    "    ra_l = data['RA']\n",
    "    dec_l = data['DEC']\n",
    "    w_l = data['weight']\n",
    "del data\n",
    "\n",
    "cat_l = treecorr.Catalog(ra=ra_l, dec=dec_l, ra_units='deg', dec_units='deg', w=w_l)\n",
    "\n",
    "del ra_l, dec_l, w_l\n",
    "\n",
    "with fits.open(data_dir+rand_file) as hdu:\n",
    "    data = hdu[1].data\n",
    "    ra_r = data['RA']\n",
    "    dec_r = data['DEC']\n",
    "    rand_z = data['z']\n",
    "del data\n",
    "\n",
    "cat_r = treecorr.Catalog(ra=ra_r, dec=dec_r, ra_units='deg', dec_units='deg')\n",
    "\n",
    "del ra_r, dec_r, rand_z\n",
    "\n",
    "with fits.open(data_dir+mcal_file) as hdu:\n",
    "    data = hdu[1].data\n",
    "    ra_s = data['ra']\n",
    "    dec_s = data['dec']\n",
    "    e1 = data['e1']\n",
    "    e2 = data['e2']\n",
    "    R11 = data['R11']\n",
    "del data\n",
    "\n",
    "cat_mcal = treecorr.Catalog(ra=ra_s, dec=dec_s, ra_units='deg', dec_units='deg', g1=e1, g2=e2, w=R11)\n",
    "\n",
    "del ra_s, dec_s, e1, e2, R11\n",
    "\n",
    "with fits.open(data_dir+im3_file) as hdu:\n",
    "    data = hdu[1].data\n",
    "    im3_ID = data['coadd_objects_id']\n",
    "    ra_s = data['ra']\n",
    "    dec_s = data['dec']\n",
    "    e1 = data['e1'] - data['c1']\n",
    "    e2 = data['e2'] - data['c2']\n",
    "    sens = data['m'] + 1.0\n",
    "    w = data['weight']\n",
    "del data\n",
    "\n",
    "with fits.open(data_dir+z_file) as hdu:\n",
    "    data = hdu[1].data\n",
    "    zmc = data['z_mc']\n",
    "    zmc_ID = data['coadd_objects_id']\n",
    "del data\n",
    "\n",
    "matches, zmc_indices, shape_indices = np.intersect1d(zmc_ID, im3_ID, return_indices=True)\n",
    "\n",
    "zmc = zmc[zmc_indices]\n",
    "\n",
    "del zmc_ID, matches, zmc_indices, shape_indices, im3_ID\n",
    "\n",
    "cat_im3 = treecorr.Catalog(ra=ra_s, dec=dec_s, ra_units='deg', dec_units='deg', g1=e1, g2=e2, w=w)\n",
    "\n",
    "del ra_s, dec_s, e1, e2, sens, zmc, w"
   ]
  },
  {
   "cell_type": "code",
   "execution_count": 13,
   "id": "bd8db8a8-0f8f-4da1-b859-5aa0e827bf4d",
   "metadata": {},
   "outputs": [],
   "source": [
    "b_im3 = des.calculate_boost(cat_l, cat_r, cat_im3, 10, 2.5, 250)\n",
    "\n",
    "b_mcal = des.calculate_boost(cat_l, cat_r, cat_mcal, 10, 2.5, 250)"
   ]
  },
  {
   "cell_type": "code",
   "execution_count": 16,
   "id": "e322d69b-0e8d-403b-8b3a-d9fb9f505475",
   "metadata": {},
   "outputs": [
    {
     "name": "stdout",
     "output_type": "stream",
     "text": [
      "[1.03298038 1.0230358  1.01691024 1.01282186 1.00939403 1.00690594\n",
      " 1.00465278 1.00321467 1.00163256 1.000878  ]\n",
      "[1.03169297 1.0226146  1.01668356 1.01267815 1.0092496  1.00678367\n",
      " 1.00458431 1.00312692 1.00153596 1.00085796]\n",
      "0.025594345107549543\n"
     ]
    }
   ],
   "source": [
    "print(b_im3)\n",
    "print(b_mcal)\n",
    "\n",
    "print(100 - np.mean(b_mcal/b_im3 * 100))"
   ]
  }
 ],
 "metadata": {
  "kernelspec": {
   "display_name": "Python [conda env:ccl_tjp]",
   "language": "python",
   "name": "conda-env-ccl_tjp-py"
  },
  "language_info": {
   "codemirror_mode": {
    "name": "ipython",
    "version": 3
   },
   "file_extension": ".py",
   "mimetype": "text/x-python",
   "name": "python",
   "nbconvert_exporter": "python",
   "pygments_lexer": "ipython3",
   "version": "3.9.15"
  }
 },
 "nbformat": 4,
 "nbformat_minor": 5
}
