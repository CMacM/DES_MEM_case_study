{
 "cells": [
  {
   "cell_type": "markdown",
   "id": "24cfe5c8-3c96-4fa4-9316-c21f2589859e",
   "metadata": {},
   "source": [
    "## Verifying treecorr patch stochasiticity's effect on jackknife\n",
    "\n",
    "- Defining patches in catalogue affects resulting values due to different numerical realization\n",
    "- Stochasticity in patches has significant bearing on resulting tangential shear values of similar order to \n",
    "    signal magnitude \n",
    "- Tried adding patches into catalogues to see if it boosted SNR"
   ]
  },
  {
   "cell_type": "code",
   "execution_count": 1,
   "id": "aaa0bc68-c30d-44e6-ac15-ff91d395abd8",
   "metadata": {},
   "outputs": [],
   "source": [
    "import numpy as np\n",
    "import treecorr\n",
    "import des_functions as des\n",
    "from more_itertools import locate\n",
    "import time\n",
    "import astropy.io.fits as fits \n",
    "import matplotlib.pyplot as plt\n",
    "\n",
    "plt.rcParams['figure.facecolor'] = 'white'\n",
    "plt.rcParams['font.family'] = 'serif'\n",
    "plt.rcParams['font.serif'] = ['cmr10']\n",
    "plt.rcParams['mathtext.fontset'] ='cm'\n",
    "data_dir = '/home/b7009348/WGL_project/DES-data/'"
   ]
  },
  {
   "cell_type": "code",
   "execution_count": 4,
   "id": "3cfc4a87-722f-4308-a4c3-fdfb572647f2",
   "metadata": {},
   "outputs": [
    {
     "name": "stdout",
     "output_type": "stream",
     "text": [
      "Patches saved, runtime=1.197099.\n"
     ]
    }
   ],
   "source": [
    "#des.create_patches(lens_file=lens_file, npatches=npatches)"
   ]
  },
  {
   "cell_type": "code",
   "execution_count": 2,
   "id": "07355c1e-06fb-4158-a91a-c623ca348ed3",
   "metadata": {},
   "outputs": [],
   "source": [
    "lens_file = 'DES_Y1A1_Lenses_z=0.3-0.45.fits'\n",
    "rand_file = 'DES_Y1A1_3x2pt_redMaGiC_RANDOMS.fits'\n",
    "im3_file = 'y1_im3_shapes_matched.fits'\n",
    "mcal_file = 'y1_mcal_shapes_matched.fits'\n",
    "z_file = 'mcal_BPZ_(binning).fits'"
   ]
  },
  {
   "cell_type": "code",
   "execution_count": 3,
   "id": "1a67317e-043e-4b37-84f7-d0617975435f",
   "metadata": {},
   "outputs": [],
   "source": [
    "tests = 1\n",
    "npatches= 20\n",
    "num_bins = 20\n",
    "theta_min = 2.5\n",
    "theta_max = 250.0"
   ]
  },
  {
   "cell_type": "code",
   "execution_count": 4,
   "id": "147aebcb-2c01-4e56-90c0-7591c7ed925d",
   "metadata": {
    "tags": []
   },
   "outputs": [
    {
     "name": "stdout",
     "output_type": "stream",
     "text": [
      "Catalogues saved, runtime=47.000660.\n",
      "Patch 0 located and sliced, calculating correlations...\n",
      "IA signal estimated, runtime=158.083698.\n",
      "Patch 1 located and sliced, calculating correlations...\n",
      "IA signal estimated, runtime=145.266926.\n",
      "Patch 2 located and sliced, calculating correlations...\n",
      "IA signal estimated, runtime=144.037107.\n",
      "Patch 3 located and sliced, calculating correlations...\n",
      "IA signal estimated, runtime=229.210448.\n",
      "Patch 4 located and sliced, calculating correlations...\n",
      "IA signal estimated, runtime=110.013446.\n",
      "Patch 5 located and sliced, calculating correlations...\n",
      "IA signal estimated, runtime=113.547309.\n",
      "Patch 6 located and sliced, calculating correlations...\n",
      "IA signal estimated, runtime=192.680087.\n",
      "Patch 7 located and sliced, calculating correlations...\n",
      "IA signal estimated, runtime=185.214113.\n",
      "Patch 8 located and sliced, calculating correlations...\n",
      "IA signal estimated, runtime=282.717402.\n",
      "Patch 9 located and sliced, calculating correlations...\n",
      "IA signal estimated, runtime=205.809646.\n",
      "Patch 10 located and sliced, calculating correlations...\n",
      "IA signal estimated, runtime=198.652201.\n",
      "Patch 11 located and sliced, calculating correlations...\n",
      "IA signal estimated, runtime=413.172196.\n",
      "Patch 12 located and sliced, calculating correlations...\n",
      "IA signal estimated, runtime=120.219566.\n",
      "Patch 13 located and sliced, calculating correlations...\n",
      "IA signal estimated, runtime=105.166652.\n",
      "Patch 14 located and sliced, calculating correlations...\n",
      "IA signal estimated, runtime=106.815349.\n",
      "Patch 15 located and sliced, calculating correlations...\n",
      "IA signal estimated, runtime=102.666204.\n",
      "Patch 16 located and sliced, calculating correlations...\n",
      "IA signal estimated, runtime=102.970485.\n",
      "Patch 17 located and sliced, calculating correlations...\n",
      "IA signal estimated, runtime=117.680489.\n",
      "Patch 18 located and sliced, calculating correlations...\n",
      "IA signal estimated, runtime=243.030678.\n",
      "Patch 19 located and sliced, calculating correlations...\n",
      "IA signal estimated, runtime=272.258949.\n",
      "Full signal estimated, runtime =93.676162.\n",
      "[ 9.43802183e-05  1.86657550e-03  1.40719781e-03 -2.55295914e-04\n",
      " -6.51078079e-05  6.53064049e-04  4.29204973e-04  9.94408327e-05\n",
      "  5.22798168e-04  3.78934484e-04  6.18269575e-05 -5.56187781e-05\n",
      "  1.56824562e-04  1.89447451e-04  7.47752518e-05  9.87335743e-05\n",
      "  1.62952739e-04  1.07624378e-04  5.55231532e-05  6.45335103e-05] [0.0024331  0.00208325 0.00180499 0.00157669 0.00142533 0.00114298\n",
      " 0.00106278 0.00086066 0.00079554 0.00057396 0.00038881 0.00027956\n",
      " 0.00038598 0.00030341 0.00025679 0.00021384 0.00023789 0.00018086\n",
      " 0.0001721  0.00017479]\n"
     ]
    },
    {
     "data": {
      "image/png": "[encoded data removed]",
      "text/plain": [
       "<Figure size 432x360 with 1 Axes>"
      ]
     },
     "metadata": {},
     "output_type": "display_data"
    }
   ],
   "source": [
    "for i in range(tests):\n",
    "    \n",
    "    sep_bins = num_bins\n",
    "\n",
    "    start=time.time()\n",
    "    \n",
    "    with fits.open(data_dir+lens_file) as hdu:\n",
    "        data = hdu[1].data\n",
    "        ra_l = data['RA']\n",
    "        dec_l = data['DEC']\n",
    "        w_l = data['weight']\n",
    "    del data\n",
    "\n",
    "    cat_l = treecorr.Catalog(ra=ra_l, dec=dec_l, ra_units='deg', dec_units='deg', w=w_l, patch_centers=data_dir+'jackknife_patch_centers')\n",
    "\n",
    "    del ra_l, dec_l, w_l\n",
    "\n",
    "    with fits.open(data_dir+rand_file) as hdu:\n",
    "        data = hdu[1].data\n",
    "        indexes = list(locate(data['z'], lambda x: 0.3 < x < 0.45))\n",
    "        ra_r = data['RA'][indexes]\n",
    "        dec_r = data['DEC'][indexes]\n",
    "        rand_z = data['z'][indexes]\n",
    "    del data\n",
    "\n",
    "    cat_r = treecorr.Catalog(ra=ra_r, dec=dec_r, ra_units='deg', dec_units='deg', r=rand_z, patch_centers=data_dir+'jackknife_patch_centers')\n",
    "\n",
    "    del indexes, ra_r, dec_r, rand_z\n",
    "\n",
    "    with fits.open(data_dir+mcal_file) as hdu:\n",
    "        data = hdu[1].data\n",
    "        ra_s = data['ra']\n",
    "        dec_s = data['dec']\n",
    "        e1 = data['e1']\n",
    "        e2 = data['e2']\n",
    "        R11 = data['R11']\n",
    "    del data\n",
    "\n",
    "    cat_mcal = treecorr.Catalog(ra=ra_s, dec=dec_s, ra_units='deg', dec_units='deg', r=R11, g1=e1, g2=e2, patch_centers=data_dir+'jackknife_patch_centers')\n",
    "\n",
    "    del ra_s, dec_s, e1, e2, R11\n",
    "\n",
    "    with fits.open(data_dir+im3_file) as hdu:\n",
    "        data = hdu[1].data\n",
    "        im3_ID = data['coadd_objects_id']\n",
    "        ra_s = data['ra']\n",
    "        dec_s = data['dec']\n",
    "        e1 = data['e1'] - data['c1']\n",
    "        e2 = data['e2'] - data['c2']\n",
    "        sens = data['m'] + 1.0\n",
    "        w = data['weight']\n",
    "    del data\n",
    "\n",
    "    with fits.open(data_dir+z_file) as hdu:\n",
    "        data = hdu[1].data\n",
    "        zmc = data['z_mc']\n",
    "        zmc_ID = data['coadd_objects_id']\n",
    "    del data\n",
    "\n",
    "    matches, zmc_indices, shape_indices = np.intersect1d(zmc_ID, im3_ID, return_indices=True)\n",
    "\n",
    "    zmc = zmc[zmc_indices]\n",
    "\n",
    "    del zmc_ID, matches, zmc_indices, shape_indices, im3_ID\n",
    "\n",
    "    cat_im3 = treecorr.Catalog(ra=ra_s, dec=dec_s, ra_units='deg', dec_units='deg', r=zmc, g1=e1, g2=e2, w=w, \n",
    "                               patch_centers=data_dir+'jackknife_patch_centers')\n",
    "    cat_k = treecorr.Catalog(ra=ra_s, dec=dec_s, ra_units='deg', dec_units='deg', k=sens, w=w, patch_centers=data_dir+'jackknife_patch_centers')\n",
    "\n",
    "    del ra_s, dec_s, e1, e2, sens, zmc, w\n",
    "\n",
    "    end = time.time()\n",
    "    diff=end-start\n",
    "\n",
    "    print('Catalogues created, runtime=%f.'%diff)\n",
    "\n",
    "    IA_jk, IA_sig = des.IA_jackknife(cat_l=cat_l, cat_r=cat_r, cat_mcal=cat_mcal, cat_im3=cat_im3, cat_k=cat_k, sep_bins=sep_bins, npatches=npatches, fbins=810,\n",
    "                                        theta_min=theta_min, theta_max=theta_max)\n",
    "\n",
    "    IA_final, theta = des.IA_full(cat_l=cat_l, cat_r=cat_r, cat_mcal=cat_mcal, cat_im3=cat_im3, cat_k=cat_k, sep_bins=sep_bins, fbins=810, \n",
    "                                      theta_min=theta_min, theta_max=theta_max)                           \n",
    "\n",
    "    plt.figure(figsize=[6,5])\n",
    "    plt.errorbar(theta, IA_final, yerr=IA_sig, lw=0, marker='o', color='navy', markersize=5, elinewidth=1, capsize=3)\n",
    "    #plt.plot(theta, IA_final, lw=0, marker='o', color='navy', markersize=5)\n",
    "    plt.yscale('log')\n",
    "    plt.xscale('log')\n",
    "    plt.ylim([1e-6, 1e-2])\n",
    "    plt.xlim([2.5,250])\n",
    "    plt.xlabel(r'$\\theta$ (arcmin)')\n",
    "    plt.ylabel(r'$\\bar{\\gamma}_{IA}(\\theta)$')\n",
    "    plt.title(r'$0.30<z_{l}<0.45$')\n",
    "    plt.savefig('IA_catalogues_test_%d.png'%i, dpi=300)\n",
    "                                     \n",
    "    print(IA_final, IA_sig) \n",
    "    \n",
    "    del cat_l, cat_r, cat_im3, cat_mcal, cat_k"
   ]
  },
  {
   "cell_type": "code",
   "execution_count": 5,
   "id": "2a451eac-d0e9-42ec-b343-6983018d4dea",
   "metadata": {},
   "outputs": [
    {
     "name": "stdout",
     "output_type": "stream",
     "text": [
      "[  2.82731864   3.56796427   4.49305216   5.65806294   7.12415253\n",
      "   8.97030088  11.29236782  14.21718383  17.89872423  22.53156662\n",
      "  28.36548922  35.70720448  44.94926833  56.58543056  71.22799859\n",
      "  89.6668494  112.87004928 142.09063956 178.86924524 225.14564211]\n"
     ]
    }
   ],
   "source": [
    "print(theta)"
   ]
  }
 ],
 "metadata": {
  "kernelspec": {
   "display_name": "Python 3",
   "language": "python",
   "name": "python3"
  },
  "language_info": {
   "codemirror_mode": {
    "name": "ipython",
    "version": 3
   },
   "file_extension": ".py",
   "mimetype": "text/x-python",
   "name": "python",
   "nbconvert_exporter": "python",
   "pygments_lexer": "ipython3",
   "version": "3.8.0"
  }
 },
 "nbformat": 4,
 "nbformat_minor": 5
}
